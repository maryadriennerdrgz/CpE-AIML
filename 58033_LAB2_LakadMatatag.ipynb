{
  "nbformat": 4,
  "nbformat_minor": 0,
  "metadata": {
    "colab": {
      "name": "58033_LAB2_LakadMatatag.ipynb",
      "provenance": [],
      "include_colab_link": true
    },
    "kernelspec": {
      "name": "python3",
      "display_name": "Python 3"
    },
    "language_info": {
      "name": "python"
    }
  },
  "cells": [
    {
      "cell_type": "markdown",
      "metadata": {
        "id": "view-in-github",
        "colab_type": "text"
      },
      "source": [
        "<a href=\"https://colab.research.google.com/github/maryadriennerdrgz/CpE-AIML/blob/main/58033_LAB2_LakadMatatag.ipynb\" target=\"_parent\"><img src=\"https://colab.research.google.com/assets/colab-badge.svg\" alt=\"Open In Colab\"/></a>"
      ]
    },
    {
      "cell_type": "code",
      "metadata": {
        "id": "x1FGywYqDIuM"
      },
      "source": [
        "import numpy as np"
      ],
      "execution_count": 2,
      "outputs": []
    },
    {
      "cell_type": "code",
      "metadata": {
        "id": "VxgDyX7rDKcy"
      },
      "source": [
        "class LRegression():\n",
        "  def __init__(self, dataFrame, y_GndTruth, thetaVector):\n",
        "    self.dataFrame = dataFrame\n",
        "    self.y_GndTruth = y_GndTruth\n",
        "    self.thetaVector = thetaVector\n",
        "\n",
        "  def getVectorMagnitude(self):\n",
        "    magnitude - np.linalg.norm(self.thetaVector)\n",
        "    return magnitude\n",
        "\n",
        "  def getZ(self):  ## Eq. 3.1\n",
        "    self.z = np.dot(self.dataFrame, self.thetaVector)\n",
        "    return self.z\n",
        "  \n",
        "  def getActivation (self): ## Eq 3.2 and Eq. 3.3\n",
        "    self.activation = 1/(1+np.exp(self.z))\n",
        "    return self.activation\n",
        "  \n",
        "  def getLoss(self):  ## Eq. 3.4\n",
        "    m = self.y_GndTruth.shape[0]\n",
        "    yt = self.y_GndTruth.transpose()\n",
        "\n",
        "    lossEq = (-1*yt) * (np.log(self.activation)) - ((1-self.y_GndTruth).transpose()) * (np.log(1-self.activation))\n",
        "    self.j = (1/m) *lossEq\n",
        "    return self.j\n"
      ],
      "execution_count": 8,
      "outputs": []
    },
    {
      "cell_type": "code",
      "metadata": {
        "id": "zadO5KykDLwx"
      },
      "source": [
        "X = np.array ([[0, 1, 0],\n",
        "              [1, 0, 1],\n",
        "              [0, -1, 0],\n",
        "    \n",
        "])\n",
        "m = X.shape[1]\n",
        "theta = np.random.normal(0,1, size = (m, 1))\n",
        "y = np.random.randint(0,2, size = (m,1))\n",
        "Regression = LRegression(X, y, theta)"
      ],
      "execution_count": 17,
      "outputs": []
    },
    {
      "cell_type": "code",
      "metadata": {
        "id": "E_0KtrCLDPAB"
      },
      "source": [
        "Regression = LRegression(X, y, theta)"
      ],
      "execution_count": 18,
      "outputs": []
    },
    {
      "cell_type": "code",
      "metadata": {
        "colab": {
          "base_uri": "https://localhost:8080/"
        },
        "id": "Cwy33vEHDStJ",
        "outputId": "baeabe01-c229-4905-c098-dec2c70d4bef"
      },
      "source": [
        "Regression.getVectorMagnitude"
      ],
      "execution_count": 19,
      "outputs": [
        {
          "output_type": "execute_result",
          "data": {
            "text/plain": [
              "<bound method LRegression.getVectorMagnitude of <__main__.LRegression object at 0x7f3961aeabd0>>"
            ]
          },
          "metadata": {},
          "execution_count": 19
        }
      ]
    },
    {
      "cell_type": "code",
      "metadata": {
        "colab": {
          "base_uri": "https://localhost:8080/"
        },
        "id": "ZxnYoL5SDUjJ",
        "outputId": "c2d9837f-2812-4a48-cbe7-7fcc825ece04"
      },
      "source": [
        "Regression.getZ()"
      ],
      "execution_count": 20,
      "outputs": [
        {
          "output_type": "execute_result",
          "data": {
            "text/plain": [
              "array([[-0.32803489],\n",
              "       [ 0.05497821],\n",
              "       [ 0.32803489]])"
            ]
          },
          "metadata": {},
          "execution_count": 20
        }
      ]
    },
    {
      "cell_type": "code",
      "metadata": {
        "colab": {
          "base_uri": "https://localhost:8080/"
        },
        "id": "jcnWgLtPDU9S",
        "outputId": "9f367260-346b-43c0-c261-0bbbab9e682e"
      },
      "source": [
        "Regression.getActivation()"
      ],
      "execution_count": 21,
      "outputs": [
        {
          "output_type": "execute_result",
          "data": {
            "text/plain": [
              "array([[0.58128116],\n",
              "       [0.48625891],\n",
              "       [0.41871884]])"
            ]
          },
          "metadata": {},
          "execution_count": 21
        }
      ]
    },
    {
      "cell_type": "code",
      "metadata": {
        "id": "Sa2WsXKGDdcf",
        "colab": {
          "base_uri": "https://localhost:8080/"
        },
        "outputId": "8cedcd1b-86c2-4394-ac9b-671d459cdacb"
      },
      "source": [
        "Regression.getLoss()"
      ],
      "execution_count": 22,
      "outputs": [
        {
          "output_type": "execute_result",
          "data": {
            "text/plain": [
              "array([[0.18084024, 0.2901852 , 0.2901852 ],\n",
              "       [0.24033802, 0.22201195, 0.22201195],\n",
              "       [0.2901852 , 0.18084024, 0.18084024]])"
            ]
          },
          "metadata": {},
          "execution_count": 22
        }
      ]
    }
  ]
}