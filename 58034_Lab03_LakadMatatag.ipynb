{
  "nbformat": 4,
  "nbformat_minor": 0,
  "metadata": {
    "colab": {
      "name": " 58034_Lab03_LakadMatatag.ipynb",
      "provenance": [],
      "collapsed_sections": [],
      "include_colab_link": true
    },
    "kernelspec": {
      "name": "python3",
      "display_name": "Python 3"
    },
    "language_info": {
      "name": "python"
    }
  },
  "cells": [
    {
      "cell_type": "markdown",
      "metadata": {
        "id": "view-in-github",
        "colab_type": "text"
      },
      "source": [
        "<a href=\"https://colab.research.google.com/github/maryadriennerdrgz/CpE-AIML/blob/main/58034_Lab03_LakadMatatag.ipynb\" target=\"_parent\"><img src=\"https://colab.research.google.com/assets/colab-badge.svg\" alt=\"Open In Colab\"/></a>"
      ]
    },
    {
      "cell_type": "markdown",
      "metadata": {
        "id": "MpJlDXlItfea"
      },
      "source": [
        "# Topic 4 Lab 1: Simple Linear Regression\n",
        "$_{\\text{©D.J. Lopez | 2021 | Fundamentals of Machine Learning}}$"
      ]
    },
    {
      "cell_type": "markdown",
      "metadata": {
        "id": "NxfvdPKXt9CA"
      },
      "source": [
        "Create a class named `LinearRegression_Simple()` wherein it can compute for the linear regression for a single variable. The class will be required to have the following helper methods:\n",
        "> 1. `covariance(vectA, vectB)`\n",
        ">> input: 2 single-dimension vectors\n",
        ">>\n",
        ">> output: the covariance between the two input vectors (scalar) \n",
        "> 2. `pearsons_R(vectA, vectB)`\n",
        ">> input: 2 single-dimension vectors\n",
        ">>\n",
        ">> output: the correlation between the two input vectors (scalar)\n",
        "> 3. `train(X, y)`\n",
        ">> input: 2 single-dimension vectors\n",
        ">>\n",
        ">> output: the weights of the linear regressor.\n",
        "> 4. `predict(x)`\n",
        ">> input: A testing vector. *Note*: this function should accept both scalar and vector values.\n",
        ">>\n",
        ">> output: the predicted value. Note: the procedure in solving for the predicted value should be vectorized. Use the concept of matrix multiplication.\n",
        "> 5. `evaluate()`\n",
        ">> input: \n",
        ">>\n",
        ">> output: a `dictionary` that displays the SST, SSR, SST, MSE, RMSE, R-squared, and the Adjusted R-squared of the model. Note: You should use the `predict()` method here.\n",
        "> 5. `visualize()`\n",
        ">> input: *none*\n",
        ">>\n",
        ">> output: a visualization of the linear regressor over the input dataset. It should be saved as a .jpg file into the running notebook with a dpi of 400."
      ]
    },
    {
      "cell_type": "code",
      "metadata": {
        "id": "HJ5d9yB8x4y5"
      },
      "source": [
        "import numpy as np\n",
        "import matplotlib.pyplot as plt\n",
        "## No other packages or libraries can be added in this cell"
      ],
      "execution_count": 1,
      "outputs": []
    },
    {
      "cell_type": "code",
      "metadata": {
        "id": "0UVg9Zo6td0j"
      },
      "source": [
        "### YOUR CODE HERE\n",
        "class LinearRegression_Simple():\n",
        "\n",
        "  def covariance(self, X, y):\n",
        "    self.X1 = X - X.mean()\n",
        "    self.y1 = y - y.mean()\n",
        "    self.sum = sum([self.X1[i]*self.y1[i] for i in range(len(self.X1))])\n",
        "    c = len(X) - 1\n",
        "    covar = self.sum/c\n",
        "\n",
        "    return print(\"covariance(X, y) =\", covar)\n",
        "\n",
        "  def pearsons_r(self, X, y):\n",
        "    stdX1 = sum([self.X1[i] ** 2.0 for i in range(len(self.X1))])\n",
        "    stdy1 = sum([self.y1[i] ** 2.0 for i in range(len(self.y1))])\n",
        "    stdXy1 = (stdX1 * stdy1) ** (1 / 2)\n",
        "    self.correlation = self.sum/stdXy1\n",
        "\n",
        "    return print(\"r =\", self.correlation)\n",
        "\n",
        "  def train(self, X, y):\n",
        "    stdX2 = np.std(X) \n",
        "    stdy2 = np.std(y)\n",
        "    self.w1 = self.correlation * (stdy2 / stdX2)\n",
        "    self.w0 = y.mean() - self.w1 * X.mean()\n",
        "    self.model_ = print(\"w1:\", self.w1, \"\\nw0:\", self.w0,)\n",
        "\n",
        "    return self.model_\n",
        "\n",
        "  def predict(self, x):\n",
        "    self.pred = self.w0 + np.dot(self.w1, x.reshape(x.size, 1))\n",
        "    index = np.array(list(range(0, self.pred.size)))\n",
        "\n",
        "    return print(\"y_hat(i)=\",np.array(self.pred), \"\\ni = \",index)\n",
        "\n",
        "  def evaluate(self):\n",
        "    n = y.size \n",
        "    k = 1\n",
        "    self.predsize = self.pred.size\n",
        "\n",
        "    SST = np.sum(np.square(y-y.mean()))\n",
        "    SSR = np.sum(np.square(self.pred-y.mean()))\n",
        "    SSE = np.sum(np.square(self.pred-y[0:self.predsize]))\n",
        "    MSE = np.mean(np.square(self.pred - y[0:self.predsize]))\n",
        "    RMSE = np.sqrt(MSE)\n",
        "    r_squared = 1 - (SSE/SST)\n",
        "    ar_squared = 1 - ((1 - r_squared)*(n - 1)/(n-k-1))\n",
        "    model_stats1 = {'SST' : SST,\n",
        "                    'SSR' : SSR,\n",
        "                    'SSE' : SSE,\n",
        "                    'MSE' : MSE,\n",
        "                    'RMSE' : RMSE,\n",
        "                    'R-squared' : r_squared,\n",
        "                    'Adjusted R-squared' : ar_squared\n",
        "                   }\n",
        "\n",
        "    return model_stats1\n",
        "\n",
        "  def visualize(self):\n",
        "    plt.scatter(X[0:self.predsize], y[0:self.predsize])\n",
        "    plt.plot(X[0:self.predsize], self.pred, color='red')\n",
        "    plt.grid()\n",
        "    plt.savefig(\"Regression.jpg\", dpi = 400)\n",
        "\n",
        "    plt.show()\n",
        "\n",
        "  ### You may add other helper functions in to make your code cleaner"
      ],
      "execution_count": 2,
      "outputs": []
    },
    {
      "cell_type": "code",
      "metadata": {
        "id": "WfpcPrkYxXJJ"
      },
      "source": [
        "### Testing Data\n",
        "### DO NOT DELETE NOR MODIFY THIS CELL\n",
        "\n",
        "np.random.seed(123)\n",
        "X = np.arange(0,100,1,dtype=np.float64) ## features\n",
        "m = np.random.uniform(0.3,0.8,(100,)) ## weights\n",
        "b = np.random.uniform(8,10,(100,)) ## biases\n",
        "y = -m*X-b  ## targets\n",
        "X_test = np.arange(100,300,1,dtype=np.float64)"
      ],
      "execution_count": 3,
      "outputs": []
    },
    {
      "cell_type": "code",
      "metadata": {
        "id": "04QWyv34xQMK"
      },
      "source": [
        "## TEST #1 (Max pts: 5)\n",
        "## DO NOT DELETE NOR MODIFY THIS CELL\n",
        "regressor = LinearRegression_Simple()"
      ],
      "execution_count": 4,
      "outputs": []
    },
    {
      "cell_type": "code",
      "metadata": {
        "id": "UUkoBEMryVvx",
        "colab": {
          "base_uri": "https://localhost:8080/"
        },
        "outputId": "b4f32b48-c3c3-4862-ed3c-9f2ff4e7e602"
      },
      "source": [
        "## TEST #2 (Max pts: 5)\n",
        "## DO NOT DELETE NOR MODIFY THIS CELL\n",
        "cov = regressor.covariance(X, y)\n",
        "cov"
      ],
      "execution_count": 5,
      "outputs": [
        {
          "output_type": "stream",
          "name": "stdout",
          "text": [
            "covariance(X, y) = -456.66330121164833\n"
          ]
        }
      ]
    },
    {
      "cell_type": "markdown",
      "metadata": {
        "id": "juJUyR5zye-x"
      },
      "source": [
        "Expected output value:\n",
        "$$cov_{x,y} = -456.66$$"
      ]
    },
    {
      "cell_type": "code",
      "metadata": {
        "id": "jN1SaeSUyt7I",
        "colab": {
          "base_uri": "https://localhost:8080/"
        },
        "outputId": "2a937b61-e8ab-4509-c159-cc6af7d324ab"
      },
      "source": [
        "## TEST #3 (Max pts: 10)\n",
        "## DO NOT DELETE NOR MODIFY THIS CELL\n",
        "r = regressor.pearsons_r(X,y)\n",
        "r"
      ],
      "execution_count": 6,
      "outputs": [
        {
          "output_type": "stream",
          "name": "stdout",
          "text": [
            "r = -0.9050803915258334\n"
          ]
        }
      ]
    },
    {
      "cell_type": "markdown",
      "metadata": {
        "id": "Q3vAJZWAzBmZ"
      },
      "source": [
        "Expected output value:\n",
        "$$r = -0.90$$"
      ]
    },
    {
      "cell_type": "code",
      "metadata": {
        "id": "SFDJhUNnzUGh",
        "colab": {
          "base_uri": "https://localhost:8080/"
        },
        "outputId": "3370e546-e514-415c-98c1-0dfc7dcea2cf"
      },
      "source": [
        "## TEST #4 (Max pts: 15)\n",
        "## DO NOT DELETE NOR MODIFY THIS CELL\n",
        "regressor.train(X,y)\n",
        "regressor.model_"
      ],
      "execution_count": 7,
      "outputs": [
        {
          "output_type": "stream",
          "name": "stdout",
          "text": [
            "w1: -0.5425702588653247 \n",
            "w0: -9.378797103736638\n"
          ]
        }
      ]
    },
    {
      "cell_type": "markdown",
      "metadata": {
        "id": "-e-WrFSG0Y1Z"
      },
      "source": [
        "Expected output value:\n",
        "$$\\omega = \\begin{bmatrix}\\omega_1 \\\\ \\omega_0\\end{bmatrix} = \\begin{bmatrix}-0.54 \\\\ -9.38\\end{bmatrix}$$"
      ]
    },
    {
      "cell_type": "code",
      "metadata": {
        "id": "xYiwOjWD2I18",
        "colab": {
          "base_uri": "https://localhost:8080/"
        },
        "outputId": "13cda8b6-1002-4177-979c-de025b0adf03"
      },
      "source": [
        "## TEST #5 (Max pts: 25)\n",
        "## DO NOT DELETE NOR MODIFY THIS CELL\n",
        "preds = regressor.predict(X_test[:5])\n",
        "preds"
      ],
      "execution_count": 8,
      "outputs": [
        {
          "output_type": "stream",
          "name": "stdout",
          "text": [
            "y_hat(i)= [[-63.63582299]\n",
            " [-64.17839325]\n",
            " [-64.72096351]\n",
            " [-65.26353377]\n",
            " [-65.80610403]] \n",
            "i =  [0 1 2 3 4]\n"
          ]
        }
      ]
    },
    {
      "cell_type": "markdown",
      "metadata": {
        "id": "oozhSInd2esS"
      },
      "source": [
        "Expected output value:\n",
        "$$\\hat{y}_i = \\begin{bmatrix} -63.64 \\\\ -64.18 \\\\ -64.72 \\\\ -65.26 \\\\ -65.81 \\end{bmatrix}, i = \\{0,1,2,3,4\\}$$"
      ]
    },
    {
      "cell_type": "code",
      "metadata": {
        "id": "l2CTjl1805Cq",
        "colab": {
          "base_uri": "https://localhost:8080/"
        },
        "outputId": "05b52be0-c175-4e3a-8883-dee17180bf05"
      },
      "source": [
        "## TEST #6 (Max pts: 30)\n",
        "## DO NOT DELETE NOR MODIFY THIS CELL\n",
        "model_stats = regressor.evaluate()\n",
        "model_stats"
      ],
      "execution_count": 9,
      "outputs": [
        {
          "output_type": "execute_result",
          "data": {
            "text/plain": [
              "{'Adjusted R-squared': -1.5429531200388182,\n",
              " 'MSE': 3015.103360869995,\n",
              " 'R-squared': -1.5172667248869112,\n",
              " 'RMSE': 54.90995684636799,\n",
              " 'SSE': 75377.58402174988,\n",
              " 'SSR': 4059.902457360765,\n",
              " 'SST': 29944.21817780801}"
            ]
          },
          "metadata": {},
          "execution_count": 9
        }
      ]
    },
    {
      "cell_type": "code",
      "metadata": {
        "id": "oH5K49uT00CB",
        "colab": {
          "base_uri": "https://localhost:8080/",
          "height": 265
        },
        "outputId": "569deb80-6722-4831-b129-69cc83a085ef"
      },
      "source": [
        "## TEST #7 (Max pts: 10)\n",
        "## DO NOT DELETE NOR MODIFY THIS CELL\n",
        "regressor.visualize()"
      ],
      "execution_count": 10,
      "outputs": [
        {
          "output_type": "display_data",
          "data": {
            "image/png": "[encoded data removed]",
            "text/plain": [
              "<Figure size 432x288 with 1 Axes>"
            ]
          },
          "metadata": {
            "needs_background": "light"
          }
        }
      ]
    }
  ]
}