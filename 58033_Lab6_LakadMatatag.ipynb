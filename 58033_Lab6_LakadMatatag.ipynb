{
  "nbformat": 4,
  "nbformat_minor": 0,
  "metadata": {
    "colab": {
      "name": "58033_Lab6_LakadMatatag.ipynb",
      "provenance": [],
      "collapsed_sections": [],
      "include_colab_link": true
    },
    "kernelspec": {
      "name": "python3",
      "display_name": "Python 3"
    },
    "language_info": {
      "name": "python"
    }
  },
  "cells": [
    {
      "cell_type": "markdown",
      "metadata": {
        "id": "view-in-github",
        "colab_type": "text"
      },
      "source": [
        "<a href=\"https://colab.research.google.com/github/maryadriennerdrgz/CpE-AIML/blob/main/58033_Lab6_LakadMatatag.ipynb\" target=\"_parent\"><img src=\"https://colab.research.google.com/assets/colab-badge.svg\" alt=\"Open In Colab\"/></a>"
      ]
    },
    {
      "cell_type": "markdown",
      "metadata": {
        "id": "GDPzQ-B7jlCr"
      },
      "source": [
        "# Topic 05.2: Perceptrons, Gradient Descent, and Backpropagation\n",
        "$_{\\text{©D.J. Lopez | 2021 | Fundamentals of Machine Learning}}$\n",
        "\n"
      ]
    },
    {
      "cell_type": "markdown",
      "metadata": {
        "id": "0keqpG0ojgp0"
      },
      "source": [
        "### Part 1: Perceptron Algorithm\n",
        "The Perceptron was first conceptualized by Frank Rosenblatt in his paper [The Perceptron: A Probabilistic Model for Information Storage and Organization in the Brain](https://citeseerx.ist.psu.edu/viewdoc/download?doi=10.1.1.335.3398&rep=rep1&type=pdf) in 1958. The perceptron is one of the earliest mathematical conceptualization of a brain neuron. In simplest terms, a perceptron does a weighted sum of all inputs and then performs an activation. In the early implementations of the perceptron the activation used was a step function described as:\n",
        "$$step(z) = \\left\\{\n",
        "  \\begin{array}\\\\\n",
        "    1 \\text{ if } \\ b+ \\sum w_iX_n\\geq 0 \\\\\n",
        "    0 \\text{ otherwise}\n",
        "    \\end{array}\n",
        "\\right.\n",
        "$$\n",
        "![image](https://jontysinai.github.io/assets/article_images/2017-11-11-the-perceptron/bio-vs-MCP.png)"
      ]
    },
    {
      "cell_type": "code",
      "metadata": {
        "id": "qf8u6x3nkUj6"
      },
      "source": [
        "import numpy as np\n",
        "import matplotlib.pyplot as plt\n",
        "import seaborn as sns\n",
        "from sklearn.metrics import confusion_matrix"
      ],
      "execution_count": null,
      "outputs": []
    },
    {
      "cell_type": "code",
      "metadata": {
        "id": "Rho0Jc7jjHiB",
        "colab": {
          "base_uri": "https://localhost:8080/"
        },
        "outputId": "1b9ed585-1f07-4420-d792-da4caac3c951"
      },
      "source": [
        "## Creating a dataset\n",
        "N = 100\n",
        "cov = 0\n",
        "center1 = np.array([0, 1.6]).T\n",
        "cov_mat1 = np.array([\n",
        "                    [1,cov],\n",
        "                    [cov,1]\n",
        "])\n",
        "\n",
        "center2 = np.array([0, -1.6]).T\n",
        "cov_mat2 = np.array([\n",
        "                    [1,cov],\n",
        "                    [cov,1]\n",
        "])\n",
        "\n",
        "np.random.seed(0)\n",
        "X1 = np.array(np.random.multivariate_normal(center1,cov_mat1,int(N/2)))\n",
        "X2 = np.array(np.random.multivariate_normal(center2,cov_mat2,int(N/2)))\n",
        "## We'll declare another gaussian distribution with a different mean\n",
        "\n",
        "X_train = np.concatenate((X1, X2), axis=0)\n",
        "y_train = np.array([np.ones(int(N/2)), np.zeros(int(N-(N/2)))]).reshape((-1,1))\n",
        "\n",
        "plt.figure(figsize=(8,8))\n",
        "plt.scatter(X1[:,0],X1[:,1], c='r', label='1')\n",
        "plt.scatter(X2[:,0],X2[:,1], c='b', label='0')\n",
        "plt.ylabel(\"Some Target\")\n",
        "plt.xlabel(\"Some Feature\")\n",
        "plt.legend()\n",
        "plt.grid()\n",
        "plt.show()"
      ],
      "execution_count": null,
      "outputs": [
        {
          "output_type": "display_data",
          "data": {
            "image/png": "[encoded data removed]",
            "text/plain": [
              "<Figure size 576x576 with 1 Axes>"
            ]
          },
          "metadata": {}
        }
      ]
    },
    {
      "cell_type": "code",
      "metadata": {
        "id": "d8pZQ4C1eDfv"
      },
      "source": [
        "np.random.seed(0)\n",
        "M = N*0.4\n",
        "X_1_test = np.array(np.random.multivariate_normal(center1,cov_mat1,int(M/2)))\n",
        "X_2_test = np.array(np.random.multivariate_normal(center2,cov_mat2,int(M/2)))\n",
        "\n",
        "X_test = np.concatenate((X_1_test, X_2_test), axis=0)\n",
        "y_test = np.array([np.ones(int(M/2)), np.zeros(int(M-(M/2)))]).reshape((-1,1))"
      ],
      "execution_count": null,
      "outputs": []
    },
    {
      "cell_type": "code",
      "metadata": {
        "colab": {
          "base_uri": "https://localhost:8080/"
        },
        "id": "6qlPPyJ7qU_j",
        "outputId": "f1d5e853-9240-4fb3-fbe5-fef2ba9d5f9f"
      },
      "source": [
        "plt.figure(figsize=(8,8))\n",
        "plt.scatter(X_test[:20,0],X_test[:20,1], c='r', label='1')\n",
        "plt.scatter(X2[20:,0],X2[20:,1], c='b', label='0')\n",
        "plt.ylabel(\"Some Target\")\n",
        "plt.xlabel(\"Some Feature\")\n",
        "plt.legend()\n",
        "plt.grid()\n",
        "plt.show()"
      ],
      "execution_count": null,
      "outputs": [
        {
          "output_type": "display_data",
          "data": {
            "image/png": "[encoded data removed]",
            "text/plain": [
              "<Figure size 576x576 with 1 Axes>"
            ]
          },
          "metadata": {}
        }
      ]
    },
    {
      "cell_type": "code",
      "metadata": {
        "id": "6XxnCkyej3WT"
      },
      "source": [
        "def step_activation(z):\n",
        "  \"\"\"\n",
        "  Compute the step activation of z\n",
        "\n",
        "  Arguments:\n",
        "  z -- A scalar or numpy array of any size.\n",
        "\n",
        "  Return:\n",
        "  filtered step activations step(z)\n",
        "  \"\"\"\n",
        "  return np.where(z>=0, 1,0)"
      ],
      "execution_count": null,
      "outputs": []
    },
    {
      "cell_type": "code",
      "metadata": {
        "id": "kOIqNkFkj67a"
      },
      "source": [
        "def init_weights(dim):\n",
        "  \"\"\"\n",
        "  Does a zero-initialization of the weights and bias\n",
        "\n",
        "  Arguments:\n",
        "  dim -- Desired dimension for the weights.\n",
        "\n",
        "  Return:\n",
        "  w -- initialized weights\n",
        "  b -- initilaized bias\n",
        "  \"\"\"\n",
        "  w = np.zeros(shape=(dim,1))\n",
        "  b = 0\n",
        "  return w, b"
      ],
      "execution_count": null,
      "outputs": []
    },
    {
      "cell_type": "code",
      "metadata": {
        "id": "fElfMzdZj8pV"
      },
      "source": [
        "def sum_err(preds,y):\n",
        "  \"\"\"\n",
        "  Computes the Sum of Squared Errors for a set of predictions\n",
        "  and truth values\n",
        "\n",
        "  Arguments:\n",
        "  preds -- Set of predictions.\n",
        "  y -- Set of truth values\n",
        "\n",
        "  Return:\n",
        "  sse -- Sum of the squared errors\n",
        "  \"\"\"\n",
        "  sse = np.sum(np.square(y-preds))\n",
        "  return sse"
      ],
      "execution_count": null,
      "outputs": []
    },
    {
      "cell_type": "code",
      "metadata": {
        "id": "Q_0BcXuqj_GS"
      },
      "source": [
        "def accuracy(preds, Y):\n",
        "  \"\"\"\n",
        "  Computes the accuracy for a set of predictions\n",
        "  and truth values\n",
        "\n",
        "  Arguments:\n",
        "  preds -- Set of predictions.\n",
        "  y -- Set of truth values\n",
        "\n",
        "  Return:\n",
        "  accuracy -- Computed accuracy\n",
        "  \"\"\"\n",
        "  accuracy = 1-np.mean(np.abs(preds-Y))\n",
        "  return accuracy"
      ],
      "execution_count": null,
      "outputs": []
    },
    {
      "cell_type": "code",
      "metadata": {
        "id": "FVXVGAl6kDgD"
      },
      "source": [
        "def propagate(X,y,w,b):\n",
        "\n",
        "  # Compute for the transformed vector of the \n",
        "  # dataset w.r.t the weights and biases\n",
        "  z = (X@w) + b\n",
        "\n",
        "  # Compute for the step activation\n",
        "  A = step_activation(z) ## aka preds or hypothesis\n",
        "\n",
        "  # Compute for the prediction error\n",
        "  error = A-y\n",
        "  acc = accuracy(y,A)\n",
        "\n",
        "  # Update the weights and biases\n",
        "  # Learning/Update routine\n",
        "  w = np.dot(X.T,error)\n",
        "  b = np.sum(error)\n",
        "\n",
        "  # Compute the cost\n",
        "  cost = sum_err(A,y)\n",
        "\n",
        "  # Store the parameters in a dictionary for tracking\n",
        "  grads = {\"dw\": w,\n",
        "           \"db\": b}\n",
        "  \n",
        "  return grads, cost, acc"
      ],
      "execution_count": null,
      "outputs": []
    },
    {
      "cell_type": "code",
      "metadata": {
        "id": "zPGwNd4AkFVz",
        "colab": {
          "base_uri": "https://localhost:8080/"
        },
        "outputId": "9bcb468d-4ffb-47c2-fe3b-fe79ca90d9b1"
      },
      "source": [
        "w,b = init_weights(X_train.shape[1])\n",
        "propagate(X_train,y_train,w,b)"
      ],
      "execution_count": null,
      "outputs": [
        {
          "output_type": "execute_result",
          "data": {
            "text/plain": [
              "({'db': 50.0, 'dw': array([[ -0.93607635],\n",
              "         [-70.86262658]])}, 50.0, 0.5)"
            ]
          },
          "metadata": {},
          "execution_count": 309
        }
      ]
    },
    {
      "cell_type": "code",
      "metadata": {
        "id": "lAy-JGQnkIA3"
      },
      "source": [
        "def train(w, b, X, y, lr, epochs, early_stopping=True, stop_thresh=0.9):\n",
        "  costs = []\n",
        "  accuracies = []\n",
        "\n",
        "  for i in range(epochs):\n",
        "    # Do a forward propagation to obtain the gradients\n",
        "    grads, cost, accuracy = propagate(X,y,w,b)\n",
        "\n",
        "    # Locally store the gradients    \n",
        "    dw=grads['dw']\n",
        "    db=grads['db']\n",
        "\n",
        "    # Update routine per epoch\n",
        "    w = w - lr*dw\n",
        "    b = b - lr*db\n",
        "\n",
        "    # Store the costs per epoch for logs      \n",
        "    \n",
        "    if i % 1 == 0:\n",
        "      print (f\"Epoch {i}: Loss: {cost} Accuracy: {accuracy}\")\n",
        "      costs.append(cost)\n",
        "      accuracies.append(accuracy)\n",
        "\n",
        "    # Store the learned parameters for logs\n",
        "    params = {\"w\": w,\n",
        "              \"b\": b}\n",
        "    \n",
        "    grads = {\"dw\": dw,\n",
        "             \"db\": db}\n",
        "    if early_stopping and accuracy >= stop_thresh:\n",
        "      print(f\"Target metric met, stopping the training at {i} epoch(s).\\n\")\n",
        "      break\n",
        "\n",
        "  return params, grads, costs"
      ],
      "execution_count": null,
      "outputs": []
    },
    {
      "cell_type": "code",
      "metadata": {
        "id": "kVspdyK0kK87",
        "colab": {
          "base_uri": "https://localhost:8080/"
        },
        "outputId": "0b39f36b-4542-4795-90d0-7a6a63f084b8"
      },
      "source": [
        "w,b = init_weights(X_train.shape[1])\n",
        "learning_rate = 0.00001\n",
        "epochs = 100\n",
        "\n",
        "params, grads, costs = train(w, b, X_train, y_train, \n",
        "                             lr=learning_rate, epochs=epochs, \n",
        "                             early_stopping=True, stop_thresh=0.99)\n",
        "\n",
        "print (\"w = \" + str(params[\"w\"]))\n",
        "print (\"b = \" + str(params[\"b\"]))\n",
        "print (\"dw = \" + str(grads[\"dw\"]))\n",
        "print (\"db = \" + str(grads[\"db\"]))"
      ],
      "execution_count": null,
      "outputs": [
        {
          "output_type": "stream",
          "name": "stdout",
          "text": [
            "Epoch 0: Loss: 50.0 Accuracy: 0.5\n",
            "Epoch 1: Loss: 8.0 Accuracy: 0.92\n",
            "Epoch 2: Loss: 7.0 Accuracy: 0.9299999999999999\n",
            "Epoch 3: Loss: 7.0 Accuracy: 0.9299999999999999\n",
            "Epoch 4: Loss: 5.0 Accuracy: 0.95\n",
            "Epoch 5: Loss: 5.0 Accuracy: 0.95\n",
            "Epoch 6: Loss: 7.0 Accuracy: 0.9299999999999999\n",
            "Epoch 7: Loss: 7.0 Accuracy: 0.9299999999999999\n",
            "Epoch 8: Loss: 7.0 Accuracy: 0.9299999999999999\n",
            "Epoch 9: Loss: 7.0 Accuracy: 0.9299999999999999\n",
            "Epoch 10: Loss: 8.0 Accuracy: 0.92\n",
            "Epoch 11: Loss: 7.0 Accuracy: 0.9299999999999999\n",
            "Epoch 12: Loss: 8.0 Accuracy: 0.92\n",
            "Epoch 13: Loss: 7.0 Accuracy: 0.9299999999999999\n",
            "Epoch 14: Loss: 8.0 Accuracy: 0.92\n",
            "Epoch 15: Loss: 5.0 Accuracy: 0.95\n",
            "Epoch 16: Loss: 8.0 Accuracy: 0.92\n",
            "Epoch 17: Loss: 8.0 Accuracy: 0.92\n",
            "Epoch 18: Loss: 8.0 Accuracy: 0.92\n",
            "Epoch 19: Loss: 9.0 Accuracy: 0.91\n",
            "Epoch 20: Loss: 8.0 Accuracy: 0.92\n",
            "Epoch 21: Loss: 5.0 Accuracy: 0.95\n",
            "Epoch 22: Loss: 8.0 Accuracy: 0.92\n",
            "Epoch 23: Loss: 8.0 Accuracy: 0.92\n",
            "Epoch 24: Loss: 9.0 Accuracy: 0.91\n",
            "Epoch 25: Loss: 8.0 Accuracy: 0.92\n",
            "Epoch 26: Loss: 8.0 Accuracy: 0.92\n",
            "Epoch 27: Loss: 7.0 Accuracy: 0.9299999999999999\n",
            "Epoch 28: Loss: 8.0 Accuracy: 0.92\n",
            "Epoch 29: Loss: 8.0 Accuracy: 0.92\n",
            "Epoch 30: Loss: 8.0 Accuracy: 0.92\n",
            "Epoch 31: Loss: 7.0 Accuracy: 0.9299999999999999\n",
            "Epoch 32: Loss: 8.0 Accuracy: 0.92\n",
            "Epoch 33: Loss: 8.0 Accuracy: 0.92\n",
            "Epoch 34: Loss: 8.0 Accuracy: 0.92\n",
            "Epoch 35: Loss: 7.0 Accuracy: 0.9299999999999999\n",
            "Epoch 36: Loss: 8.0 Accuracy: 0.92\n",
            "Epoch 37: Loss: 8.0 Accuracy: 0.92\n",
            "Epoch 38: Loss: 8.0 Accuracy: 0.92\n",
            "Epoch 39: Loss: 8.0 Accuracy: 0.92\n",
            "Epoch 40: Loss: 7.0 Accuracy: 0.9299999999999999\n",
            "Epoch 41: Loss: 9.0 Accuracy: 0.91\n",
            "Epoch 42: Loss: 8.0 Accuracy: 0.92\n",
            "Epoch 43: Loss: 5.0 Accuracy: 0.95\n",
            "Epoch 44: Loss: 7.0 Accuracy: 0.9299999999999999\n",
            "Epoch 45: Loss: 5.0 Accuracy: 0.95\n",
            "Epoch 46: Loss: 8.0 Accuracy: 0.92\n",
            "Epoch 47: Loss: 5.0 Accuracy: 0.95\n",
            "Epoch 48: Loss: 7.0 Accuracy: 0.9299999999999999\n",
            "Epoch 49: Loss: 5.0 Accuracy: 0.95\n",
            "Epoch 50: Loss: 7.0 Accuracy: 0.9299999999999999\n",
            "Epoch 51: Loss: 4.0 Accuracy: 0.96\n",
            "Epoch 52: Loss: 7.0 Accuracy: 0.9299999999999999\n",
            "Epoch 53: Loss: 7.0 Accuracy: 0.9299999999999999\n",
            "Epoch 54: Loss: 8.0 Accuracy: 0.92\n",
            "Epoch 55: Loss: 6.0 Accuracy: 0.94\n",
            "Epoch 56: Loss: 9.0 Accuracy: 0.91\n",
            "Epoch 57: Loss: 8.0 Accuracy: 0.92\n",
            "Epoch 58: Loss: 11.0 Accuracy: 0.89\n",
            "Epoch 59: Loss: 8.0 Accuracy: 0.92\n",
            "Epoch 60: Loss: 11.0 Accuracy: 0.89\n",
            "Epoch 61: Loss: 7.0 Accuracy: 0.9299999999999999\n",
            "Epoch 62: Loss: 10.0 Accuracy: 0.9\n",
            "Epoch 63: Loss: 6.0 Accuracy: 0.94\n",
            "Epoch 64: Loss: 10.0 Accuracy: 0.9\n",
            "Epoch 65: Loss: 5.0 Accuracy: 0.95\n",
            "Epoch 66: Loss: 11.0 Accuracy: 0.89\n",
            "Epoch 67: Loss: 7.0 Accuracy: 0.9299999999999999\n",
            "Epoch 68: Loss: 11.0 Accuracy: 0.89\n",
            "Epoch 69: Loss: 5.0 Accuracy: 0.95\n",
            "Epoch 70: Loss: 11.0 Accuracy: 0.89\n",
            "Epoch 71: Loss: 8.0 Accuracy: 0.92\n",
            "Epoch 72: Loss: 10.0 Accuracy: 0.9\n",
            "Epoch 73: Loss: 7.0 Accuracy: 0.9299999999999999\n",
            "Epoch 74: Loss: 11.0 Accuracy: 0.89\n",
            "Epoch 75: Loss: 6.0 Accuracy: 0.94\n",
            "Epoch 76: Loss: 11.0 Accuracy: 0.89\n",
            "Epoch 77: Loss: 9.0 Accuracy: 0.91\n",
            "Epoch 78: Loss: 10.0 Accuracy: 0.9\n",
            "Epoch 79: Loss: 7.0 Accuracy: 0.9299999999999999\n",
            "Epoch 80: Loss: 11.0 Accuracy: 0.89\n",
            "Epoch 81: Loss: 8.0 Accuracy: 0.92\n",
            "Epoch 82: Loss: 10.0 Accuracy: 0.9\n",
            "Epoch 83: Loss: 6.0 Accuracy: 0.94\n",
            "Epoch 84: Loss: 9.0 Accuracy: 0.91\n",
            "Epoch 85: Loss: 7.0 Accuracy: 0.9299999999999999\n",
            "Epoch 86: Loss: 11.0 Accuracy: 0.89\n",
            "Epoch 87: Loss: 7.0 Accuracy: 0.9299999999999999\n",
            "Epoch 88: Loss: 10.0 Accuracy: 0.9\n",
            "Epoch 89: Loss: 6.0 Accuracy: 0.94\n",
            "Epoch 90: Loss: 9.0 Accuracy: 0.91\n",
            "Epoch 91: Loss: 8.0 Accuracy: 0.92\n",
            "Epoch 92: Loss: 11.0 Accuracy: 0.89\n",
            "Epoch 93: Loss: 5.0 Accuracy: 0.95\n",
            "Epoch 94: Loss: 11.0 Accuracy: 0.89\n",
            "Epoch 95: Loss: 8.0 Accuracy: 0.92\n",
            "Epoch 96: Loss: 10.0 Accuracy: 0.9\n",
            "Epoch 97: Loss: 6.0 Accuracy: 0.94\n",
            "Epoch 98: Loss: 9.0 Accuracy: 0.91\n",
            "Epoch 99: Loss: 8.0 Accuracy: 0.92\n",
            "w = [[-5.20285057e-05]\n",
            " [ 9.75126641e-05]]\n",
            "b = -1.0000000000000006e-05\n",
            "dw = [[ 9.26395044]\n",
            " [-1.19450489]]\n",
            "db = -2.0\n"
          ]
        }
      ]
    },
    {
      "cell_type": "code",
      "metadata": {
        "id": "PFrVtpYRkNOh"
      },
      "source": [
        "def predict(X, weights, bias):\n",
        "  z = (X@weights)+bias\n",
        "  return np.where(z>=0, 1,0)\n"
      ],
      "execution_count": null,
      "outputs": []
    },
    {
      "cell_type": "code",
      "metadata": {
        "id": "72ni2U5NkOsb",
        "colab": {
          "base_uri": "https://localhost:8080/"
        },
        "outputId": "63eb6874-ae6e-4d58-db6d-e2428103adba"
      },
      "source": [
        "weights = params[\"w\"]\n",
        "bias = params[\"b\"]\n",
        "preds = predict(X_test,weights,bias)\n",
        "accuracy(y_test, preds)"
      ],
      "execution_count": null,
      "outputs": [
        {
          "output_type": "execute_result",
          "data": {
            "text/plain": [
              "0.9"
            ]
          },
          "metadata": {},
          "execution_count": 313
        }
      ]
    },
    {
      "cell_type": "code",
      "metadata": {
        "id": "GxtYuhOGkRcM",
        "colab": {
          "base_uri": "https://localhost:8080/"
        },
        "outputId": "e05fcdc9-9d91-4ca3-cc99-4205942a2d42"
      },
      "source": [
        "c_matrix = confusion_matrix(y_test, preds)\n",
        "sns.heatmap(c_matrix, annot=True)\n",
        "plt.xlabel(\"Ground Truths\")\n",
        "plt.ylabel(\"Predicted\")\n",
        "plt.show()"
      ],
      "execution_count": null,
      "outputs": [
        {
          "output_type": "display_data",
          "data": {
            "image/png": "[encoded data removed]",
            "text/plain": [
              "<Figure size 432x288 with 2 Axes>"
            ]
          },
          "metadata": {}
        }
      ]
    },
    {
      "cell_type": "markdown",
      "metadata": {
        "id": "7EWdii5GlDa7"
      },
      "source": [
        "## Part 2: Back-propagation\n",
        "Although the Perceptron with the step activation produces good results producing a linear classifier, it lacks another fundamental technique for being a robust neural network model—Backpropagation. Backpropagation is a short form for \"backward propagation of errors.\" It is a method of training artificial neural networks. This method helps to calculate the gradient of a loss function for all the weights in the network. <br>\n",
        "In this section, we will use a sigmoid function as an activation function instead of a step activation. Since backpropagation will not be effective with the step function its gradient (derivative) is zero, and that will not be useful for computing the loss function.<br>\n",
        "<b>Loss Function</b><br>\n",
        "A loss function is the function we want to minimize or maximize is called the objective function or criterion. When we are minimizing it, we may also call it the cost function, loss function, or error function [[1]](https://www.deeplearningbook.org/contents/numerical.html). <br>\n",
        "To save you the time and brainpower, for our example our loss function is:\n",
        "$$J(\\theta)=\\frac{1}{m} \\sum^m_{i}cost(h_{\\theta}(x^{(i)}, y^{(i)}) \\\\\n",
        "\\text{if y = 1} : -\\log{(h_\\theta(x))}\\\\\n",
        "\\text{if y = 0} : -\\log{(1-h_\\theta(x))}\\\\\n",
        "J(\\theta)=-\\frac{1}{m} \\sum^m_{i}{y^{(i)}\\log{(h_\\theta(x))}+(1-y^{(i)})(\\log{(1-h_\\theta(x))}} \\\\\n",
        "J(\\theta)=-\\frac{1}{m} \\sum^m_{i}{Y^T\\log(h)+(1-Y)^T\\log(1-h)}\n",
        "$$"
      ]
    },
    {
      "cell_type": "code",
      "metadata": {
        "id": "mlh2YqwFlNoi"
      },
      "source": [
        "def sigmoid(z):\n",
        "    \"\"\"\n",
        "    Compute the sigmoid of z\n",
        "\n",
        "    Arguments:\n",
        "    z -- A scalar or numpy array of any size.\n",
        "\n",
        "    Return:\n",
        "    s -- sigmoid(z)\n",
        "    \"\"\"\n",
        "    s = 1 / (1 + np.exp(-z))    \n",
        "    return s"
      ],
      "execution_count": null,
      "outputs": []
    },
    {
      "cell_type": "code",
      "metadata": {
        "id": "454Z9kellOtC"
      },
      "source": [
        "def transfer_derivative(d):\n",
        "  return d*(1.0-d)"
      ],
      "execution_count": null,
      "outputs": []
    },
    {
      "cell_type": "code",
      "metadata": {
        "id": "MPQvdRm5lRtz"
      },
      "source": [
        "def propagate(w, b, X, Y):\n",
        "    \"\"\"\n",
        "    Implement the cost function and its gradient for the propagation explained above\n",
        "\n",
        "    Arguments:\n",
        "    w -- weights, a numpy array \n",
        "    b -- bias, a scalar\n",
        "    X -- data of size\n",
        "    Y -- true \"label\" vector \n",
        "\n",
        "    Return:\n",
        "    cost -- negative log-likelihood cost for logistic regression\n",
        "    dw -- gradient of the loss with respect to w, thus same shape as w\n",
        "    db -- gradient of the loss with respect to b, thus same shape as b\n",
        "    \n",
        "    \"\"\"\n",
        "    \n",
        "    m = X.shape[0]\n",
        "    alpha = 10e-8\n",
        "    \n",
        "    # FORWARD PROPAGATION (FROM X TO COST)\n",
        "    z = (X@w)+b\n",
        "    h = sigmoid(z)    # compute activation\n",
        "    J = -1 / m * np.sum(Y * np.log(h+alpha) + (1-Y) * np.log((1-h)+alpha))  # compute cost\n",
        "    \n",
        "    # BACKWARD PROPAGATION (TO FIND GRAD)\n",
        "    error = (h-Y)*transfer_derivative(h) ## dJ/dA * dA/dz = dJ/dz\n",
        "    dw = 1/m * X.T @ error # dJ/dz * dz/dw = dJ/dw\n",
        "    db = 1/m * np.sum(error) # dJ/dz * dz/db = dJ/db\n",
        "\n",
        "    cost = np.squeeze(J)\n",
        "    \n",
        "    grads = {\"dw\": dw,\n",
        "             \"db\": db}\n",
        "    \n",
        "    return grads, cost"
      ],
      "execution_count": null,
      "outputs": []
    },
    {
      "cell_type": "code",
      "metadata": {
        "id": "CZDPeyjrlTfK"
      },
      "source": [
        "def optimize(w, b, X, Y, epochs, lr, print_cost = True):\n",
        "    \"\"\"\n",
        "    This function optimizes w and b by running a gradient descent algorithm\n",
        "    \n",
        "    Arguments:\n",
        "    w -- weights, a numpy array of size\n",
        "    b -- bias, a scalar\n",
        "    X -- data of shape \n",
        "    Y -- true \"label\" vector\n",
        "    epochs -- number of iterations of the optimization loop\n",
        "    lr -- learning rate of the gradient descent update rule\n",
        "    print_cost -- True to print the loss every 100 steps\n",
        "    \n",
        "    Returns:\n",
        "    params -- dictionary containing the weights w and bias b\n",
        "    grads -- dictionary containing the gradients of the weights and bias with respect to the cost function\n",
        "    costs -- list of all the costs computed during the optimization, this will be used to plot the learning curve.\n",
        "    \n",
        "    Tips:\n",
        "    You basically need to write down two steps and iterate through them:\n",
        "        1) Calculate the cost and the gradient for the current parameters. Use propagate().\n",
        "        2) Update the parameters using gradient descent rule for w and b.\n",
        "    \"\"\"\n",
        "    \n",
        "    costs = []\n",
        "    \n",
        "    for i in range(epochs):\n",
        "        \n",
        "        # Cost and gradient calculation \n",
        "        grads, cost = propagate(w, b, X, Y)\n",
        "        \n",
        "        # Retrieve derivatives from grads\n",
        "        dw = grads[\"dw\"]\n",
        "        db = grads[\"db\"]\n",
        "        \n",
        "        # Update the weights\n",
        "        w = w - lr * dw\n",
        "        b = b - lr * db\n",
        "        \n",
        "        # Record the costs\n",
        "        if i % 10 == 0:\n",
        "            costs.append(cost)\n",
        "        \n",
        "        # Print the cost every 10 training iterations\n",
        "        if print_cost and i % 10 == 0:\n",
        "            print (\"Cost after iteration %i: %f\" %(i, cost))\n",
        "    \n",
        "    params = {\"w\": w,\n",
        "              \"b\": b}\n",
        "    \n",
        "    grads = {\"dw\": dw,\n",
        "             \"db\": db}\n",
        "    \n",
        "    return params, grads, costs"
      ],
      "execution_count": null,
      "outputs": []
    },
    {
      "cell_type": "code",
      "metadata": {
        "id": "4o862wW0lV7C",
        "colab": {
          "base_uri": "https://localhost:8080/"
        },
        "outputId": "68a815f6-610e-4a3f-d8d1-6a05193772a8"
      },
      "source": [
        "w,b = init_weights(X_train.shape[1])\n",
        "learning_rate = 0.6\n",
        "epochs = 100\n",
        "params, grads, costs = optimize(w, b, X_train, y_train, \n",
        "                             lr=learning_rate, epochs=epochs)\n",
        "\n",
        "print (\"w = \" + str(params[\"w\"]))\n",
        "print (\"b = \" + str(params[\"b\"]))\n",
        "print (\"dw = \" + str(grads[\"dw\"]))\n",
        "print (\"db = \" + str(grads[\"db\"]))"
      ],
      "execution_count": null,
      "outputs": [
        {
          "output_type": "stream",
          "name": "stdout",
          "text": [
            "Cost after iteration 0: 0.693147\n",
            "Cost after iteration 10: 0.350665\n",
            "Cost after iteration 20: 0.284379\n",
            "Cost after iteration 30: 0.253283\n",
            "Cost after iteration 40: 0.234337\n",
            "Cost after iteration 50: 0.221268\n",
            "Cost after iteration 60: 0.211570\n",
            "Cost after iteration 70: 0.204015\n",
            "Cost after iteration 80: 0.197924\n",
            "Cost after iteration 90: 0.192885\n",
            "w = [[0.07313867]\n",
            " [1.59136568]]\n",
            "b = -0.20322841769834069\n",
            "dw = [[-0.00085037]\n",
            " [-0.00786011]]\n",
            "db = 0.0023286276028710523\n"
          ]
        }
      ]
    },
    {
      "cell_type": "code",
      "metadata": {
        "id": "0e_Xoi36lYVk"
      },
      "source": [
        "def predict(w, b, X):\n",
        "    '''\n",
        "    Predict whether the label is 0 or 1 using learned logistic regression parameters (w, b)\n",
        "    \n",
        "    Arguments:\n",
        "    w -- weights, a numpy array of size\n",
        "    b -- bias, a scalar\n",
        "    X -- data of size \n",
        "    \n",
        "    Returns:\n",
        "    Y_prediction -- a numpy array (vector) containing all predictions (0/1) for the examples in X\n",
        "    '''\n",
        "    \n",
        "    A = sigmoid((X@w)+b) \n",
        "    Y_prediction = np.where(A>=0.5,1,0)\n",
        "    \n",
        "    return Y_prediction"
      ],
      "execution_count": null,
      "outputs": []
    },
    {
      "cell_type": "code",
      "metadata": {
        "id": "iK3g355TlZvT"
      },
      "source": [
        "def model(X_train, Y_train, X_test, Y_test, num_iterations = 10, learning_rate = 0.5, print_cost = True):\n",
        "    \"\"\"\n",
        "    Builds the logistic regression model by calling the function you've implemented previously\n",
        "    \n",
        "    Arguments:\n",
        "    X_train -- training set represented by a numpy array of shape (num_px * num_px * 3, m_train)\n",
        "    Y_train -- training labels represented by a numpy array (vector) of shape (1, m_train)\n",
        "    X_test -- test set represented by a numpy array of shape (num_px * num_px * 3, m_test)\n",
        "    Y_test -- test labels represented by a numpy array (vector) of shape (1, m_test)\n",
        "    num_iterations -- hyperparameter representing the number of iterations to optimize the parameters\n",
        "    learning_rate -- hyperparameter representing the learning rate used in the update rule of optimize()\n",
        "    print_cost -- Set to true to print the cost every 100 iterations\n",
        "    \n",
        "    Returns:\n",
        "    d -- dictionary containing information about the model.\n",
        "    \"\"\"\n",
        "    \n",
        "    # initialize parameters with zeros\n",
        "    w, b = init_weights(X_train.shape[1])\n",
        "\n",
        "    # Gradient descent \n",
        "    parameters, grads, costs = optimize(w, b, X_train, Y_train, num_iterations, learning_rate, print_cost)\n",
        "    \n",
        "    # Retrieve parameters w and b from dictionary \"parameters\"\n",
        "    w = parameters[\"w\"]\n",
        "    b = parameters[\"b\"]\n",
        "    \n",
        "    Y_prediction_test = predict(w, b, X_test)\n",
        "    Y_prediction_train = predict(w, b, X_train)\n",
        "\n",
        "    # Print train/test Errors\n",
        "    print(\"train accuracy: {} %\".format(100 - np.mean(np.abs(Y_prediction_train - Y_train)) * 100))\n",
        "    print(\"test accuracy: {} %\".format(100 - np.mean(np.abs(Y_prediction_test - Y_test)) * 100))\n",
        "\n",
        "    \n",
        "    d = {\"costs\": costs,\n",
        "         \"Y_prediction_test\": Y_prediction_test, \n",
        "         \"Y_prediction_train\" : Y_prediction_train, \n",
        "         \"w\" : w, \n",
        "         \"b\" : b,\n",
        "         \"learning_rate\" : learning_rate,\n",
        "         \"num_iterations\": num_iterations}\n",
        "    \n",
        "    return d"
      ],
      "execution_count": null,
      "outputs": []
    },
    {
      "cell_type": "code",
      "metadata": {
        "id": "gjEruD3-lbeC",
        "colab": {
          "base_uri": "https://localhost:8080/"
        },
        "outputId": "22d457d3-a37a-45b4-8ef4-44a730a6036f"
      },
      "source": [
        "neuron_model = model(X_train, y_train, X_test, y_test, num_iterations=300, learning_rate=1)"
      ],
      "execution_count": null,
      "outputs": [
        {
          "output_type": "stream",
          "name": "stdout",
          "text": [
            "Cost after iteration 0: 0.693147\n",
            "Cost after iteration 10: 0.296963\n",
            "Cost after iteration 20: 0.244484\n",
            "Cost after iteration 30: 0.220274\n",
            "Cost after iteration 40: 0.205638\n",
            "Cost after iteration 50: 0.195606\n",
            "Cost after iteration 60: 0.188204\n",
            "Cost after iteration 70: 0.182471\n",
            "Cost after iteration 80: 0.177872\n",
            "Cost after iteration 90: 0.174085\n",
            "Cost after iteration 100: 0.170904\n",
            "Cost after iteration 110: 0.168187\n",
            "Cost after iteration 120: 0.165835\n",
            "Cost after iteration 130: 0.163777\n",
            "Cost after iteration 140: 0.161958\n",
            "Cost after iteration 150: 0.160337\n",
            "Cost after iteration 160: 0.158883\n",
            "Cost after iteration 170: 0.157571\n",
            "Cost after iteration 180: 0.156379\n",
            "Cost after iteration 190: 0.155292\n",
            "Cost after iteration 200: 0.154296\n",
            "Cost after iteration 210: 0.153379\n",
            "Cost after iteration 220: 0.152533\n",
            "Cost after iteration 230: 0.151750\n",
            "Cost after iteration 240: 0.151022\n",
            "Cost after iteration 250: 0.150343\n",
            "Cost after iteration 260: 0.149710\n",
            "Cost after iteration 270: 0.149117\n",
            "Cost after iteration 280: 0.148561\n",
            "Cost after iteration 290: 0.148038\n",
            "train accuracy: 92.0 %\n",
            "test accuracy: 95.0 %\n"
          ]
        }
      ]
    },
    {
      "cell_type": "code",
      "metadata": {
        "id": "gTlO9VYGldak",
        "colab": {
          "base_uri": "https://localhost:8080/"
        },
        "outputId": "e8872b99-3076-48ec-dd2a-9dba06938ff5"
      },
      "source": [
        "c_matrix = confusion_matrix(y_test, neuron_model['Y_prediction_test'])\n",
        "sns.heatmap(c_matrix, annot=True)\n",
        "plt.xlabel(\"Ground Truths\")\n",
        "plt.ylabel(\"Predicted\")\n",
        "plt.show()"
      ],
      "execution_count": null,
      "outputs": [
        {
          "output_type": "display_data",
          "data": {
            "image/png": "[encoded data removed]",
            "text/plain": [
              "<Figure size 432x288 with 2 Axes>"
            ]
          },
          "metadata": {}
        }
      ]
    },
    {
      "cell_type": "code",
      "metadata": {
        "id": "619VV-BMlgRq",
        "colab": {
          "base_uri": "https://localhost:8080/"
        },
        "outputId": "7ef0ddfa-4748-49b6-b82b-d34df8a0fd07"
      },
      "source": [
        "from sklearn.metrics import f1_score, recall_score, precision_score \n",
        "\n",
        "print(f\"F1 Score: \\t{f1_score(y_test, neuron_model['Y_prediction_test'])}\")\n",
        "print(f\"Recall: \\t{recall_score(y_test, neuron_model['Y_prediction_test'])}\")\n",
        "print(f\"Precision: \\t{precision_score(y_test, neuron_model['Y_prediction_test'])}\")"
      ],
      "execution_count": null,
      "outputs": [
        {
          "output_type": "stream",
          "name": "stdout",
          "text": [
            "F1 Score: \t0.9500000000000001\n",
            "Recall: \t0.95\n",
            "Precision: \t0.95\n"
          ]
        }
      ]
    },
    {
      "cell_type": "code",
      "metadata": {
        "id": "XCEOexJdeoGt"
      },
      "source": [
        "def plot_weights(X,w,b):\n",
        "  plt.figure(figsize=(10,10))\n",
        "  plt.scatter(X[:int(X.shape[0]/2),0], X[:int(X.shape[0]/2),1], \n",
        "              s = 50, color='blue', alpha=0.5, label=1)\n",
        "  plt.scatter(X[int(X.shape[0]/2):,0], X[int(X.shape[0]/2):,1],  \n",
        "              s = 50, color='red', alpha=0.5, label=0)\n",
        "  x_min, x_max = X[:,0].min() - 1, X[:,0].max() + 1\n",
        "  linex = np.linspace(x_min, x_max)\n",
        "  liney = -w[0]/w[1] * linex - b/w[1]\n",
        "  plt.plot(linex, liney, label='decision bounday')\n",
        "  plt.legend()\n",
        "  plt.axhline(color='black')\n",
        "  plt.axvline(color='black')\n",
        "  plt.grid()\n",
        "  plt.show()"
      ],
      "execution_count": null,
      "outputs": []
    },
    {
      "cell_type": "code",
      "metadata": {
        "id": "VmXm7uY2liQ6",
        "colab": {
          "base_uri": "https://localhost:8080/"
        },
        "outputId": "75d31284-c7b1-4424-8549-e1b055e4e62e"
      },
      "source": [
        "plot_weights(X_test,neuron_model['w'],neuron_model['b'])"
      ],
      "execution_count": null,
      "outputs": [
        {
          "output_type": "display_data",
          "data": {
            "image/png": "[encoded data removed]",
            "text/plain": [
              "<Figure size 720x720 with 1 Axes>"
            ]
          },
          "metadata": {}
        }
      ]
    },
    {
      "cell_type": "markdown",
      "metadata": {
        "id": "c6PM0SLUkk4q"
      },
      "source": [
        "## Laboratory Activity\n",
        "1. For the laboratory activity, obtain a dataset of your liking from a data source. Explain the purpose of the dataset and mention any publication if it is obtained from the source. Provide a needs statement and significance for the dataset.\n",
        "\n",
        "2. Identify an algorithm or method in performing a single or multiple variable classification using the Perceptron alogrithm. \n",
        "\n",
        "3. You must re-create your Perceptron algorithm with Gradient Descent and Backpropagation using your own code in a separate Google Colab. However, you are required to observe the following:\n",
        "\n",
        ">* Enforce object-oriented programming by implementing at least two of the pillars of OOP in the entirety of the solution.\n",
        "* Dedicated functions for training, predicting, and evaluating the solution.\n",
        "* A DataFrame of the metrics of the solution\n",
        "* A visualization of the solution’s results.\n"
      ]
    },
    {
      "cell_type": "markdown",
      "source": [
        "1. Our dataset for this laboratory is the Iris Flower dataset. As an example of linear discriminant analysis, this dataset uses multiple measurements in taxonomic problems. It describes also the specific biological characteristics of different types of Iris flowers, specifically the length and width of both pedals and sepals, both of which are part of the flower's reproductive system. The data set includes 50 samples from each of three Iris species (Iris Setosa, Iris virginica, and Iris versicolor). Each sample had four characteristics measured: the length and width of the sepals and petals in centimeters. [1]"
      ],
      "metadata": {
        "id": "eIv9rtg90JdP"
      }
    },
    {
      "cell_type": "markdown",
      "source": [
        "2. One algorithm or method in performing a single or multiple variable classification is the perceptron algorithm. Perceptron algorithm can be used for classification. Perceptron algorithm is divided into two parts, single and multiple layer perceptrons. Single layer perceptron is performed by calculating the sum of the input vector and each of them is multiplied to their corresponding weights, the output then is the input of the activation function. Multi layer perceptron on the other hand consists of an inner and outer layer that are both connected. The two classified layers maybe alike, but there existing are the multiple hidden layers that are private to the neural networks. "
      ],
      "metadata": {
        "id": "3V9Pp51SHR6Q"
      }
    },
    {
      "cell_type": "code",
      "source": [
        "import numpy as np\n",
        "import pandas as pd \n",
        "import matplotlib.pyplot as plt\n",
        "import seaborn as sns\n",
        "import sys\n",
        "from sklearn.metrics import confusion_matrix\n",
        "from sklearn.model_selection import train_test_split"
      ],
      "metadata": {
        "id": "jjRuqbZd6DRp"
      },
      "execution_count": null,
      "outputs": []
    },
    {
      "cell_type": "markdown",
      "source": [
        "#Dataset Overview"
      ],
      "metadata": {
        "id": "6ahNMbkZ5mgI"
      }
    },
    {
      "cell_type": "code",
      "source": [
        "df_flower = pd.read_csv('https://raw.githubusercontent.com/maryadriennerdrgz/CpE-AIML/main/Data/IRIS.csv')\n",
        "df_flower"
      ],
      "metadata": {
        "id": "d5l1YAuU25JI",
        "colab": {
          "base_uri": "https://localhost:8080/",
          "height": 423
        },
        "outputId": "950c868a-ad08-42fd-e4ee-29e1104334ba"
      },
      "execution_count": null,
      "outputs": [
        {
          "output_type": "execute_result",
          "data": {
            "text/html": [
              "\n",
              "  <div id=\"df-b130ba0b-29e6-46fa-9735-14005ee26c7d\">\n",
              "    <div class=\"colab-df-container\">\n",
              "      <div>\n",
              "<style scoped>\n",
              "    .dataframe tbody tr th:only-of-type {\n",
              "        vertical-align: middle;\n",
              "    }\n",
              "\n",
              "    .dataframe tbody tr th {\n",
              "        vertical-align: top;\n",
              "    }\n",
              "\n",
              "    .dataframe thead th {\n",
              "        text-align: right;\n",
              "    }\n",
              "</style>\n",
              "<table border=\"1\" class=\"dataframe\">\n",
              "  <thead>\n",
              "    <tr style=\"text-align: right;\">\n",
              "      <th></th>\n",
              "      <th>sepal_length</th>\n",
              "      <th>sepal_width</th>\n",
              "      <th>petal_length</th>\n",
              "      <th>petal_width</th>\n",
              "      <th>species</th>\n",
              "    </tr>\n",
              "  </thead>\n",
              "  <tbody>\n",
              "    <tr>\n",
              "      <th>0</th>\n",
              "      <td>5.1</td>\n",
              "      <td>3.5</td>\n",
              "      <td>1.4</td>\n",
              "      <td>0.2</td>\n",
              "      <td>Iris-setosa</td>\n",
              "    </tr>\n",
              "    <tr>\n",
              "      <th>1</th>\n",
              "      <td>4.9</td>\n",
              "      <td>3.0</td>\n",
              "      <td>1.4</td>\n",
              "      <td>0.2</td>\n",
              "      <td>Iris-setosa</td>\n",
              "    </tr>\n",
              "    <tr>\n",
              "      <th>2</th>\n",
              "      <td>4.7</td>\n",
              "      <td>3.2</td>\n",
              "      <td>1.3</td>\n",
              "      <td>0.2</td>\n",
              "      <td>Iris-setosa</td>\n",
              "    </tr>\n",
              "    <tr>\n",
              "      <th>3</th>\n",
              "      <td>4.6</td>\n",
              "      <td>3.1</td>\n",
              "      <td>1.5</td>\n",
              "      <td>0.2</td>\n",
              "      <td>Iris-setosa</td>\n",
              "    </tr>\n",
              "    <tr>\n",
              "      <th>4</th>\n",
              "      <td>5.0</td>\n",
              "      <td>3.6</td>\n",
              "      <td>1.4</td>\n",
              "      <td>0.2</td>\n",
              "      <td>Iris-setosa</td>\n",
              "    </tr>\n",
              "    <tr>\n",
              "      <th>...</th>\n",
              "      <td>...</td>\n",
              "      <td>...</td>\n",
              "      <td>...</td>\n",
              "      <td>...</td>\n",
              "      <td>...</td>\n",
              "    </tr>\n",
              "    <tr>\n",
              "      <th>145</th>\n",
              "      <td>6.7</td>\n",
              "      <td>3.0</td>\n",
              "      <td>5.2</td>\n",
              "      <td>2.3</td>\n",
              "      <td>Iris-virginica</td>\n",
              "    </tr>\n",
              "    <tr>\n",
              "      <th>146</th>\n",
              "      <td>6.3</td>\n",
              "      <td>2.5</td>\n",
              "      <td>5.0</td>\n",
              "      <td>1.9</td>\n",
              "      <td>Iris-virginica</td>\n",
              "    </tr>\n",
              "    <tr>\n",
              "      <th>147</th>\n",
              "      <td>6.5</td>\n",
              "      <td>3.0</td>\n",
              "      <td>5.2</td>\n",
              "      <td>2.0</td>\n",
              "      <td>Iris-virginica</td>\n",
              "    </tr>\n",
              "    <tr>\n",
              "      <th>148</th>\n",
              "      <td>6.2</td>\n",
              "      <td>3.4</td>\n",
              "      <td>5.4</td>\n",
              "      <td>2.3</td>\n",
              "      <td>Iris-virginica</td>\n",
              "    </tr>\n",
              "    <tr>\n",
              "      <th>149</th>\n",
              "      <td>5.9</td>\n",
              "      <td>3.0</td>\n",
              "      <td>5.1</td>\n",
              "      <td>1.8</td>\n",
              "      <td>Iris-virginica</td>\n",
              "    </tr>\n",
              "  </tbody>\n",
              "</table>\n",
              "<p>150 rows × 5 columns</p>\n",
              "</div>\n",
              "      <button class=\"colab-df-convert\" onclick=\"convertToInteractive('df-b130ba0b-29e6-46fa-9735-14005ee26c7d')\"\n",
              "              title=\"Convert this dataframe to an interactive table.\"\n",
              "              style=\"display:none;\">\n",
              "        \n",
              "  <svg xmlns=\"http://www.w3.org/2000/svg\" height=\"24px\"viewBox=\"0 0 24 24\"\n",
              "       width=\"24px\">\n",
              "    <path d=\"M0 0h24v24H0V0z\" fill=\"none\"/>\n",
              "    <path d=\"M18.56 5.44l.94 2.06.94-2.06 2.06-.94-2.06-.94-.94-2.06-.94 2.06-2.06.94zm-11 1L8.5 8.5l.94-2.06 2.06-.94-2.06-.94L8.5 2.5l-.94 2.06-2.06.94zm10 10l.94 2.06.94-2.06 2.06-.94-2.06-.94-.94-2.06-.94 2.06-2.06.94z\"/><path d=\"M17.41 7.96l-1.37-1.37c-.4-.4-.92-.59-1.43-.59-.52 0-1.04.2-1.43.59L10.3 9.45l-7.72 7.72c-.78.78-.78 2.05 0 2.83L4 21.41c.39.39.9.59 1.41.59.51 0 1.02-.2 1.41-.59l7.78-7.78 2.81-2.81c.8-.78.8-2.07 0-2.86zM5.41 20L4 18.59l7.72-7.72 1.47 1.35L5.41 20z\"/>\n",
              "  </svg>\n",
              "      </button>\n",
              "      \n",
              "  <style>\n",
              "    .colab-df-container {\n",
              "      display:flex;\n",
              "      flex-wrap:wrap;\n",
              "      gap: 12px;\n",
              "    }\n",
              "\n",
              "    .colab-df-convert {\n",
              "      background-color: #E8F0FE;\n",
              "      border: none;\n",
              "      border-radius: 50%;\n",
              "      cursor: pointer;\n",
              "      display: none;\n",
              "      fill: #1967D2;\n",
              "      height: 32px;\n",
              "      padding: 0 0 0 0;\n",
              "      width: 32px;\n",
              "    }\n",
              "\n",
              "    .colab-df-convert:hover {\n",
              "      background-color: #E2EBFA;\n",
              "      box-shadow: 0px 1px 2px rgba(60, 64, 67, 0.3), 0px 1px 3px 1px rgba(60, 64, 67, 0.15);\n",
              "      fill: #174EA6;\n",
              "    }\n",
              "\n",
              "    [theme=dark] .colab-df-convert {\n",
              "      background-color: #3B4455;\n",
              "      fill: #D2E3FC;\n",
              "    }\n",
              "\n",
              "    [theme=dark] .colab-df-convert:hover {\n",
              "      background-color: #434B5C;\n",
              "      box-shadow: 0px 1px 3px 1px rgba(0, 0, 0, 0.15);\n",
              "      filter: drop-shadow(0px 1px 2px rgba(0, 0, 0, 0.3));\n",
              "      fill: #FFFFFF;\n",
              "    }\n",
              "  </style>\n",
              "\n",
              "      <script>\n",
              "        const buttonEl =\n",
              "          document.querySelector('#df-b130ba0b-29e6-46fa-9735-14005ee26c7d button.colab-df-convert');\n",
              "        buttonEl.style.display =\n",
              "          google.colab.kernel.accessAllowed ? 'block' : 'none';\n",
              "\n",
              "        async function convertToInteractive(key) {\n",
              "          const element = document.querySelector('#df-b130ba0b-29e6-46fa-9735-14005ee26c7d');\n",
              "          const dataTable =\n",
              "            await google.colab.kernel.invokeFunction('convertToInteractive',\n",
              "                                                     [key], {});\n",
              "          if (!dataTable) return;\n",
              "\n",
              "          const docLinkHtml = 'Like what you see? Visit the ' +\n",
              "            '<a target=\"_blank\" href=https://colab.research.google.com/notebooks/data_table.ipynb>data table notebook</a>'\n",
              "            + ' to learn more about interactive tables.';\n",
              "          element.innerHTML = '';\n",
              "          dataTable['output_type'] = 'display_data';\n",
              "          await google.colab.output.renderOutput(dataTable, element);\n",
              "          const docLink = document.createElement('div');\n",
              "          docLink.innerHTML = docLinkHtml;\n",
              "          element.appendChild(docLink);\n",
              "        }\n",
              "      </script>\n",
              "    </div>\n",
              "  </div>\n",
              "  "
            ],
            "text/plain": [
              "     sepal_length  sepal_width  petal_length  petal_width         species\n",
              "0             5.1          3.5           1.4          0.2     Iris-setosa\n",
              "1             4.9          3.0           1.4          0.2     Iris-setosa\n",
              "2             4.7          3.2           1.3          0.2     Iris-setosa\n",
              "3             4.6          3.1           1.5          0.2     Iris-setosa\n",
              "4             5.0          3.6           1.4          0.2     Iris-setosa\n",
              "..            ...          ...           ...          ...             ...\n",
              "145           6.7          3.0           5.2          2.3  Iris-virginica\n",
              "146           6.3          2.5           5.0          1.9  Iris-virginica\n",
              "147           6.5          3.0           5.2          2.0  Iris-virginica\n",
              "148           6.2          3.4           5.4          2.3  Iris-virginica\n",
              "149           5.9          3.0           5.1          1.8  Iris-virginica\n",
              "\n",
              "[150 rows x 5 columns]"
            ]
          },
          "metadata": {},
          "execution_count": 329
        }
      ]
    },
    {
      "cell_type": "code",
      "source": [
        "df_flower.describe()"
      ],
      "metadata": {
        "colab": {
          "base_uri": "https://localhost:8080/",
          "height": 300
        },
        "id": "LSI51Kx-5pz2",
        "outputId": "ad7cd9bd-050f-4d0d-bd59-4da9e3dd554b"
      },
      "execution_count": null,
      "outputs": [
        {
          "output_type": "execute_result",
          "data": {
            "text/html": [
              "\n",
              "  <div id=\"df-8b2b9d3b-40d1-449e-8163-bb3db979d600\">\n",
              "    <div class=\"colab-df-container\">\n",
              "      <div>\n",
              "<style scoped>\n",
              "    .dataframe tbody tr th:only-of-type {\n",
              "        vertical-align: middle;\n",
              "    }\n",
              "\n",
              "    .dataframe tbody tr th {\n",
              "        vertical-align: top;\n",
              "    }\n",
              "\n",
              "    .dataframe thead th {\n",
              "        text-align: right;\n",
              "    }\n",
              "</style>\n",
              "<table border=\"1\" class=\"dataframe\">\n",
              "  <thead>\n",
              "    <tr style=\"text-align: right;\">\n",
              "      <th></th>\n",
              "      <th>sepal_length</th>\n",
              "      <th>sepal_width</th>\n",
              "      <th>petal_length</th>\n",
              "      <th>petal_width</th>\n",
              "    </tr>\n",
              "  </thead>\n",
              "  <tbody>\n",
              "    <tr>\n",
              "      <th>count</th>\n",
              "      <td>150.000000</td>\n",
              "      <td>150.000000</td>\n",
              "      <td>150.000000</td>\n",
              "      <td>150.000000</td>\n",
              "    </tr>\n",
              "    <tr>\n",
              "      <th>mean</th>\n",
              "      <td>5.843333</td>\n",
              "      <td>3.054000</td>\n",
              "      <td>3.758667</td>\n",
              "      <td>1.198667</td>\n",
              "    </tr>\n",
              "    <tr>\n",
              "      <th>std</th>\n",
              "      <td>0.828066</td>\n",
              "      <td>0.433594</td>\n",
              "      <td>1.764420</td>\n",
              "      <td>0.763161</td>\n",
              "    </tr>\n",
              "    <tr>\n",
              "      <th>min</th>\n",
              "      <td>4.300000</td>\n",
              "      <td>2.000000</td>\n",
              "      <td>1.000000</td>\n",
              "      <td>0.100000</td>\n",
              "    </tr>\n",
              "    <tr>\n",
              "      <th>25%</th>\n",
              "      <td>5.100000</td>\n",
              "      <td>2.800000</td>\n",
              "      <td>1.600000</td>\n",
              "      <td>0.300000</td>\n",
              "    </tr>\n",
              "    <tr>\n",
              "      <th>50%</th>\n",
              "      <td>5.800000</td>\n",
              "      <td>3.000000</td>\n",
              "      <td>4.350000</td>\n",
              "      <td>1.300000</td>\n",
              "    </tr>\n",
              "    <tr>\n",
              "      <th>75%</th>\n",
              "      <td>6.400000</td>\n",
              "      <td>3.300000</td>\n",
              "      <td>5.100000</td>\n",
              "      <td>1.800000</td>\n",
              "    </tr>\n",
              "    <tr>\n",
              "      <th>max</th>\n",
              "      <td>7.900000</td>\n",
              "      <td>4.400000</td>\n",
              "      <td>6.900000</td>\n",
              "      <td>2.500000</td>\n",
              "    </tr>\n",
              "  </tbody>\n",
              "</table>\n",
              "</div>\n",
              "      <button class=\"colab-df-convert\" onclick=\"convertToInteractive('df-8b2b9d3b-40d1-449e-8163-bb3db979d600')\"\n",
              "              title=\"Convert this dataframe to an interactive table.\"\n",
              "              style=\"display:none;\">\n",
              "        \n",
              "  <svg xmlns=\"http://www.w3.org/2000/svg\" height=\"24px\"viewBox=\"0 0 24 24\"\n",
              "       width=\"24px\">\n",
              "    <path d=\"M0 0h24v24H0V0z\" fill=\"none\"/>\n",
              "    <path d=\"M18.56 5.44l.94 2.06.94-2.06 2.06-.94-2.06-.94-.94-2.06-.94 2.06-2.06.94zm-11 1L8.5 8.5l.94-2.06 2.06-.94-2.06-.94L8.5 2.5l-.94 2.06-2.06.94zm10 10l.94 2.06.94-2.06 2.06-.94-2.06-.94-.94-2.06-.94 2.06-2.06.94z\"/><path d=\"M17.41 7.96l-1.37-1.37c-.4-.4-.92-.59-1.43-.59-.52 0-1.04.2-1.43.59L10.3 9.45l-7.72 7.72c-.78.78-.78 2.05 0 2.83L4 21.41c.39.39.9.59 1.41.59.51 0 1.02-.2 1.41-.59l7.78-7.78 2.81-2.81c.8-.78.8-2.07 0-2.86zM5.41 20L4 18.59l7.72-7.72 1.47 1.35L5.41 20z\"/>\n",
              "  </svg>\n",
              "      </button>\n",
              "      \n",
              "  <style>\n",
              "    .colab-df-container {\n",
              "      display:flex;\n",
              "      flex-wrap:wrap;\n",
              "      gap: 12px;\n",
              "    }\n",
              "\n",
              "    .colab-df-convert {\n",
              "      background-color: #E8F0FE;\n",
              "      border: none;\n",
              "      border-radius: 50%;\n",
              "      cursor: pointer;\n",
              "      display: none;\n",
              "      fill: #1967D2;\n",
              "      height: 32px;\n",
              "      padding: 0 0 0 0;\n",
              "      width: 32px;\n",
              "    }\n",
              "\n",
              "    .colab-df-convert:hover {\n",
              "      background-color: #E2EBFA;\n",
              "      box-shadow: 0px 1px 2px rgba(60, 64, 67, 0.3), 0px 1px 3px 1px rgba(60, 64, 67, 0.15);\n",
              "      fill: #174EA6;\n",
              "    }\n",
              "\n",
              "    [theme=dark] .colab-df-convert {\n",
              "      background-color: #3B4455;\n",
              "      fill: #D2E3FC;\n",
              "    }\n",
              "\n",
              "    [theme=dark] .colab-df-convert:hover {\n",
              "      background-color: #434B5C;\n",
              "      box-shadow: 0px 1px 3px 1px rgba(0, 0, 0, 0.15);\n",
              "      filter: drop-shadow(0px 1px 2px rgba(0, 0, 0, 0.3));\n",
              "      fill: #FFFFFF;\n",
              "    }\n",
              "  </style>\n",
              "\n",
              "      <script>\n",
              "        const buttonEl =\n",
              "          document.querySelector('#df-8b2b9d3b-40d1-449e-8163-bb3db979d600 button.colab-df-convert');\n",
              "        buttonEl.style.display =\n",
              "          google.colab.kernel.accessAllowed ? 'block' : 'none';\n",
              "\n",
              "        async function convertToInteractive(key) {\n",
              "          const element = document.querySelector('#df-8b2b9d3b-40d1-449e-8163-bb3db979d600');\n",
              "          const dataTable =\n",
              "            await google.colab.kernel.invokeFunction('convertToInteractive',\n",
              "                                                     [key], {});\n",
              "          if (!dataTable) return;\n",
              "\n",
              "          const docLinkHtml = 'Like what you see? Visit the ' +\n",
              "            '<a target=\"_blank\" href=https://colab.research.google.com/notebooks/data_table.ipynb>data table notebook</a>'\n",
              "            + ' to learn more about interactive tables.';\n",
              "          element.innerHTML = '';\n",
              "          dataTable['output_type'] = 'display_data';\n",
              "          await google.colab.output.renderOutput(dataTable, element);\n",
              "          const docLink = document.createElement('div');\n",
              "          docLink.innerHTML = docLinkHtml;\n",
              "          element.appendChild(docLink);\n",
              "        }\n",
              "      </script>\n",
              "    </div>\n",
              "  </div>\n",
              "  "
            ],
            "text/plain": [
              "       sepal_length  sepal_width  petal_length  petal_width\n",
              "count    150.000000   150.000000    150.000000   150.000000\n",
              "mean       5.843333     3.054000      3.758667     1.198667\n",
              "std        0.828066     0.433594      1.764420     0.763161\n",
              "min        4.300000     2.000000      1.000000     0.100000\n",
              "25%        5.100000     2.800000      1.600000     0.300000\n",
              "50%        5.800000     3.000000      4.350000     1.300000\n",
              "75%        6.400000     3.300000      5.100000     1.800000\n",
              "max        7.900000     4.400000      6.900000     2.500000"
            ]
          },
          "metadata": {},
          "execution_count": 330
        }
      ]
    },
    {
      "cell_type": "code",
      "source": [
        "df_flower.info()"
      ],
      "metadata": {
        "colab": {
          "base_uri": "https://localhost:8080/"
        },
        "id": "Lnr_F0Wv6JsK",
        "outputId": "33ce27dc-45dc-414f-a52b-0cf158316fd1"
      },
      "execution_count": null,
      "outputs": [
        {
          "output_type": "stream",
          "name": "stdout",
          "text": [
            "<class 'pandas.core.frame.DataFrame'>\n",
            "RangeIndex: 150 entries, 0 to 149\n",
            "Data columns (total 5 columns):\n",
            " #   Column        Non-Null Count  Dtype  \n",
            "---  ------        --------------  -----  \n",
            " 0   sepal_length  150 non-null    float64\n",
            " 1   sepal_width   150 non-null    float64\n",
            " 2   petal_length  150 non-null    float64\n",
            " 3   petal_width   150 non-null    float64\n",
            " 4   species       150 non-null    object \n",
            "dtypes: float64(4), object(1)\n",
            "memory usage: 6.0+ KB\n"
          ]
        }
      ]
    },
    {
      "cell_type": "code",
      "source": [
        "df_flower['species'].value_counts()"
      ],
      "metadata": {
        "colab": {
          "base_uri": "https://localhost:8080/"
        },
        "id": "zDOXFFn_6SJY",
        "outputId": "9ee09f65-f5cc-409e-979d-793dd8bf4374"
      },
      "execution_count": null,
      "outputs": [
        {
          "output_type": "execute_result",
          "data": {
            "text/plain": [
              "Iris-versicolor    50\n",
              "Iris-virginica     50\n",
              "Iris-setosa        50\n",
              "Name: species, dtype: int64"
            ]
          },
          "metadata": {},
          "execution_count": 332
        }
      ]
    },
    {
      "cell_type": "code",
      "source": [
        "sns_plot = sns.pairplot(df_flower)\n",
        "sns_plot"
      ],
      "metadata": {
        "colab": {
          "base_uri": "https://localhost:8080/",
          "height": 743
        },
        "id": "A0P73sGZj-mw",
        "outputId": "eeb5e18e-ac52-486b-f731-c3015d64e2ad"
      },
      "execution_count": null,
      "outputs": [
        {
          "output_type": "execute_result",
          "data": {
            "text/plain": [
              "<seaborn.axisgrid.PairGrid at 0x7f9cabacbed0>"
            ]
          },
          "metadata": {},
          "execution_count": 335
        },
        {
          "output_type": "display_data",
          "data": {
            "image/png": "[encoded data removed]",
            "text/plain": [
              "<Figure size 720x720 with 20 Axes>"
            ]
          },
          "metadata": {}
        }
      ]
    },
    {
      "cell_type": "code",
      "source": [
        "correlation = df_flower.corr()\n",
        "correlation"
      ],
      "metadata": {
        "colab": {
          "base_uri": "https://localhost:8080/",
          "height": 174
        },
        "id": "JSZbYCCklLO5",
        "outputId": "31145436-a388-4d27-db7c-ec810b070cbd"
      },
      "execution_count": null,
      "outputs": [
        {
          "output_type": "execute_result",
          "data": {
            "text/html": [
              "\n",
              "  <div id=\"df-402da5b4-dcb4-4982-82ca-13a6bdd84267\">\n",
              "    <div class=\"colab-df-container\">\n",
              "      <div>\n",
              "<style scoped>\n",
              "    .dataframe tbody tr th:only-of-type {\n",
              "        vertical-align: middle;\n",
              "    }\n",
              "\n",
              "    .dataframe tbody tr th {\n",
              "        vertical-align: top;\n",
              "    }\n",
              "\n",
              "    .dataframe thead th {\n",
              "        text-align: right;\n",
              "    }\n",
              "</style>\n",
              "<table border=\"1\" class=\"dataframe\">\n",
              "  <thead>\n",
              "    <tr style=\"text-align: right;\">\n",
              "      <th></th>\n",
              "      <th>sepal_length</th>\n",
              "      <th>sepal_width</th>\n",
              "      <th>petal_length</th>\n",
              "      <th>petal_width</th>\n",
              "    </tr>\n",
              "  </thead>\n",
              "  <tbody>\n",
              "    <tr>\n",
              "      <th>sepal_length</th>\n",
              "      <td>1.000000</td>\n",
              "      <td>-0.109369</td>\n",
              "      <td>0.871754</td>\n",
              "      <td>0.817954</td>\n",
              "    </tr>\n",
              "    <tr>\n",
              "      <th>sepal_width</th>\n",
              "      <td>-0.109369</td>\n",
              "      <td>1.000000</td>\n",
              "      <td>-0.420516</td>\n",
              "      <td>-0.356544</td>\n",
              "    </tr>\n",
              "    <tr>\n",
              "      <th>petal_length</th>\n",
              "      <td>0.871754</td>\n",
              "      <td>-0.420516</td>\n",
              "      <td>1.000000</td>\n",
              "      <td>0.962757</td>\n",
              "    </tr>\n",
              "    <tr>\n",
              "      <th>petal_width</th>\n",
              "      <td>0.817954</td>\n",
              "      <td>-0.356544</td>\n",
              "      <td>0.962757</td>\n",
              "      <td>1.000000</td>\n",
              "    </tr>\n",
              "  </tbody>\n",
              "</table>\n",
              "</div>\n",
              "      <button class=\"colab-df-convert\" onclick=\"convertToInteractive('df-402da5b4-dcb4-4982-82ca-13a6bdd84267')\"\n",
              "              title=\"Convert this dataframe to an interactive table.\"\n",
              "              style=\"display:none;\">\n",
              "        \n",
              "  <svg xmlns=\"http://www.w3.org/2000/svg\" height=\"24px\"viewBox=\"0 0 24 24\"\n",
              "       width=\"24px\">\n",
              "    <path d=\"M0 0h24v24H0V0z\" fill=\"none\"/>\n",
              "    <path d=\"M18.56 5.44l.94 2.06.94-2.06 2.06-.94-2.06-.94-.94-2.06-.94 2.06-2.06.94zm-11 1L8.5 8.5l.94-2.06 2.06-.94-2.06-.94L8.5 2.5l-.94 2.06-2.06.94zm10 10l.94 2.06.94-2.06 2.06-.94-2.06-.94-.94-2.06-.94 2.06-2.06.94z\"/><path d=\"M17.41 7.96l-1.37-1.37c-.4-.4-.92-.59-1.43-.59-.52 0-1.04.2-1.43.59L10.3 9.45l-7.72 7.72c-.78.78-.78 2.05 0 2.83L4 21.41c.39.39.9.59 1.41.59.51 0 1.02-.2 1.41-.59l7.78-7.78 2.81-2.81c.8-.78.8-2.07 0-2.86zM5.41 20L4 18.59l7.72-7.72 1.47 1.35L5.41 20z\"/>\n",
              "  </svg>\n",
              "      </button>\n",
              "      \n",
              "  <style>\n",
              "    .colab-df-container {\n",
              "      display:flex;\n",
              "      flex-wrap:wrap;\n",
              "      gap: 12px;\n",
              "    }\n",
              "\n",
              "    .colab-df-convert {\n",
              "      background-color: #E8F0FE;\n",
              "      border: none;\n",
              "      border-radius: 50%;\n",
              "      cursor: pointer;\n",
              "      display: none;\n",
              "      fill: #1967D2;\n",
              "      height: 32px;\n",
              "      padding: 0 0 0 0;\n",
              "      width: 32px;\n",
              "    }\n",
              "\n",
              "    .colab-df-convert:hover {\n",
              "      background-color: #E2EBFA;\n",
              "      box-shadow: 0px 1px 2px rgba(60, 64, 67, 0.3), 0px 1px 3px 1px rgba(60, 64, 67, 0.15);\n",
              "      fill: #174EA6;\n",
              "    }\n",
              "\n",
              "    [theme=dark] .colab-df-convert {\n",
              "      background-color: #3B4455;\n",
              "      fill: #D2E3FC;\n",
              "    }\n",
              "\n",
              "    [theme=dark] .colab-df-convert:hover {\n",
              "      background-color: #434B5C;\n",
              "      box-shadow: 0px 1px 3px 1px rgba(0, 0, 0, 0.15);\n",
              "      filter: drop-shadow(0px 1px 2px rgba(0, 0, 0, 0.3));\n",
              "      fill: #FFFFFF;\n",
              "    }\n",
              "  </style>\n",
              "\n",
              "      <script>\n",
              "        const buttonEl =\n",
              "          document.querySelector('#df-402da5b4-dcb4-4982-82ca-13a6bdd84267 button.colab-df-convert');\n",
              "        buttonEl.style.display =\n",
              "          google.colab.kernel.accessAllowed ? 'block' : 'none';\n",
              "\n",
              "        async function convertToInteractive(key) {\n",
              "          const element = document.querySelector('#df-402da5b4-dcb4-4982-82ca-13a6bdd84267');\n",
              "          const dataTable =\n",
              "            await google.colab.kernel.invokeFunction('convertToInteractive',\n",
              "                                                     [key], {});\n",
              "          if (!dataTable) return;\n",
              "\n",
              "          const docLinkHtml = 'Like what you see? Visit the ' +\n",
              "            '<a target=\"_blank\" href=https://colab.research.google.com/notebooks/data_table.ipynb>data table notebook</a>'\n",
              "            + ' to learn more about interactive tables.';\n",
              "          element.innerHTML = '';\n",
              "          dataTable['output_type'] = 'display_data';\n",
              "          await google.colab.output.renderOutput(dataTable, element);\n",
              "          const docLink = document.createElement('div');\n",
              "          docLink.innerHTML = docLinkHtml;\n",
              "          element.appendChild(docLink);\n",
              "        }\n",
              "      </script>\n",
              "    </div>\n",
              "  </div>\n",
              "  "
            ],
            "text/plain": [
              "              sepal_length  sepal_width  petal_length  petal_width\n",
              "sepal_length      1.000000    -0.109369      0.871754     0.817954\n",
              "sepal_width      -0.109369     1.000000     -0.420516    -0.356544\n",
              "petal_length      0.871754    -0.420516      1.000000     0.962757\n",
              "petal_width       0.817954    -0.356544      0.962757     1.000000"
            ]
          },
          "metadata": {},
          "execution_count": 294
        }
      ]
    },
    {
      "cell_type": "code",
      "source": [
        "dfheatmap = df_flower.corr()\n",
        "ax = plt.subplots(figsize=(10,8)), sns.heatmap(dfheatmap, vmax=.8, square=True, cmap=\"copper\")"
      ],
      "metadata": {
        "colab": {
          "base_uri": "https://localhost:8080/",
          "height": 488
        },
        "id": "wAo3ILeblcmB",
        "outputId": "27fe1706-33b9-48ec-9e0c-9325f607e98b"
      },
      "execution_count": null,
      "outputs": [
        {
          "output_type": "display_data",
          "data": {
            "image/png": "[encoded data removed]",
            "text/plain": [
              "<Figure size 720x576 with 2 Axes>"
            ]
          },
          "metadata": {}
        }
      ]
    },
    {
      "cell_type": "markdown",
      "source": [
        "Completion\n"
      ],
      "metadata": {
        "id": "vHh3WXiHqusU"
      }
    },
    {
      "cell_type": "code",
      "source": [
        "X = df_flower.drop('species', axis=1)\n",
        "y = df_flower['species']"
      ],
      "metadata": {
        "id": "Ogp2MVLC_VWg"
      },
      "execution_count": null,
      "outputs": []
    },
    {
      "cell_type": "code",
      "source": [
        "class Perceptron(object):\n",
        "\n",
        "  def __init__(self, input_dim):\n",
        "    self.weights = np.random.normal(loc=0.0, scale=1.0, size=input_dim)\n",
        "    self.bias = np.random.normal(loc=0.0, scale=1.0, size=1)\n",
        "\n",
        "  def activation(self, pred):\n",
        "    return np.where(pred >= 0, 1, 0)\n",
        "\n",
        "  def predict(self, data):\n",
        "    return self.activation(np.dot(data,self.weights.T))\n",
        "\n",
        "  def accuracy(self, features, targets):\n",
        "    predictions = self.predict(features)\n",
        "    return (predictions == targets).mean()\n",
        "\n",
        "  def train(self, xtrain, ytrain, xtest, ytest, epochs, lr=0.01):\n",
        "    losses = []\n",
        "    train_accuracies = []\n",
        "    test_accuracies = []\n",
        "    for e in range(1, epochs + 1):\n",
        "      epoch_loss = 0\n",
        "      predictions = []\n",
        "      for data, target in zip(xtrain, ytrain):\n",
        "        pred = self.predict(data)\n",
        "        error = target - pred\n",
        "        update = lr * error\n",
        "        epoch_loss += error ** 2\n",
        "        self.weights += update * data\n",
        "        self.bias += update\n",
        "        \n",
        "      train_acc = self.accuracy(xtrain, ytrain)\n",
        "      test_acc = self.accuracy(xtest, ytest)\n",
        "      train_accuracies.append(train_acc)\n",
        "      test_accuracies.append(test_acc)\n",
        "      losses.append(epoch_loss)\n",
        "\n",
        "      print(f\"\\rEpoch {e}/{epochs}, Loss : {epoch_loss}, Train Acc : {train_acc}, Test Acc : {test_acc}\", end=\"\")\n",
        "      sys.stdout.flush()\n",
        "\n",
        "    return {'losses': losses, 'train_acc': train_accuracies, 'test_acc': test_accuracies}"
      ],
      "metadata": {
        "id": "8mTeDPC27T0Q"
      },
      "execution_count": null,
      "outputs": []
    },
    {
      "cell_type": "code",
      "source": [
        "Xtrain,Xtest, ytrain,ytest = train_test_split(X,y,test_size=0.25, shuffle=True)\n",
        "print(Xtrain.shape, ytrain.shape)\n",
        "print(Xtest.shape, ytest.shape)\n"
      ],
      "metadata": {
        "colab": {
          "base_uri": "https://localhost:8080/"
        },
        "id": "l7-r3S797XOX",
        "outputId": "93f02d05-723f-4e20-9506-a788976361ca"
      },
      "execution_count": null,
      "outputs": [
        {
          "output_type": "stream",
          "name": "stdout",
          "text": [
            "(112, 4) (112,)\n",
            "(38, 4) (38,)\n"
          ]
        }
      ]
    },
    {
      "cell_type": "code",
      "source": [
        "p = Perceptron(input_dim=2)\n",
        "history = p.train(Xtrain,ytrain, Xtest, ytest, epochs=350, lr=0.001)"
      ],
      "metadata": {
        "colab": {
          "base_uri": "https://localhost:8080/",
          "height": 362
        },
        "id": "1Lfenhax7bl3",
        "outputId": "609abaa7-45f7-4fbf-a0db-1368d174cc17"
      },
      "execution_count": null,
      "outputs": [
        {
          "output_type": "error",
          "ename": "TypeError",
          "evalue": "ignored",
          "traceback": [
            "\u001b[0;31m---------------------------------------------------------------------------\u001b[0m",
            "\u001b[0;31mTypeError\u001b[0m                                 Traceback (most recent call last)",
            "\u001b[0;32m<ipython-input-375-7734d0a8fecb>\u001b[0m in \u001b[0;36m<module>\u001b[0;34m()\u001b[0m\n\u001b[1;32m      1\u001b[0m \u001b[0mp\u001b[0m \u001b[0;34m=\u001b[0m \u001b[0mPerceptron\u001b[0m\u001b[0;34m(\u001b[0m\u001b[0minput_dim\u001b[0m\u001b[0;34m=\u001b[0m\u001b[0;36m2\u001b[0m\u001b[0;34m)\u001b[0m\u001b[0;34m\u001b[0m\u001b[0;34m\u001b[0m\u001b[0m\n\u001b[0;32m----> 2\u001b[0;31m \u001b[0mhistory\u001b[0m \u001b[0;34m=\u001b[0m \u001b[0mp\u001b[0m\u001b[0;34m.\u001b[0m\u001b[0mtrain\u001b[0m\u001b[0;34m(\u001b[0m\u001b[0mXtrain\u001b[0m\u001b[0;34m,\u001b[0m\u001b[0mytrain\u001b[0m\u001b[0;34m,\u001b[0m \u001b[0mXtest\u001b[0m\u001b[0;34m,\u001b[0m \u001b[0mytest\u001b[0m\u001b[0;34m,\u001b[0m \u001b[0mepochs\u001b[0m\u001b[0;34m=\u001b[0m\u001b[0;36m350\u001b[0m\u001b[0;34m,\u001b[0m \u001b[0mlr\u001b[0m\u001b[0;34m=\u001b[0m\u001b[0;36m0.001\u001b[0m\u001b[0;34m)\u001b[0m\u001b[0;34m\u001b[0m\u001b[0;34m\u001b[0m\u001b[0m\n\u001b[0m",
            "\u001b[0;32m<ipython-input-372-00d575bdb709>\u001b[0m in \u001b[0;36mtrain\u001b[0;34m(self, xtrain, ytrain, xtest, ytest, epochs, lr)\u001b[0m\n\u001b[1;32m     23\u001b[0m       \u001b[0mpredictions\u001b[0m \u001b[0;34m=\u001b[0m \u001b[0;34m[\u001b[0m\u001b[0;34m]\u001b[0m\u001b[0;34m\u001b[0m\u001b[0;34m\u001b[0m\u001b[0m\n\u001b[1;32m     24\u001b[0m       \u001b[0;32mfor\u001b[0m \u001b[0mdata\u001b[0m\u001b[0;34m,\u001b[0m \u001b[0mtarget\u001b[0m \u001b[0;32min\u001b[0m \u001b[0mzip\u001b[0m\u001b[0;34m(\u001b[0m\u001b[0mxtrain\u001b[0m\u001b[0;34m,\u001b[0m \u001b[0mytrain\u001b[0m\u001b[0;34m)\u001b[0m\u001b[0;34m:\u001b[0m\u001b[0;34m\u001b[0m\u001b[0;34m\u001b[0m\u001b[0m\n\u001b[0;32m---> 25\u001b[0;31m         \u001b[0mpred\u001b[0m \u001b[0;34m=\u001b[0m \u001b[0mself\u001b[0m\u001b[0;34m.\u001b[0m\u001b[0mpredict\u001b[0m\u001b[0;34m(\u001b[0m\u001b[0mdata\u001b[0m\u001b[0;34m)\u001b[0m\u001b[0;34m\u001b[0m\u001b[0;34m\u001b[0m\u001b[0m\n\u001b[0m\u001b[1;32m     26\u001b[0m         \u001b[0merror\u001b[0m \u001b[0;34m=\u001b[0m \u001b[0mtarget\u001b[0m \u001b[0;34m-\u001b[0m \u001b[0mpred\u001b[0m\u001b[0;34m\u001b[0m\u001b[0;34m\u001b[0m\u001b[0m\n\u001b[1;32m     27\u001b[0m         \u001b[0mupdate\u001b[0m \u001b[0;34m=\u001b[0m \u001b[0mlr\u001b[0m \u001b[0;34m*\u001b[0m \u001b[0merror\u001b[0m\u001b[0;34m\u001b[0m\u001b[0;34m\u001b[0m\u001b[0m\n",
            "\u001b[0;32m<ipython-input-372-00d575bdb709>\u001b[0m in \u001b[0;36mpredict\u001b[0;34m(self, data)\u001b[0m\n\u001b[1;32m      9\u001b[0m \u001b[0;34m\u001b[0m\u001b[0m\n\u001b[1;32m     10\u001b[0m   \u001b[0;32mdef\u001b[0m \u001b[0mpredict\u001b[0m\u001b[0;34m(\u001b[0m\u001b[0mself\u001b[0m\u001b[0;34m,\u001b[0m \u001b[0mdata\u001b[0m\u001b[0;34m)\u001b[0m\u001b[0;34m:\u001b[0m\u001b[0;34m\u001b[0m\u001b[0;34m\u001b[0m\u001b[0m\n\u001b[0;32m---> 11\u001b[0;31m     \u001b[0;32mreturn\u001b[0m \u001b[0mself\u001b[0m\u001b[0;34m.\u001b[0m\u001b[0mactivation\u001b[0m\u001b[0;34m(\u001b[0m\u001b[0mnp\u001b[0m\u001b[0;34m.\u001b[0m\u001b[0mdot\u001b[0m\u001b[0;34m(\u001b[0m\u001b[0mdata\u001b[0m\u001b[0;34m,\u001b[0m\u001b[0mself\u001b[0m\u001b[0;34m.\u001b[0m\u001b[0mweights\u001b[0m\u001b[0;34m.\u001b[0m\u001b[0mT\u001b[0m\u001b[0;34m)\u001b[0m\u001b[0;34m)\u001b[0m\u001b[0;34m\u001b[0m\u001b[0;34m\u001b[0m\u001b[0m\n\u001b[0m\u001b[1;32m     12\u001b[0m \u001b[0;34m\u001b[0m\u001b[0m\n\u001b[1;32m     13\u001b[0m   \u001b[0;32mdef\u001b[0m \u001b[0maccuracy\u001b[0m\u001b[0;34m(\u001b[0m\u001b[0mself\u001b[0m\u001b[0;34m,\u001b[0m \u001b[0mfeatures\u001b[0m\u001b[0;34m,\u001b[0m \u001b[0mtargets\u001b[0m\u001b[0;34m)\u001b[0m\u001b[0;34m:\u001b[0m\u001b[0;34m\u001b[0m\u001b[0;34m\u001b[0m\u001b[0m\n",
            "\u001b[0;32m<__array_function__ internals>\u001b[0m in \u001b[0;36mdot\u001b[0;34m(*args, **kwargs)\u001b[0m\n",
            "\u001b[0;31mTypeError\u001b[0m: Cannot cast array data from dtype('float64') to dtype('<U32') according to the rule 'safe'"
          ]
        }
      ]
    },
    {
      "cell_type": "code",
      "source": [
        "print(p.weights, p.bias)"
      ],
      "metadata": {
        "colab": {
          "base_uri": "https://localhost:8080/"
        },
        "id": "TZIx3Bok7c-f",
        "outputId": "3b6a48f0-df40-44c2-c3b6-fe05ad334efd"
      },
      "execution_count": null,
      "outputs": [
        {
          "output_type": "stream",
          "name": "stdout",
          "text": [
            "[-1.69480065 -1.52406648] [0.52947896]\n"
          ]
        }
      ]
    },
    {
      "cell_type": "code",
      "source": [
        "fig = plt.figure(figsize=[15,5])\n",
        "\n",
        "ax1 = fig.add_subplot(121)\n",
        "ax1.plot(history['losses'], c='r')\n",
        "ax1.set_xlabel('epoch')\n",
        "ax1.set_ylabel('loss')\n",
        "\n",
        "ax2 = fig.add_subplot(122)\n",
        "ax2.plot(history['train_acc'], c='b', label='train_acc')\n",
        "ax2.plot(history['test_acc'], c='g', label='test_acc')\n",
        "ax2.legend()\n",
        "ax2.set_xlabel('epochs')\n",
        "ax2.set_ylabel('accuracy')"
      ],
      "metadata": {
        "id": "luoJgZdu7fhn"
      },
      "execution_count": null,
      "outputs": []
    },
    {
      "cell_type": "markdown",
      "source": [
        "Reference\n",
        "\n",
        "[1]  MathNerd “Iris Flower Dataset,” Kaggle, 22-March-2018. [Online]. Available: https://www.kaggle.com/arshid/iris-flower-dataset. [Accessed: 10-Dec-2021]."
      ],
      "metadata": {
        "id": "LOXuPzuN2KMW"
      }
    }
  ]
}