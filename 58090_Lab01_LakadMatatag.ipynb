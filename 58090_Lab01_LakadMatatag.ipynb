{
  "nbformat": 4,
  "nbformat_minor": 0,
  "metadata": {
    "colab": {
      "name": "58090_Lab01_LakadMatatag.ipynb",
      "provenance": [],
      "collapsed_sections": [],
      "include_colab_link": true
    },
    "kernelspec": {
      "name": "python3",
      "display_name": "Python 3"
    },
    "language_info": {
      "name": "python"
    }
  },
  "cells": [
    {
      "cell_type": "markdown",
      "metadata": {
        "id": "view-in-github",
        "colab_type": "text"
      },
      "source": [
        "<a href=\"https://colab.research.google.com/github/maryadriennerdrgz/CpE-AIML/blob/main/58090_Lab01_LakadMatatag.ipynb\" target=\"_parent\"><img src=\"https://colab.research.google.com/assets/colab-badge.svg\" alt=\"Open In Colab\"/></a>"
      ]
    },
    {
      "cell_type": "markdown",
      "metadata": {
        "id": "Ob49EcB9H7h2"
      },
      "source": [
        "# Topic 01: Software Engineering Concepts Review\n",
        "$_{\\text{©D.J. Lopez | 2021 | Fudamentals of Machine Learning}}$\n",
        "\n",
        "Data Science or Machine Learning is more than math or business application. It is also important to remember that AI, ML, or DS are being integrated into industry and companies for product delivery. So it is important to keep code clean, manage your files properly, and also assure readability for your projects and their codes.\n",
        "This module is dedicated to reviewing the concepts of software engineering and integrating their concepts in Machine Learning programming. For this notebook we will be covering:\n",
        "* Modular Programming\n",
        "* Object-oriented Programming Concepts\n",
        "* Documentation\n",
        "* Version Control\t\n"
      ]
    },
    {
      "cell_type": "markdown",
      "metadata": {
        "id": "7t8h1u-2KPlN"
      },
      "source": [
        "# 1. Modular Programming\n",
        "Creating readable and understandable code is needed in the industry or any project that you might do. It does not just benefit yourself in understanding your code or project but also other teams, users, and even future researchers. In this module, we are going to discuss how to format your projects and codes for readability and understandability. One of the techniques to achieve this is through modular programming.\n",
        "\n",
        "The idea of modular programming is to make your code granular for reusability. It does not only makes your code simpler but also optimal. The goal of making your code more efficient does not only look into visual representation but also its optimization.\n"
      ]
    },
    {
      "cell_type": "markdown",
      "metadata": {
        "id": "qnV_a_1ossnR"
      },
      "source": [
        "## 1.1 Refactoring\n",
        "\n",
        "Refactoring your code means restructuring your code without changing the expected output. We consider code refactoring while optimizing our code in terms of naming or even in optimizing methods. The first activity of refactoring that we will do or consider is renaming and the other is \"functionizing\" your code. "
      ]
    },
    {
      "cell_type": "markdown",
      "metadata": {
        "id": "9byGZ0_WsyTg"
      },
      "source": [
        "### *Renaming*"
      ]
    },
    {
      "cell_type": "markdown",
      "metadata": {
        "id": "TsyGtv7wtGJp"
      },
      "source": [
        "You might think discussing this topic must be pointless or too simplistic but it is actually one of the most frequent mistakes that data scientists, professors, or researchers usually do. Naming variables and functions properly will bring clarity to understanding the code."
      ]
    },
    {
      "cell_type": "code",
      "metadata": {
        "id": "AzqU8FaqtFQI"
      },
      "source": [
        "'''\n",
        "    CASE 1: Setting the class grades.\n",
        "\n",
        "    The case for this section would be computing for the grades of a \n",
        "    certain class. For the next cells will be looking in how can we create a \n",
        "    class analytics implementation.\n",
        "'''\n",
        "### Example of bad naming in module import nicknames.\n",
        "### Nicknames should be short and still relevant to the module.\n",
        "\n",
        "# import pandas as food_panda \n",
        "## bad, since not representative and long\n",
        "#import pandas as nd \n",
        "##bad, although short it is not representative\n",
        "import pandas as pd \n",
        "##good, aside form community acceptance it is short and representative\n",
        "\n",
        "ln = [\"Ingles\", \"Español\", \"Cruz\", \"Jones\"]\n",
        "# bad, since \"ln\" is ambiguous.\n",
        "\n",
        "names = [\"Ingles\", \"Español\", \"Cruz\", \"Jones\"] \n",
        "# good, since descriptive\n",
        "\n",
        "lnames = [\"Ingles\", \"Español\", \"Cruz\", \"Jones\"]\n",
        "# better, more specific that itis about last names\n",
        "\n",
        "last_names_of_the_class = [\"Ingles\", \"Español\", \"Cruz\", \"Jones\"] \n",
        "# bad, too long\n"
      ],
      "execution_count": null,
      "outputs": []
    },
    {
      "cell_type": "markdown",
      "metadata": {
        "id": "w9_g4Wq4RXgi"
      },
      "source": [
        "### Task 1: Setting the Class Grades\n",
        "1. Create variable declarations for:\n",
        "        - Last Names\n",
        "        - First Names\n",
        "        - Grades for Prelims\n",
        "        - Grades for Midterms\n",
        "        - Grades for Finals \n",
        "2. Create a DataFrame (Pandas) for consolidating the data from Task 1.1"
      ]
    },
    {
      "cell_type": "code",
      "metadata": {
        "id": "-grA0uH6yuwl",
        "colab": {
          "base_uri": "https://localhost:8080/",
          "height": 358
        },
        "outputId": "64623699-7b03-4dd4-ce13-5f20a9a61b54"
      },
      "source": [
        "### CODE HERE ###\n",
        "#1. Create variable declarations\n",
        "import pandas as pd \n",
        "classdata = {\n",
        "    \"Last Name\": [\"Reiter\", \"Miller\", \"Ballin\",\"Trotter\",\"Rios\",\"Wheeler\",\"White\",\"Flanagan\",\"Grubb\",\"Harrell\"],\n",
        "    \"First Name\": [\"April\", \"Emory\", \"David\",\"Alice\",\"Virginia\",\"Thomas\",\"James\",\"Nicolas\",\"Mary\",\"Velda\"],\n",
        "    \"Prelim Grade\": [\"94.96\", \"94.96\", \"78.33\", \"78.17\", \"94.96\", \"84.67\", \"84.87\", \"60.72\", \"94.66\", \"96.47\"],\n",
        "    \"Midterm Grade\": [\"95.26\", \"95.26\", \"94.36\", \"81.37\", \"95.26\", \"92.45\", \"97.31\", \"68.87\", \"82.43\", \"82.51\"],\n",
        "    \"Final Grade\": [\"92.2192\", \"92.7792\", \"84.3231\", \"84.6421\", \"92.2192\", \"83.5792\", \"95.6528\", \"83.8672\", \"84.1472\", \"84.1472\"]\n",
        "}\n",
        "\n",
        "#2. Create a DataFrame \n",
        "df = pd.DataFrame(classdata)\n",
        "df"
      ],
      "execution_count": null,
      "outputs": [
        {
          "output_type": "execute_result",
          "data": {
            "text/html": [
              "<div>\n",
              "<style scoped>\n",
              "    .dataframe tbody tr th:only-of-type {\n",
              "        vertical-align: middle;\n",
              "    }\n",
              "\n",
              "    .dataframe tbody tr th {\n",
              "        vertical-align: top;\n",
              "    }\n",
              "\n",
              "    .dataframe thead th {\n",
              "        text-align: right;\n",
              "    }\n",
              "</style>\n",
              "<table border=\"1\" class=\"dataframe\">\n",
              "  <thead>\n",
              "    <tr style=\"text-align: right;\">\n",
              "      <th></th>\n",
              "      <th>Last Name</th>\n",
              "      <th>First Name</th>\n",
              "      <th>Prelim Grade</th>\n",
              "      <th>Midterm Grade</th>\n",
              "      <th>Final Grade</th>\n",
              "    </tr>\n",
              "  </thead>\n",
              "  <tbody>\n",
              "    <tr>\n",
              "      <th>0</th>\n",
              "      <td>Reiter</td>\n",
              "      <td>April</td>\n",
              "      <td>94.96</td>\n",
              "      <td>95.26</td>\n",
              "      <td>92.2192</td>\n",
              "    </tr>\n",
              "    <tr>\n",
              "      <th>1</th>\n",
              "      <td>Miller</td>\n",
              "      <td>Emory</td>\n",
              "      <td>94.96</td>\n",
              "      <td>95.26</td>\n",
              "      <td>92.7792</td>\n",
              "    </tr>\n",
              "    <tr>\n",
              "      <th>2</th>\n",
              "      <td>Ballin</td>\n",
              "      <td>David</td>\n",
              "      <td>78.33</td>\n",
              "      <td>94.36</td>\n",
              "      <td>84.3231</td>\n",
              "    </tr>\n",
              "    <tr>\n",
              "      <th>3</th>\n",
              "      <td>Trotter</td>\n",
              "      <td>Alice</td>\n",
              "      <td>78.17</td>\n",
              "      <td>81.37</td>\n",
              "      <td>84.6421</td>\n",
              "    </tr>\n",
              "    <tr>\n",
              "      <th>4</th>\n",
              "      <td>Rios</td>\n",
              "      <td>Virginia</td>\n",
              "      <td>94.96</td>\n",
              "      <td>95.26</td>\n",
              "      <td>92.2192</td>\n",
              "    </tr>\n",
              "    <tr>\n",
              "      <th>5</th>\n",
              "      <td>Wheeler</td>\n",
              "      <td>Thomas</td>\n",
              "      <td>84.67</td>\n",
              "      <td>92.45</td>\n",
              "      <td>83.5792</td>\n",
              "    </tr>\n",
              "    <tr>\n",
              "      <th>6</th>\n",
              "      <td>White</td>\n",
              "      <td>James</td>\n",
              "      <td>84.87</td>\n",
              "      <td>97.31</td>\n",
              "      <td>95.6528</td>\n",
              "    </tr>\n",
              "    <tr>\n",
              "      <th>7</th>\n",
              "      <td>Flanagan</td>\n",
              "      <td>Nicolas</td>\n",
              "      <td>60.72</td>\n",
              "      <td>68.87</td>\n",
              "      <td>83.8672</td>\n",
              "    </tr>\n",
              "    <tr>\n",
              "      <th>8</th>\n",
              "      <td>Grubb</td>\n",
              "      <td>Mary</td>\n",
              "      <td>94.66</td>\n",
              "      <td>82.43</td>\n",
              "      <td>84.1472</td>\n",
              "    </tr>\n",
              "    <tr>\n",
              "      <th>9</th>\n",
              "      <td>Harrell</td>\n",
              "      <td>Velda</td>\n",
              "      <td>96.47</td>\n",
              "      <td>82.51</td>\n",
              "      <td>84.1472</td>\n",
              "    </tr>\n",
              "  </tbody>\n",
              "</table>\n",
              "</div>"
            ],
            "text/plain": [
              "  Last Name First Name Prelim Grade Midterm Grade Final Grade\n",
              "0    Reiter      April        94.96         95.26     92.2192\n",
              "1    Miller      Emory        94.96         95.26     92.7792\n",
              "2    Ballin      David        78.33         94.36     84.3231\n",
              "3   Trotter      Alice        78.17         81.37     84.6421\n",
              "4      Rios   Virginia        94.96         95.26     92.2192\n",
              "5   Wheeler     Thomas        84.67         92.45     83.5792\n",
              "6     White      James        84.87         97.31     95.6528\n",
              "7  Flanagan    Nicolas        60.72         68.87     83.8672\n",
              "8     Grubb       Mary        94.66         82.43     84.1472\n",
              "9   Harrell      Velda        96.47         82.51     84.1472"
            ]
          },
          "metadata": {},
          "execution_count": 3
        }
      ]
    },
    {
      "cell_type": "markdown",
      "metadata": {
        "id": "0pr8y4LUs2Vg"
      },
      "source": [
        "### *Code Reusability*\n",
        "\n",
        "Just like in any writing we want to reduce redundancies in our content. Just like following the rules of brevity we also consider that in creating cleaner code. One way of applying brevity to code is code reusability wherein you refrain from creating code that you repeat in encoding. This is where the use of functions will be most used. Consider the following code below."
      ]
    },
    {
      "cell_type": "code",
      "metadata": {
        "id": "mC9I6ZnhAKNC",
        "colab": {
          "base_uri": "https://localhost:8080/"
        },
        "outputId": "0c90ab30-501d-4f32-cebd-cc8d0a5e7211"
      },
      "source": [
        "'''\n",
        "    CASE 2: Computing grades.\n",
        "\n",
        "    For this cell we are going to look into creating functions for the class.\n",
        "    This includes computing for their grades and some classroom management\n",
        "    routines.\n",
        "'''\n",
        "### Consider this procedural programming script\n",
        "gs_1 = [89.4, 78.2, 88.0, 28.5, 67.3]\n",
        "# Get average grades of the class\n",
        "class_g = 0\n",
        "for g in gs_1:\n",
        "  class_g += g\n",
        "cmean = class_g/len(gs_1)\n",
        "print(cmean)"
      ],
      "execution_count": null,
      "outputs": [
        {
          "output_type": "stream",
          "name": "stdout",
          "text": [
            "70.28\n"
          ]
        }
      ]
    },
    {
      "cell_type": "code",
      "metadata": {
        "colab": {
          "base_uri": "https://localhost:8080/"
        },
        "id": "_SSjhGSM-iLM",
        "outputId": "d3833add-74d8-4e3b-acc1-143ae41615e5"
      },
      "source": [
        "### Now let's say you want to reuse the code above for a different class\n",
        "### you might just copy and paste in like the code below and change some \n",
        "### variable naming\n",
        "\n",
        "gs_2 = [99.4, 64.5, 87.2, 68.5, 57]\n",
        "# Get average grades of the class\n",
        "class_g = 0\n",
        "for g in gs_2:\n",
        "  class_g += g\n",
        "cmean = class_g/len(gs_2)\n",
        "print(cmean)"
      ],
      "execution_count": null,
      "outputs": [
        {
          "output_type": "stream",
          "name": "stdout",
          "text": [
            "75.32000000000001\n"
          ]
        }
      ]
    },
    {
      "cell_type": "code",
      "metadata": {
        "id": "zsfe5hrl-5Dj"
      },
      "source": [
        "### That works but if you keep doing that for production, it would just look\n",
        "### like spaghetti code. Instead, if you are repeating code, consider creating\n",
        "### a function.\n",
        "\n",
        "def average(grades):\n",
        "  class_sum = 0\n",
        "  for grade in grades:\n",
        "    class_sum += grade\n",
        "  avg = grades_class/len(grades)\n",
        "  return avg\n",
        "\n",
        "  print(average(gs_1))\n",
        "  print(average(gs_2))\n"
      ],
      "execution_count": null,
      "outputs": []
    },
    {
      "cell_type": "code",
      "metadata": {
        "id": "cM06F8qkAkwz"
      },
      "source": [
        "### The code above would be reusable but it is not easy to read. We need to \n",
        "### enforce the code refactoring for renaming not just the variables but also\n",
        "### the functions we are creating. So if we would refactor the 'average' \n",
        "### Function earlier it could be:\n",
        "\n",
        "def get_class_ave(arr):\n",
        "  class_grades = 0\n",
        "  for grade in arr:\n",
        "    class_grades += grade\n",
        "  class_avg = class_grades/len(arr)\n",
        "  return class_avg"
      ],
      "execution_count": null,
      "outputs": []
    },
    {
      "cell_type": "markdown",
      "metadata": {
        "id": "QZWa_LNqRVOJ"
      },
      "source": [
        "### Task 2: Getting Class Statistics\n",
        "1. Create a function named `get_grades()` for computing the semestral grade of each student:\n",
        "\n",
        "  `inputs`: `DataFrame` of a class grade sheet.\n",
        "  \n",
        "  `outpus`: `DataFrame` showing:\n",
        "  * The prelim, midterms, and finals grades of each student\n",
        "  * The semestral grade of each student\n",
        "\n",
        "2. Create a function named `get_class_stats()`.\n",
        "  \n",
        "  `inputs`: `DataFrame` from `get_grades()`.\n",
        "  \n",
        "  `outpus`: `DataFrame` showing:\n",
        "  * The lowest and highest prelim, midterm, finals, and semestral grades\n",
        "  * the mean, median, mode, and standard deviation of the grades\n"
      ]
    },
    {
      "cell_type": "code",
      "metadata": {
        "id": "2y6_Cj0vFVzj",
        "colab": {
          "resources": {
            "http://localhost:8080/nbextensions/google.colab/files.js": {
              "data": "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",
              "ok": true,
              "headers": [
                [
                  "content-type",
                  "application/javascript"
                ]
              ],
              "status": 200,
              "status_text": ""
            }
          },
          "base_uri": "https://localhost:8080/",
          "height": 73
        },
        "outputId": "6e7e70a1-ec27-4d34-b2ca-b30cdf7e5676"
      },
      "source": [
        "from google.colab import files\n",
        "uploaded = files.upload()"
      ],
      "execution_count": null,
      "outputs": [
        {
          "output_type": "display_data",
          "data": {
            "text/html": [
              "\n",
              "     <input type=\"file\" id=\"files-090a7492-dce7-4869-b8b9-fb88eeceba14\" name=\"files[]\" multiple disabled\n",
              "        style=\"border:none\" />\n",
              "     <output id=\"result-090a7492-dce7-4869-b8b9-fb88eeceba14\">\n",
              "      Upload widget is only available when the cell has been executed in the\n",
              "      current browser session. Please rerun this cell to enable.\n",
              "      </output>\n",
              "      <script src=\"/nbextensions/google.colab/files.js\"></script> "
            ],
            "text/plain": [
              "<IPython.core.display.HTML object>"
            ]
          },
          "metadata": {}
        },
        {
          "output_type": "stream",
          "name": "stdout",
          "text": [
            "Saving class_grades.xlsx to class_grades.xlsx\n"
          ]
        }
      ]
    },
    {
      "cell_type": "code",
      "metadata": {
        "colab": {
          "base_uri": "https://localhost:8080/",
          "height": 883
        },
        "id": "V7oar71HHsNY",
        "outputId": "6f309c77-3342-4b0c-b3b7-591673b345de"
      },
      "source": [
        "df_classgrades = pd.read_excel(uploaded['class_grades.xlsx'])\n",
        "df_classgrades"
      ],
      "execution_count": null,
      "outputs": [
        {
          "output_type": "execute_result",
          "data": {
            "text/html": [
              "<div>\n",
              "<style scoped>\n",
              "    .dataframe tbody tr th:only-of-type {\n",
              "        vertical-align: middle;\n",
              "    }\n",
              "\n",
              "    .dataframe tbody tr th {\n",
              "        vertical-align: top;\n",
              "    }\n",
              "\n",
              "    .dataframe thead th {\n",
              "        text-align: right;\n",
              "    }\n",
              "</style>\n",
              "<table border=\"1\" class=\"dataframe\">\n",
              "  <thead>\n",
              "    <tr style=\"text-align: right;\">\n",
              "      <th></th>\n",
              "      <th>name</th>\n",
              "      <th>id</th>\n",
              "      <th>prelim_grades</th>\n",
              "      <th>midterm_grades</th>\n",
              "      <th>final_grades</th>\n",
              "    </tr>\n",
              "  </thead>\n",
              "  <tbody>\n",
              "    <tr>\n",
              "      <th>0</th>\n",
              "      <td>alpha</td>\n",
              "      <td>1</td>\n",
              "      <td>94.960000</td>\n",
              "      <td>95.260</td>\n",
              "      <td>92.2192</td>\n",
              "    </tr>\n",
              "    <tr>\n",
              "      <th>1</th>\n",
              "      <td>aleph</td>\n",
              "      <td>2</td>\n",
              "      <td>94.960000</td>\n",
              "      <td>95.260</td>\n",
              "      <td>92.7792</td>\n",
              "    </tr>\n",
              "    <tr>\n",
              "      <th>2</th>\n",
              "      <td>beta</td>\n",
              "      <td>3</td>\n",
              "      <td>78.173333</td>\n",
              "      <td>94.360</td>\n",
              "      <td>84.3200</td>\n",
              "    </tr>\n",
              "    <tr>\n",
              "      <th>3</th>\n",
              "      <td>beth</td>\n",
              "      <td>4</td>\n",
              "      <td>78.173333</td>\n",
              "      <td>81.372</td>\n",
              "      <td>84.6400</td>\n",
              "    </tr>\n",
              "    <tr>\n",
              "      <th>4</th>\n",
              "      <td>cuprum</td>\n",
              "      <td>5</td>\n",
              "      <td>94.960000</td>\n",
              "      <td>95.260</td>\n",
              "      <td>92.2192</td>\n",
              "    </tr>\n",
              "    <tr>\n",
              "      <th>5</th>\n",
              "      <td>delta</td>\n",
              "      <td>6</td>\n",
              "      <td>84.826667</td>\n",
              "      <td>92.485</td>\n",
              "      <td>83.5792</td>\n",
              "    </tr>\n",
              "    <tr>\n",
              "      <th>6</th>\n",
              "      <td>eta</td>\n",
              "      <td>7</td>\n",
              "      <td>93.980000</td>\n",
              "      <td>97.300</td>\n",
              "      <td>95.6528</td>\n",
              "    </tr>\n",
              "    <tr>\n",
              "      <th>7</th>\n",
              "      <td>epsilon</td>\n",
              "      <td>8</td>\n",
              "      <td>60.788200</td>\n",
              "      <td>68.000</td>\n",
              "      <td>83.8672</td>\n",
              "    </tr>\n",
              "    <tr>\n",
              "      <th>8</th>\n",
              "      <td>foxtrot</td>\n",
              "      <td>9</td>\n",
              "      <td>94.306667</td>\n",
              "      <td>82.000</td>\n",
              "      <td>84.1472</td>\n",
              "    </tr>\n",
              "    <tr>\n",
              "      <th>9</th>\n",
              "      <td>gamma</td>\n",
              "      <td>10</td>\n",
              "      <td>96.406667</td>\n",
              "      <td>82.000</td>\n",
              "      <td>84.1472</td>\n",
              "    </tr>\n",
              "    <tr>\n",
              "      <th>10</th>\n",
              "      <td>geld</td>\n",
              "      <td>11</td>\n",
              "      <td>86.926667</td>\n",
              "      <td>92.485</td>\n",
              "      <td>82.7792</td>\n",
              "    </tr>\n",
              "    <tr>\n",
              "      <th>11</th>\n",
              "      <td>horus</td>\n",
              "      <td>12</td>\n",
              "      <td>78.173333</td>\n",
              "      <td>94.360</td>\n",
              "      <td>84.3200</td>\n",
              "    </tr>\n",
              "    <tr>\n",
              "      <th>12</th>\n",
              "      <td>iota</td>\n",
              "      <td>13</td>\n",
              "      <td>94.306667</td>\n",
              "      <td>82.000</td>\n",
              "      <td>84.1472</td>\n",
              "    </tr>\n",
              "    <tr>\n",
              "      <th>13</th>\n",
              "      <td>ixus</td>\n",
              "      <td>14</td>\n",
              "      <td>78.173333</td>\n",
              "      <td>94.360</td>\n",
              "      <td>84.3200</td>\n",
              "    </tr>\n",
              "    <tr>\n",
              "      <th>14</th>\n",
              "      <td>jakarta</td>\n",
              "      <td>15</td>\n",
              "      <td>84.826667</td>\n",
              "      <td>92.485</td>\n",
              "      <td>82.7792</td>\n",
              "    </tr>\n",
              "    <tr>\n",
              "      <th>15</th>\n",
              "      <td>koppa</td>\n",
              "      <td>16</td>\n",
              "      <td>NaN</td>\n",
              "      <td>87.685</td>\n",
              "      <td>83.8672</td>\n",
              "    </tr>\n",
              "    <tr>\n",
              "      <th>16</th>\n",
              "      <td>lambda</td>\n",
              "      <td>17</td>\n",
              "      <td>93.980000</td>\n",
              "      <td>97.300</td>\n",
              "      <td>95.6528</td>\n",
              "    </tr>\n",
              "    <tr>\n",
              "      <th>17</th>\n",
              "      <td>mu</td>\n",
              "      <td>18</td>\n",
              "      <td>79.806667</td>\n",
              "      <td>83.500</td>\n",
              "      <td>81.2792</td>\n",
              "    </tr>\n",
              "    <tr>\n",
              "      <th>18</th>\n",
              "      <td>nu</td>\n",
              "      <td>19</td>\n",
              "      <td>75.406667</td>\n",
              "      <td>82.000</td>\n",
              "      <td>82.5472</td>\n",
              "    </tr>\n",
              "    <tr>\n",
              "      <th>19</th>\n",
              "      <td>neta</td>\n",
              "      <td>20</td>\n",
              "      <td>69.314000</td>\n",
              "      <td>87.685</td>\n",
              "      <td>50.3360</td>\n",
              "    </tr>\n",
              "    <tr>\n",
              "      <th>20</th>\n",
              "      <td>omicron</td>\n",
              "      <td>21</td>\n",
              "      <td>93.980000</td>\n",
              "      <td>97.300</td>\n",
              "      <td>95.6528</td>\n",
              "    </tr>\n",
              "    <tr>\n",
              "      <th>21</th>\n",
              "      <td>omega</td>\n",
              "      <td>22</td>\n",
              "      <td>79.806667</td>\n",
              "      <td>83.500</td>\n",
              "      <td>81.2792</td>\n",
              "    </tr>\n",
              "    <tr>\n",
              "      <th>22</th>\n",
              "      <td>phalanx</td>\n",
              "      <td>23</td>\n",
              "      <td>84.826667</td>\n",
              "      <td>92.485</td>\n",
              "      <td>82.7792</td>\n",
              "    </tr>\n",
              "    <tr>\n",
              "      <th>23</th>\n",
              "      <td>peta</td>\n",
              "      <td>24</td>\n",
              "      <td>94.960000</td>\n",
              "      <td>95.260</td>\n",
              "      <td>92.2192</td>\n",
              "    </tr>\n",
              "    <tr>\n",
              "      <th>24</th>\n",
              "      <td>pi</td>\n",
              "      <td>25</td>\n",
              "      <td>79.806667</td>\n",
              "      <td>87.460</td>\n",
              "      <td>81.2792</td>\n",
              "    </tr>\n",
              "    <tr>\n",
              "      <th>25</th>\n",
              "      <td>yotta</td>\n",
              "      <td>26</td>\n",
              "      <td>93.980000</td>\n",
              "      <td>97.300</td>\n",
              "      <td>94.8528</td>\n",
              "    </tr>\n",
              "    <tr>\n",
              "      <th>26</th>\n",
              "      <td>zeta</td>\n",
              "      <td>27</td>\n",
              "      <td>86.626667</td>\n",
              "      <td>84.850</td>\n",
              "      <td>83.8672</td>\n",
              "    </tr>\n",
              "  </tbody>\n",
              "</table>\n",
              "</div>"
            ],
            "text/plain": [
              "       name  id  prelim_grades  midterm_grades  final_grades\n",
              "0     alpha   1      94.960000          95.260       92.2192\n",
              "1     aleph   2      94.960000          95.260       92.7792\n",
              "2      beta   3      78.173333          94.360       84.3200\n",
              "3      beth   4      78.173333          81.372       84.6400\n",
              "4    cuprum   5      94.960000          95.260       92.2192\n",
              "5     delta   6      84.826667          92.485       83.5792\n",
              "6       eta   7      93.980000          97.300       95.6528\n",
              "7   epsilon   8      60.788200          68.000       83.8672\n",
              "8   foxtrot   9      94.306667          82.000       84.1472\n",
              "9     gamma  10      96.406667          82.000       84.1472\n",
              "10     geld  11      86.926667          92.485       82.7792\n",
              "11    horus  12      78.173333          94.360       84.3200\n",
              "12     iota  13      94.306667          82.000       84.1472\n",
              "13     ixus  14      78.173333          94.360       84.3200\n",
              "14  jakarta  15      84.826667          92.485       82.7792\n",
              "15    koppa  16            NaN          87.685       83.8672\n",
              "16   lambda  17      93.980000          97.300       95.6528\n",
              "17       mu  18      79.806667          83.500       81.2792\n",
              "18       nu  19      75.406667          82.000       82.5472\n",
              "19     neta  20      69.314000          87.685       50.3360\n",
              "20  omicron  21      93.980000          97.300       95.6528\n",
              "21    omega  22      79.806667          83.500       81.2792\n",
              "22  phalanx  23      84.826667          92.485       82.7792\n",
              "23     peta  24      94.960000          95.260       92.2192\n",
              "24       pi  25      79.806667          87.460       81.2792\n",
              "25    yotta  26      93.980000          97.300       94.8528\n",
              "26     zeta  27      86.626667          84.850       83.8672"
            ]
          },
          "metadata": {},
          "execution_count": 5
        }
      ]
    },
    {
      "cell_type": "code",
      "metadata": {
        "colab": {
          "base_uri": "https://localhost:8080/",
          "height": 358
        },
        "id": "KXyP86nagL1S",
        "outputId": "b50fc6bd-24ee-47ee-8d97-be809ba5fc9e"
      },
      "source": [
        "df_classgrades = df_classgrades.fillna(0)\n",
        "df_classgrades.head(10)"
      ],
      "execution_count": null,
      "outputs": [
        {
          "output_type": "execute_result",
          "data": {
            "text/html": [
              "<div>\n",
              "<style scoped>\n",
              "    .dataframe tbody tr th:only-of-type {\n",
              "        vertical-align: middle;\n",
              "    }\n",
              "\n",
              "    .dataframe tbody tr th {\n",
              "        vertical-align: top;\n",
              "    }\n",
              "\n",
              "    .dataframe thead th {\n",
              "        text-align: right;\n",
              "    }\n",
              "</style>\n",
              "<table border=\"1\" class=\"dataframe\">\n",
              "  <thead>\n",
              "    <tr style=\"text-align: right;\">\n",
              "      <th></th>\n",
              "      <th>name</th>\n",
              "      <th>id</th>\n",
              "      <th>prelim_grades</th>\n",
              "      <th>midterm_grades</th>\n",
              "      <th>final_grades</th>\n",
              "    </tr>\n",
              "  </thead>\n",
              "  <tbody>\n",
              "    <tr>\n",
              "      <th>0</th>\n",
              "      <td>alpha</td>\n",
              "      <td>1</td>\n",
              "      <td>94.960000</td>\n",
              "      <td>95.260</td>\n",
              "      <td>92.2192</td>\n",
              "    </tr>\n",
              "    <tr>\n",
              "      <th>1</th>\n",
              "      <td>aleph</td>\n",
              "      <td>2</td>\n",
              "      <td>94.960000</td>\n",
              "      <td>95.260</td>\n",
              "      <td>92.7792</td>\n",
              "    </tr>\n",
              "    <tr>\n",
              "      <th>2</th>\n",
              "      <td>beta</td>\n",
              "      <td>3</td>\n",
              "      <td>78.173333</td>\n",
              "      <td>94.360</td>\n",
              "      <td>84.3200</td>\n",
              "    </tr>\n",
              "    <tr>\n",
              "      <th>3</th>\n",
              "      <td>beth</td>\n",
              "      <td>4</td>\n",
              "      <td>78.173333</td>\n",
              "      <td>81.372</td>\n",
              "      <td>84.6400</td>\n",
              "    </tr>\n",
              "    <tr>\n",
              "      <th>4</th>\n",
              "      <td>cuprum</td>\n",
              "      <td>5</td>\n",
              "      <td>94.960000</td>\n",
              "      <td>95.260</td>\n",
              "      <td>92.2192</td>\n",
              "    </tr>\n",
              "    <tr>\n",
              "      <th>5</th>\n",
              "      <td>delta</td>\n",
              "      <td>6</td>\n",
              "      <td>84.826667</td>\n",
              "      <td>92.485</td>\n",
              "      <td>83.5792</td>\n",
              "    </tr>\n",
              "    <tr>\n",
              "      <th>6</th>\n",
              "      <td>eta</td>\n",
              "      <td>7</td>\n",
              "      <td>93.980000</td>\n",
              "      <td>97.300</td>\n",
              "      <td>95.6528</td>\n",
              "    </tr>\n",
              "    <tr>\n",
              "      <th>7</th>\n",
              "      <td>epsilon</td>\n",
              "      <td>8</td>\n",
              "      <td>60.788200</td>\n",
              "      <td>68.000</td>\n",
              "      <td>83.8672</td>\n",
              "    </tr>\n",
              "    <tr>\n",
              "      <th>8</th>\n",
              "      <td>foxtrot</td>\n",
              "      <td>9</td>\n",
              "      <td>94.306667</td>\n",
              "      <td>82.000</td>\n",
              "      <td>84.1472</td>\n",
              "    </tr>\n",
              "    <tr>\n",
              "      <th>9</th>\n",
              "      <td>gamma</td>\n",
              "      <td>10</td>\n",
              "      <td>96.406667</td>\n",
              "      <td>82.000</td>\n",
              "      <td>84.1472</td>\n",
              "    </tr>\n",
              "  </tbody>\n",
              "</table>\n",
              "</div>"
            ],
            "text/plain": [
              "      name  id  prelim_grades  midterm_grades  final_grades\n",
              "0    alpha   1      94.960000          95.260       92.2192\n",
              "1    aleph   2      94.960000          95.260       92.7792\n",
              "2     beta   3      78.173333          94.360       84.3200\n",
              "3     beth   4      78.173333          81.372       84.6400\n",
              "4   cuprum   5      94.960000          95.260       92.2192\n",
              "5    delta   6      84.826667          92.485       83.5792\n",
              "6      eta   7      93.980000          97.300       95.6528\n",
              "7  epsilon   8      60.788200          68.000       83.8672\n",
              "8  foxtrot   9      94.306667          82.000       84.1472\n",
              "9    gamma  10      96.406667          82.000       84.1472"
            ]
          },
          "metadata": {},
          "execution_count": 7
        }
      ]
    },
    {
      "cell_type": "code",
      "metadata": {
        "colab": {
          "base_uri": "https://localhost:8080/",
          "height": 358
        },
        "id": "Hr8XedIKgoSx",
        "outputId": "dbe604fa-a2a1-419c-a913-a5588ecdec8d"
      },
      "source": [
        "### CODE HERE ###\n",
        "#1. Create a function named get_grades()\n",
        "def get_grades(df_classgrades):\n",
        "  for ind, row in df_classgrades.iterrows():\n",
        "    df_classgrades.loc[ind,\"semestral_grades\"] = row['prelim_grades'] * 0.3 + row['midterm_grades'] * 0.3 + row['final_grades'] * 0.4\n",
        "  return df_classgrades.loc\n",
        "\n",
        "get_grades(df_classgrades)\n",
        "df_classgrades.head(10)"
      ],
      "execution_count": null,
      "outputs": [
        {
          "output_type": "execute_result",
          "data": {
            "text/html": [
              "<div>\n",
              "<style scoped>\n",
              "    .dataframe tbody tr th:only-of-type {\n",
              "        vertical-align: middle;\n",
              "    }\n",
              "\n",
              "    .dataframe tbody tr th {\n",
              "        vertical-align: top;\n",
              "    }\n",
              "\n",
              "    .dataframe thead th {\n",
              "        text-align: right;\n",
              "    }\n",
              "</style>\n",
              "<table border=\"1\" class=\"dataframe\">\n",
              "  <thead>\n",
              "    <tr style=\"text-align: right;\">\n",
              "      <th></th>\n",
              "      <th>name</th>\n",
              "      <th>id</th>\n",
              "      <th>prelim_grades</th>\n",
              "      <th>midterm_grades</th>\n",
              "      <th>final_grades</th>\n",
              "      <th>semestral_grades</th>\n",
              "    </tr>\n",
              "  </thead>\n",
              "  <tbody>\n",
              "    <tr>\n",
              "      <th>0</th>\n",
              "      <td>alpha</td>\n",
              "      <td>1</td>\n",
              "      <td>94.960000</td>\n",
              "      <td>95.260</td>\n",
              "      <td>92.2192</td>\n",
              "      <td>93.95368</td>\n",
              "    </tr>\n",
              "    <tr>\n",
              "      <th>1</th>\n",
              "      <td>aleph</td>\n",
              "      <td>2</td>\n",
              "      <td>94.960000</td>\n",
              "      <td>95.260</td>\n",
              "      <td>92.7792</td>\n",
              "      <td>94.17768</td>\n",
              "    </tr>\n",
              "    <tr>\n",
              "      <th>2</th>\n",
              "      <td>beta</td>\n",
              "      <td>3</td>\n",
              "      <td>78.173333</td>\n",
              "      <td>94.360</td>\n",
              "      <td>84.3200</td>\n",
              "      <td>85.48800</td>\n",
              "    </tr>\n",
              "    <tr>\n",
              "      <th>3</th>\n",
              "      <td>beth</td>\n",
              "      <td>4</td>\n",
              "      <td>78.173333</td>\n",
              "      <td>81.372</td>\n",
              "      <td>84.6400</td>\n",
              "      <td>81.71960</td>\n",
              "    </tr>\n",
              "    <tr>\n",
              "      <th>4</th>\n",
              "      <td>cuprum</td>\n",
              "      <td>5</td>\n",
              "      <td>94.960000</td>\n",
              "      <td>95.260</td>\n",
              "      <td>92.2192</td>\n",
              "      <td>93.95368</td>\n",
              "    </tr>\n",
              "    <tr>\n",
              "      <th>5</th>\n",
              "      <td>delta</td>\n",
              "      <td>6</td>\n",
              "      <td>84.826667</td>\n",
              "      <td>92.485</td>\n",
              "      <td>83.5792</td>\n",
              "      <td>86.62518</td>\n",
              "    </tr>\n",
              "    <tr>\n",
              "      <th>6</th>\n",
              "      <td>eta</td>\n",
              "      <td>7</td>\n",
              "      <td>93.980000</td>\n",
              "      <td>97.300</td>\n",
              "      <td>95.6528</td>\n",
              "      <td>95.64512</td>\n",
              "    </tr>\n",
              "    <tr>\n",
              "      <th>7</th>\n",
              "      <td>epsilon</td>\n",
              "      <td>8</td>\n",
              "      <td>60.788200</td>\n",
              "      <td>68.000</td>\n",
              "      <td>83.8672</td>\n",
              "      <td>72.18334</td>\n",
              "    </tr>\n",
              "    <tr>\n",
              "      <th>8</th>\n",
              "      <td>foxtrot</td>\n",
              "      <td>9</td>\n",
              "      <td>94.306667</td>\n",
              "      <td>82.000</td>\n",
              "      <td>84.1472</td>\n",
              "      <td>86.55088</td>\n",
              "    </tr>\n",
              "    <tr>\n",
              "      <th>9</th>\n",
              "      <td>gamma</td>\n",
              "      <td>10</td>\n",
              "      <td>96.406667</td>\n",
              "      <td>82.000</td>\n",
              "      <td>84.1472</td>\n",
              "      <td>87.18088</td>\n",
              "    </tr>\n",
              "  </tbody>\n",
              "</table>\n",
              "</div>"
            ],
            "text/plain": [
              "      name  id  prelim_grades  midterm_grades  final_grades  semestral_grades\n",
              "0    alpha   1      94.960000          95.260       92.2192          93.95368\n",
              "1    aleph   2      94.960000          95.260       92.7792          94.17768\n",
              "2     beta   3      78.173333          94.360       84.3200          85.48800\n",
              "3     beth   4      78.173333          81.372       84.6400          81.71960\n",
              "4   cuprum   5      94.960000          95.260       92.2192          93.95368\n",
              "5    delta   6      84.826667          92.485       83.5792          86.62518\n",
              "6      eta   7      93.980000          97.300       95.6528          95.64512\n",
              "7  epsilon   8      60.788200          68.000       83.8672          72.18334\n",
              "8  foxtrot   9      94.306667          82.000       84.1472          86.55088\n",
              "9    gamma  10      96.406667          82.000       84.1472          87.18088"
            ]
          },
          "metadata": {},
          "execution_count": 24
        }
      ]
    },
    {
      "cell_type": "code",
      "metadata": {
        "id": "LPlgZ-ASnpKs",
        "colab": {
          "base_uri": "https://localhost:8080/",
          "height": 172
        },
        "outputId": "abce156d-728d-43a0-e501-20313e37e09e"
      },
      "source": [
        "### CODE HERE ###\n",
        "#2. Create a function named get_class_stats()\n",
        "\n",
        "def get_class_stats(df_classgrades):\n",
        "  prelim = df_classgrades[\"prelim_grades\"]\n",
        "  midterm = df_classgrades[\"midterm_grades\"]\n",
        "  finals = df_classgrades[\"final_grades\"]\n",
        "  sem_grade = df_classgrades[\"semestral_grades\"]\n",
        "\n",
        "  p_mean = prelim.mean()\n",
        "  p_median = prelim.median()\n",
        "  p_mode = prelim.mode()[0]\n",
        "  p_std = prelim.std()\n",
        "  p_lowest = prelim.min()\n",
        "  p_highest = prelim.max()\n",
        "\n",
        "  m_mean =  midterm.mean()\n",
        "  m_median =  midterm.median()\n",
        "  m_mode =  midterm.mode()[0]\n",
        "  m_std =  midterm.std()\n",
        "  m_lowest = midterm.min()\n",
        "  m_highest = midterm.max()\n",
        "\n",
        "  f_mean = finals.mean()\n",
        "  f_median = finals.median()\n",
        "  f_mode = finals.mode()[0]\n",
        "  f_std = finals.std()\n",
        "  f_lowest = finals.min()\n",
        "  f_highest = finals.max()\n",
        "\n",
        "  s_mean = sem_grade.mean()\n",
        "  s_median = sem_grade.median()\n",
        "  s_mode = sem_grade.mode()[0]\n",
        "  s_std = sem_grade.std()\n",
        "  s_lowest = sem_grade.min()\n",
        "  s_highest = sem_grade.max()\n",
        "\n",
        "  stats = {' ':[\"Prelim Grades\",\"Midterm Grades\",\"Final Grades\",\"Semestral Grades\"],\n",
        "        'Mean':[p_mean,m_mean,f_mean,s_mean],\n",
        "        'Median':[p_median,m_median,f_median,s_median],\n",
        "        'Mode':[p_mode,m_mode,f_mode,s_mode],\n",
        "        'Standard_Deviation':[p_std,m_std,f_std,s_std],\n",
        "        'Lowest':[p_lowest,m_lowest,f_lowest,s_lowest],\n",
        "        'Highest':[p_highest,m_highest,f_highest,s_highest]\n",
        "  }\n",
        "  df_classgrades = pd.DataFrame(stats)\n",
        "  return df_classgrades\n",
        "\n",
        "get_class_stats(df_classgrades)"
      ],
      "execution_count": null,
      "outputs": [
        {
          "output_type": "execute_result",
          "data": {
            "text/html": [
              "<div>\n",
              "<style scoped>\n",
              "    .dataframe tbody tr th:only-of-type {\n",
              "        vertical-align: middle;\n",
              "    }\n",
              "\n",
              "    .dataframe tbody tr th {\n",
              "        vertical-align: top;\n",
              "    }\n",
              "\n",
              "    .dataframe thead th {\n",
              "        text-align: right;\n",
              "    }\n",
              "</style>\n",
              "<table border=\"1\" class=\"dataframe\">\n",
              "  <thead>\n",
              "    <tr style=\"text-align: right;\">\n",
              "      <th></th>\n",
              "      <th></th>\n",
              "      <th>Mean</th>\n",
              "      <th>Median</th>\n",
              "      <th>Mode</th>\n",
              "      <th>Standard_Deviation</th>\n",
              "      <th>Lowest</th>\n",
              "      <th>Highest</th>\n",
              "    </tr>\n",
              "  </thead>\n",
              "  <tbody>\n",
              "    <tr>\n",
              "      <th>0</th>\n",
              "      <td>Prelim Grades</td>\n",
              "      <td>82.460575</td>\n",
              "      <td>84.826667</td>\n",
              "      <td>78.173333</td>\n",
              "      <td>18.883918</td>\n",
              "      <td>0.00000</td>\n",
              "      <td>96.406667</td>\n",
              "    </tr>\n",
              "    <tr>\n",
              "      <th>1</th>\n",
              "      <td>Midterm Grades</td>\n",
              "      <td>89.456000</td>\n",
              "      <td>92.485000</td>\n",
              "      <td>82.000000</td>\n",
              "      <td>7.179578</td>\n",
              "      <td>68.00000</td>\n",
              "      <td>97.300000</td>\n",
              "    </tr>\n",
              "    <tr>\n",
              "      <th>2</th>\n",
              "      <td>Final Grades</td>\n",
              "      <td>85.241807</td>\n",
              "      <td>84.147200</td>\n",
              "      <td>81.279200</td>\n",
              "      <td>8.607503</td>\n",
              "      <td>50.33600</td>\n",
              "      <td>95.652800</td>\n",
              "    </tr>\n",
              "    <tr>\n",
              "      <th>3</th>\n",
              "      <td>Semestral Grades</td>\n",
              "      <td>85.671696</td>\n",
              "      <td>86.305180</td>\n",
              "      <td>85.488000</td>\n",
              "      <td>8.670630</td>\n",
              "      <td>59.85238</td>\n",
              "      <td>95.645120</td>\n",
              "    </tr>\n",
              "  </tbody>\n",
              "</table>\n",
              "</div>"
            ],
            "text/plain": [
              "                          Mean  ...    Lowest    Highest\n",
              "0     Prelim Grades  82.460575  ...   0.00000  96.406667\n",
              "1    Midterm Grades  89.456000  ...  68.00000  97.300000\n",
              "2      Final Grades  85.241807  ...  50.33600  95.652800\n",
              "3  Semestral Grades  85.671696  ...  59.85238  95.645120\n",
              "\n",
              "[4 rows x 7 columns]"
            ]
          },
          "metadata": {},
          "execution_count": 27
        }
      ]
    },
    {
      "cell_type": "code",
      "metadata": {
        "colab": {
          "base_uri": "https://localhost:8080/",
          "height": 296
        },
        "id": "OuqK7YwJAWvc",
        "outputId": "a070a89a-9b6a-476f-9fd5-b629a74895b8"
      },
      "source": [
        "df_classgrades.describe()"
      ],
      "execution_count": null,
      "outputs": [
        {
          "output_type": "execute_result",
          "data": {
            "text/html": [
              "<div>\n",
              "<style scoped>\n",
              "    .dataframe tbody tr th:only-of-type {\n",
              "        vertical-align: middle;\n",
              "    }\n",
              "\n",
              "    .dataframe tbody tr th {\n",
              "        vertical-align: top;\n",
              "    }\n",
              "\n",
              "    .dataframe thead th {\n",
              "        text-align: right;\n",
              "    }\n",
              "</style>\n",
              "<table border=\"1\" class=\"dataframe\">\n",
              "  <thead>\n",
              "    <tr style=\"text-align: right;\">\n",
              "      <th></th>\n",
              "      <th>id</th>\n",
              "      <th>prelim_grades</th>\n",
              "      <th>midterm_grades</th>\n",
              "      <th>final_grades</th>\n",
              "      <th>semestral_grades</th>\n",
              "    </tr>\n",
              "  </thead>\n",
              "  <tbody>\n",
              "    <tr>\n",
              "      <th>count</th>\n",
              "      <td>27.000000</td>\n",
              "      <td>27.000000</td>\n",
              "      <td>27.000000</td>\n",
              "      <td>27.000000</td>\n",
              "      <td>27.000000</td>\n",
              "    </tr>\n",
              "    <tr>\n",
              "      <th>mean</th>\n",
              "      <td>14.000000</td>\n",
              "      <td>82.460575</td>\n",
              "      <td>89.456000</td>\n",
              "      <td>85.241807</td>\n",
              "      <td>85.671696</td>\n",
              "    </tr>\n",
              "    <tr>\n",
              "      <th>std</th>\n",
              "      <td>7.937254</td>\n",
              "      <td>18.883918</td>\n",
              "      <td>7.179578</td>\n",
              "      <td>8.607503</td>\n",
              "      <td>8.670630</td>\n",
              "    </tr>\n",
              "    <tr>\n",
              "      <th>min</th>\n",
              "      <td>1.000000</td>\n",
              "      <td>0.000000</td>\n",
              "      <td>68.000000</td>\n",
              "      <td>50.336000</td>\n",
              "      <td>59.852380</td>\n",
              "    </tr>\n",
              "    <tr>\n",
              "      <th>25%</th>\n",
              "      <td>7.500000</td>\n",
              "      <td>78.173333</td>\n",
              "      <td>83.500000</td>\n",
              "      <td>82.779200</td>\n",
              "      <td>82.205640</td>\n",
              "    </tr>\n",
              "    <tr>\n",
              "      <th>50%</th>\n",
              "      <td>14.000000</td>\n",
              "      <td>84.826667</td>\n",
              "      <td>92.485000</td>\n",
              "      <td>84.147200</td>\n",
              "      <td>86.305180</td>\n",
              "    </tr>\n",
              "    <tr>\n",
              "      <th>75%</th>\n",
              "      <td>20.500000</td>\n",
              "      <td>94.143333</td>\n",
              "      <td>95.260000</td>\n",
              "      <td>92.219200</td>\n",
              "      <td>93.953680</td>\n",
              "    </tr>\n",
              "    <tr>\n",
              "      <th>max</th>\n",
              "      <td>27.000000</td>\n",
              "      <td>96.406667</td>\n",
              "      <td>97.300000</td>\n",
              "      <td>95.652800</td>\n",
              "      <td>95.645120</td>\n",
              "    </tr>\n",
              "  </tbody>\n",
              "</table>\n",
              "</div>"
            ],
            "text/plain": [
              "              id  prelim_grades  midterm_grades  final_grades  semestral_grades\n",
              "count  27.000000      27.000000       27.000000     27.000000         27.000000\n",
              "mean   14.000000      82.460575       89.456000     85.241807         85.671696\n",
              "std     7.937254      18.883918        7.179578      8.607503          8.670630\n",
              "min     1.000000       0.000000       68.000000     50.336000         59.852380\n",
              "25%     7.500000      78.173333       83.500000     82.779200         82.205640\n",
              "50%    14.000000      84.826667       92.485000     84.147200         86.305180\n",
              "75%    20.500000      94.143333       95.260000     92.219200         93.953680\n",
              "max    27.000000      96.406667       97.300000     95.652800         95.645120"
            ]
          },
          "metadata": {},
          "execution_count": 26
        }
      ]
    },
    {
      "cell_type": "markdown",
      "metadata": {
        "id": "NCPH2Iy_s6Ox"
      },
      "source": [
        "## 1.2 Code Optimization\n",
        "\n",
        "When we consider your code to be part of production or for customer delivery we must consider that they are not laggy nor too space-consuming for devices. This is a common practice in data science and machine learning wherein training algorithms take up resources from computers or considering the space a model consumes at your workspace or your customer’s device."
      ]
    },
    {
      "cell_type": "markdown",
      "metadata": {
        "id": "IfNVUwU5tApZ"
      },
      "source": [
        "### *Space Complexity*\n",
        "\n",
        "This would specifically refer to your choice of data structures. This is a job for reviewing data structures and algorithms for space complexity. Although in Python for AI we are looking into more data structures like matrices and data frames."
      ]
    },
    {
      "cell_type": "code",
      "metadata": {
        "id": "viiNhOeaKv8V"
      },
      "source": [
        "'''\n",
        "    CASE 3: Class management.\n",
        "\n",
        "    For this cell we are going to look into optimizing functions for the class.\n",
        "    This includes finding unique data and similar data amnong class materials.\n",
        "'''\n",
        "## The following code will optimize how to efficiently store data into memory\n",
        "enrollees_2016_2020 = ['15022', '18302', '8845', '9203', '10035']\n",
        "enrollees_2016_2020 = [15022, 18302, 8845, 9203, 10035]"
      ],
      "execution_count": null,
      "outputs": []
    },
    {
      "cell_type": "code",
      "metadata": {
        "colab": {
          "base_uri": "https://localhost:8080/"
        },
        "id": "_qU1hQQKDbZj",
        "outputId": "02a97729-322b-45dd-f0fe-b3be6d3e182e"
      },
      "source": [
        "img1 = [[125.4543, 254.0001], [64.2132, 84.5336]]\n",
        "img1"
      ],
      "execution_count": null,
      "outputs": [
        {
          "output_type": "execute_result",
          "data": {
            "text/plain": [
              "[[125.4543, 254.0001], [64.2132, 84.5336]]"
            ]
          },
          "metadata": {},
          "execution_count": 39
        }
      ]
    },
    {
      "cell_type": "code",
      "metadata": {
        "colab": {
          "base_uri": "https://localhost:8080/"
        },
        "id": "JV2hWEmcEMyw",
        "outputId": "aa4d1a8a-267f-4e76-dee5-cd246fafbc57"
      },
      "source": [
        "import numpy as np\n",
        "img1_vector = np.array(img1)\n",
        "img1_vector"
      ],
      "execution_count": null,
      "outputs": [
        {
          "output_type": "execute_result",
          "data": {
            "text/plain": [
              "array([[125.4543, 254.0001],\n",
              "       [ 64.2132,  84.5336]])"
            ]
          },
          "metadata": {},
          "execution_count": 40
        }
      ]
    },
    {
      "cell_type": "code",
      "metadata": {
        "colab": {
          "base_uri": "https://localhost:8080/"
        },
        "id": "8b4cIeOgERdo",
        "outputId": "e3084b81-f442-4fae-efbd-4c9412ae68d0"
      },
      "source": [
        "img1_quantized = np.array(img1_vector, dtype='int32')\n",
        "img1_quantized"
      ],
      "execution_count": null,
      "outputs": [
        {
          "output_type": "execute_result",
          "data": {
            "text/plain": [
              "array([[125, 254],\n",
              "       [ 64,  84]], dtype=int32)"
            ]
          },
          "metadata": {},
          "execution_count": 41
        }
      ]
    },
    {
      "cell_type": "markdown",
      "metadata": {
        "id": "NY2uePQzs9gZ"
      },
      "source": [
        "### *Time Complexity*\n",
        "\n",
        "If you would recall back in your data structures and algorithms this pertains to the Big-O notation. However, in this notebook, we’ll look into specific and intuitive samples of time complexity. We are going to look at specific AI use such as the concept of vectorization."
      ]
    },
    {
      "cell_type": "code",
      "metadata": {
        "id": "_70MZNTjlRdr"
      },
      "source": [
        "import numpy as np"
      ],
      "execution_count": null,
      "outputs": []
    },
    {
      "cell_type": "code",
      "metadata": {
        "id": "5WlqePejs10Z",
        "colab": {
          "base_uri": "https://localhost:8080/"
        },
        "outputId": "67c432a6-9373-475c-b775-39ff0d2b1090"
      },
      "source": [
        "## The following code wil try to optimize getting unique elements from the given\n",
        "## list of class codes\n",
        "\n",
        "curr_2018_courses = ['120', '720', '228', '450', '101', '768', '223', '243',\n",
        "                     '923', '418', '123', '231', '450', '124', '118', '654',\n",
        "                     '231', '768', '768', '224', '654', '003']\n",
        "### print an array that shows only the unique elements\n",
        "### Code from Geeks for Geeks\n",
        "def unique(arr):\n",
        "     # initialize a null list\n",
        "    unique_list = []\n",
        "     \n",
        "    # traverse for all elements\n",
        "    for item in arr:\n",
        "        # check if exists in unique_list or not\n",
        "        if item not in unique_list:\n",
        "            unique_list.append(item)\n",
        "    return sorted(unique_list)\n",
        "\n",
        "unique(curr_2018_courses)  "
      ],
      "execution_count": null,
      "outputs": [
        {
          "output_type": "execute_result",
          "data": {
            "text/plain": [
              "['003',\n",
              " '101',\n",
              " '118',\n",
              " '120',\n",
              " '123',\n",
              " '124',\n",
              " '223',\n",
              " '224',\n",
              " '228',\n",
              " '231',\n",
              " '243',\n",
              " '418',\n",
              " '450',\n",
              " '654',\n",
              " '720',\n",
              " '768',\n",
              " '923']"
            ]
          },
          "metadata": {},
          "execution_count": 30
        }
      ]
    },
    {
      "cell_type": "code",
      "metadata": {
        "id": "G0bFhzBfGz75",
        "colab": {
          "base_uri": "https://localhost:8080/"
        },
        "outputId": "14714217-91e7-49c7-ecfd-a11b4c47d5d9"
      },
      "source": [
        "### Optimized way\n",
        "sorted(list(set(curr_2018_courses)))"
      ],
      "execution_count": null,
      "outputs": [
        {
          "output_type": "execute_result",
          "data": {
            "text/plain": [
              "['003',\n",
              " '101',\n",
              " '118',\n",
              " '120',\n",
              " '123',\n",
              " '124',\n",
              " '223',\n",
              " '224',\n",
              " '228',\n",
              " '231',\n",
              " '243',\n",
              " '418',\n",
              " '450',\n",
              " '654',\n",
              " '720',\n",
              " '768',\n",
              " '923']"
            ]
          },
          "metadata": {},
          "execution_count": 31
        }
      ]
    },
    {
      "cell_type": "code",
      "metadata": {
        "colab": {
          "base_uri": "https://localhost:8080/"
        },
        "id": "8qQsScWhUybw",
        "outputId": "7efb41a3-94ec-4172-f221-015698ae3387"
      },
      "source": [
        "### Optimizing Functions\n",
        "import math\n",
        "def get_floor_binlog(num):\n",
        "  return math.floor(math.log2(num))\n",
        "get_floor_binlog(31)"
      ],
      "execution_count": null,
      "outputs": [
        {
          "output_type": "execute_result",
          "data": {
            "text/plain": [
              "4"
            ]
          },
          "metadata": {},
          "execution_count": 32
        }
      ]
    },
    {
      "cell_type": "code",
      "metadata": {
        "colab": {
          "base_uri": "https://localhost:8080/"
        },
        "id": "6atMBkMBWRP7",
        "outputId": "6dfcd1ab-a0e5-4077-bfe0-beadee4c3809"
      },
      "source": [
        "### Lambda Functions\n",
        "binlog = lambda num: math.floor(math.log2(num))\n",
        "binlog(31)"
      ],
      "execution_count": null,
      "outputs": [
        {
          "output_type": "execute_result",
          "data": {
            "text/plain": [
              "4"
            ]
          },
          "metadata": {},
          "execution_count": 11
        }
      ]
    },
    {
      "cell_type": "code",
      "metadata": {
        "id": "ugT6Y-zBWjqD"
      },
      "source": [
        "### Optimizing Booleans\n",
        "val = 1\n",
        "if val%2 == 0:\n",
        "  val = 1\n",
        "else:\n",
        "  val = 2"
      ],
      "execution_count": null,
      "outputs": []
    },
    {
      "cell_type": "code",
      "metadata": {
        "colab": {
          "base_uri": "https://localhost:8080/"
        },
        "id": "uH-xQX6zUyqK",
        "outputId": "bcf7d980-f095-4daf-8660-6d941fe6c59e"
      },
      "source": [
        "### Singe-line Boolean Statemets\n",
        "val = 1\n",
        "val = 1 if val%2 == 0 else 2\n",
        "val"
      ],
      "execution_count": null,
      "outputs": [
        {
          "output_type": "execute_result",
          "data": {
            "text/plain": [
              "2"
            ]
          },
          "metadata": {},
          "execution_count": 34
        }
      ]
    },
    {
      "cell_type": "code",
      "metadata": {
        "colab": {
          "base_uri": "https://localhost:8080/"
        },
        "id": "WTU6lB6CXCIQ",
        "outputId": "23fc9856-8ac6-4da4-cc8b-1a70aaadc53d"
      },
      "source": [
        "### Optimizing Iterations\n",
        "bits = [0,1,0,1,0]\n",
        "not_bits = []\n",
        "for bit in bits:\n",
        "  not_bits.append(int(not(bit)))\n",
        "print(not_bits)"
      ],
      "execution_count": null,
      "outputs": [
        {
          "output_type": "stream",
          "name": "stdout",
          "text": [
            "[1, 0, 1, 0, 1]\n"
          ]
        }
      ]
    },
    {
      "cell_type": "code",
      "metadata": {
        "colab": {
          "base_uri": "https://localhost:8080/"
        },
        "id": "g9Z2mzLzVNVi",
        "outputId": "7862d123-586d-413d-ea9d-25e02e7b089e"
      },
      "source": [
        "### List Comprehensions\n",
        "bits = [0,0,0,1,1,1]\n",
        "not_bits = [int(not(bit)) for bit in bits]\n",
        "not_bits"
      ],
      "execution_count": null,
      "outputs": [
        {
          "output_type": "execute_result",
          "data": {
            "text/plain": [
              "[1, 1, 1, 0, 0, 0]"
            ]
          },
          "metadata": {},
          "execution_count": 36
        }
      ]
    },
    {
      "cell_type": "code",
      "metadata": {
        "colab": {
          "base_uri": "https://localhost:8080/"
        },
        "id": "W9y04uVjYInF",
        "outputId": "fd11a0b9-7d96-432b-ef6f-bacddb45589b"
      },
      "source": [
        "### A Networks Example\n",
        "def get_floor_binlog(num):\n",
        "  return math.floor(math.log2(num))\n",
        "def get_subnet_bits(user_count):\n",
        "  \n",
        "  floor_bin = get_floor_binlog(user_count) # gets the floor bits from \n",
        "                                           # the user count\n",
        "  if floor_bin == 0: # assign 1 if bit count is 0.\n",
        "    floor_bin = 1\n",
        "  bits = [] # instantiate the bit container\n",
        "  for i in range(floor_bin): # add a bit to the list of bits according to the\n",
        "                             # bit count.\n",
        "    bits.append(1) \n",
        "  return bits\n",
        "\n",
        "get_subnet_bits(32)"
      ],
      "execution_count": null,
      "outputs": [
        {
          "output_type": "execute_result",
          "data": {
            "text/plain": [
              "[1, 1, 1, 1, 1]"
            ]
          },
          "metadata": {},
          "execution_count": 37
        }
      ]
    },
    {
      "cell_type": "code",
      "metadata": {
        "colab": {
          "base_uri": "https://localhost:8080/"
        },
        "id": "c1U3rj0iZvx5",
        "outputId": "9f8ead8c-74ea-4f8f-b00a-fdd0c511ebc7"
      },
      "source": [
        "#### An Optimized Networks Example\n",
        "floor_bin = lambda num: math.floor(math.log2(num))\n",
        "\n",
        "def get_subnet_bits(user_count):\n",
        "  \n",
        "  nbits = floor_bin(user_count) # gets the floor bits from the user count\n",
        "  nbits = 1 if nbits==0 else nbits # assign 1 if bit count is 0.\n",
        "  bits = [1 for i in range(nbits)] # add a bit to the list of bits according \n",
        "                                   # to the bit count.\n",
        "  return bits\n",
        "\n",
        "get_subnet_bits(32)"
      ],
      "execution_count": null,
      "outputs": [
        {
          "output_type": "execute_result",
          "data": {
            "text/plain": [
              "[1, 1, 1, 1, 1]"
            ]
          },
          "metadata": {},
          "execution_count": 38
        }
      ]
    },
    {
      "cell_type": "code",
      "metadata": {
        "id": "COZLgumcIJ2u"
      },
      "source": [
        "## The following code wil try to optimize solving for the inner product of two\n",
        "## lists\n",
        "vectA = [1,2,3,0,1,-1,2]\n",
        "vectB = [-1,4,5,3,2,0,-5]"
      ],
      "execution_count": null,
      "outputs": []
    },
    {
      "cell_type": "code",
      "metadata": {
        "colab": {
          "base_uri": "https://localhost:8080/"
        },
        "id": "8490guPfF1iy",
        "outputId": "cb094ab9-9705-4ac2-e249-f330bae0c3dd"
      },
      "source": [
        "def inner_product(vect1, vect2):\n",
        "  result = 0 \n",
        "  for va,vb in zip(vectA, vectB):\n",
        "    result += va*vb\n",
        "  return result\n",
        "inner_product(vectA, vectB)"
      ],
      "execution_count": null,
      "outputs": [
        {
          "output_type": "execute_result",
          "data": {
            "text/plain": [
              "14"
            ]
          },
          "metadata": {},
          "execution_count": 40
        }
      ]
    },
    {
      "cell_type": "markdown",
      "metadata": {
        "id": "23uTdW9eTTsC"
      },
      "source": [
        "### Task 3: Advanced Class Functions\n",
        "1. Optimize `get_grades()` by eliminating for loops in your function.\n",
        "2. Create a function named `get_similar_students()`\n",
        "  \n",
        "  `inputs`: two (2) class `DataFrames`\n",
        "  \n",
        "  `outputs`: list of common student numbers.\n",
        "\n",
        "  *Note*: The function should not contain iterative code blocks (i.e. `for` or `while` loops, or list comprehension)"
      ]
    },
    {
      "cell_type": "code",
      "metadata": {
        "id": "nGO2PPWcRTV7",
        "colab": {
          "resources": {
            "http://localhost:8080/nbextensions/google.colab/files.js": {
              "data": "Ly8gQ29weXJpZ2h0IDIwMTcgR29vZ2xlIExMQwovLwovLyBMaWNlbnNlZCB1bmRlciB0aGUgQXBhY2hlIExpY2Vuc2UsIFZlcnNpb24gMi4wICh0aGUgIkxpY2Vuc2UiKTsKLy8geW91IG1heSBub3QgdXNlIHRoaXMgZmlsZSBleGNlcHQgaW4gY29tcGxpYW5jZSB3aXRoIHRoZSBMaWNlbnNlLgovLyBZb3UgbWF5IG9idGFpbiBhIGNvcHkgb2YgdGhlIExpY2Vuc2UgYXQKLy8KLy8gICAgICBodHRwOi8vd3d3LmFwYWNoZS5vcmcvbGljZW5zZXMvTElDRU5TRS0yLjAKLy8KLy8gVW5sZXNzIHJlcXVpcmVkIGJ5IGFwcGxpY2FibGUgbGF3IG9yIGFncmVlZCB0byBpbiB3cml0aW5nLCBzb2Z0d2FyZQovLyBkaXN0cmlidXRlZCB1bmRlciB0aGUgTGljZW5zZSBpcyBkaXN0cmlidXRlZCBvbiBhbiAiQVMgSVMiIEJBU0lTLAovLyBXSVRIT1VUIFdBUlJBTlRJRVMgT1IgQ09ORElUSU9OUyBPRiBBTlkgS0lORCwgZWl0aGVyIGV4cHJlc3Mgb3IgaW1wbGllZC4KLy8gU2VlIHRoZSBMaWNlbnNlIGZvciB0aGUgc3BlY2lmaWMgbGFuZ3VhZ2UgZ292ZXJuaW5nIHBlcm1pc3Npb25zIGFuZAovLyBsaW1pdGF0aW9ucyB1bmRlciB0aGUgTGljZW5zZS4KCi8qKgogKiBAZmlsZW92ZXJ2aWV3IEhlbHBlcnMgZm9yIGdvb2dsZS5jb2xhYiBQeXRob24gbW9kdWxlLgogKi8KKGZ1bmN0aW9uKHNjb3BlKSB7CmZ1bmN0aW9uIHNwYW4odGV4dCwgc3R5bGVBdHRyaWJ1dGVzID0ge30pIHsKICBjb25zdCBlbGVtZW50ID0gZG9jdW1lbnQuY3JlYXRlRWxlbWVudCgnc3BhbicpOwogIGVsZW1lbnQudGV4dENvbnRlbnQgPSB0ZXh0OwogIGZvciAoY29uc3Qga2V5IG9mIE9iamVjdC5rZXlzKHN0eWxlQXR0cmlidXRlcykpIHsKICAgIGVsZW1lbnQuc3R5bGVba2V5XSA9IHN0eWxlQXR0cmlidXRlc1trZXldOwogIH0KICByZXR1cm4gZWxlbWVudDsKfQoKLy8gTWF4IG51bWJlciBvZiBieXRlcyB3aGljaCB3aWxsIGJlIHVwbG9hZGVkIGF0IGEgdGltZS4KY29uc3QgTUFYX1BBWUxPQURfU0laRSA9IDEwMCAqIDEwMjQ7CgpmdW5jdGlvbiBfdXBsb2FkRmlsZXMoaW5wdXRJZCwgb3V0cHV0SWQpIHsKICBjb25zdCBzdGVwcyA9IHVwbG9hZEZpbGVzU3RlcChpbnB1dElkLCBvdXRwdXRJZCk7CiAgY29uc3Qgb3V0cHV0RWxlbWVudCA9IGRvY3VtZW50LmdldEVsZW1lbnRCeUlkKG91dHB1dElkKTsKICAvLyBDYWNoZSBzdGVwcyBvbiB0aGUgb3V0cHV0RWxlbWVudCB0byBtYWtlIGl0IGF2YWlsYWJsZSBmb3IgdGhlIG5leHQgY2FsbAogIC8vIHRvIHVwbG9hZEZpbGVzQ29udGludWUgZnJvbSBQeXRob24uCiAgb3V0cHV0RWxlbWVudC5zdGVwcyA9IHN0ZXBzOwoKICByZXR1cm4gX3VwbG9hZEZpbGVzQ29udGludWUob3V0cHV0SWQpOwp9CgovLyBUaGlzIGlzIHJvdWdobHkgYW4gYXN5bmMgZ2VuZXJhdG9yIChub3Qgc3VwcG9ydGVkIGluIHRoZSBicm93c2VyIHlldCksCi8vIHdoZXJlIHRoZXJlIGFyZSBtdWx0aXBsZSBhc3luY2hyb25vdXMgc3RlcHMgYW5kIHRoZSBQeXRob24gc2lkZSBpcyBnb2luZwovLyB0byBwb2xsIGZvciBjb21wbGV0aW9uIG9mIGVhY2ggc3RlcC4KLy8gVGhpcyB1c2VzIGEgUHJvbWlzZSB0byBibG9jayB0aGUgcHl0aG9uIHNpZGUgb24gY29tcGxldGlvbiBvZiBlYWNoIHN0ZXAsCi8vIHRoZW4gcGFzc2VzIHRoZSByZXN1bHQgb2YgdGhlIHByZXZpb3VzIHN0ZXAgYXMgdGhlIGlucHV0IHRvIHRoZSBuZXh0IHN0ZXAuCmZ1bmN0aW9uIF91cGxvYWRGaWxlc0NvbnRpbnVlKG91dHB1dElkKSB7CiAgY29uc3Qgb3V0cHV0RWxlbWVudCA9IGRvY3VtZW50LmdldEVsZW1lbnRCeUlkKG91dHB1dElkKTsKICBjb25zdCBzdGVwcyA9IG91dHB1dEVsZW1lbnQuc3RlcHM7CgogIGNvbnN0IG5leHQgPSBzdGVwcy5uZXh0KG91dHB1dEVsZW1lbnQubGFzdFByb21pc2VWYWx1ZSk7CiAgcmV0dXJuIFByb21pc2UucmVzb2x2ZShuZXh0LnZhbHVlLnByb21pc2UpLnRoZW4oKHZhbHVlKSA9PiB7CiAgICAvLyBDYWNoZSB0aGUgbGFzdCBwcm9taXNlIHZhbHVlIHRvIG1ha2UgaXQgYXZhaWxhYmxlIHRvIHRoZSBuZXh0CiAgICAvLyBzdGVwIG9mIHRoZSBnZW5lcmF0b3IuCiAgICBvdXRwdXRFbGVtZW50Lmxhc3RQcm9taXNlVmFsdWUgPSB2YWx1ZTsKICAgIHJldHVybiBuZXh0LnZhbHVlLnJlc3BvbnNlOwogIH0pOwp9CgovKioKICogR2VuZXJhdG9yIGZ1bmN0aW9uIHdoaWNoIGlzIGNhbGxlZCBiZXR3ZWVuIGVhY2ggYXN5bmMgc3RlcCBvZiB0aGUgdXBsb2FkCiAqIHByb2Nlc3MuCiAqIEBwYXJhbSB7c3RyaW5nfSBpbnB1dElkIEVsZW1lbnQgSUQgb2YgdGhlIGlucHV0IGZpbGUgcGlja2VyIGVsZW1lbnQuCiAqIEBwYXJhbSB7c3RyaW5nfSBvdXRwdXRJZCBFbGVtZW50IElEIG9mIHRoZSBvdXRwdXQgZGlzcGxheS4KICogQHJldHVybiB7IUl0ZXJhYmxlPCFPYmplY3Q+fSBJdGVyYWJsZSBvZiBuZXh0IHN0ZXBzLgogKi8KZnVuY3Rpb24qIHVwbG9hZEZpbGVzU3RlcChpbnB1dElkLCBvdXRwdXRJZCkgewogIGNvbnN0IGlucHV0RWxlbWVudCA9IGRvY3VtZW50LmdldEVsZW1lbnRCeUlkKGlucHV0SWQpOwogIGlucHV0RWxlbWVudC5kaXNhYmxlZCA9IGZhbHNlOwoKICBjb25zdCBvdXRwdXRFbGVtZW50ID0gZG9jdW1lbnQuZ2V0RWxlbWVudEJ5SWQob3V0cHV0SWQpOwogIG91dHB1dEVsZW1lbnQuaW5uZXJIVE1MID0gJyc7CgogIGNvbnN0IHBpY2tlZFByb21pc2UgPSBuZXcgUHJvbWlzZSgocmVzb2x2ZSkgPT4gewogICAgaW5wdXRFbGVtZW50LmFkZEV2ZW50TGlzdGVuZXIoJ2NoYW5nZScsIChlKSA9PiB7CiAgICAgIHJlc29sdmUoZS50YXJnZXQuZmlsZXMpOwogICAgfSk7CiAgfSk7CgogIGNvbnN0IGNhbmNlbCA9IGRvY3VtZW50LmNyZWF0ZUVsZW1lbnQoJ2J1dHRvbicpOwogIGlucHV0RWxlbWVudC5wYXJlbnRFbGVtZW50LmFwcGVuZENoaWxkKGNhbmNlbCk7CiAgY2FuY2VsLnRleHRDb250ZW50ID0gJ0NhbmNlbCB1cGxvYWQnOwogIGNvbnN0IGNhbmNlbFByb21pc2UgPSBuZXcgUHJvbWlzZSgocmVzb2x2ZSkgPT4gewogICAgY2FuY2VsLm9uY2xpY2sgPSAoKSA9PiB7CiAgICAgIHJlc29sdmUobnVsbCk7CiAgICB9OwogIH0pOwoKICAvLyBXYWl0IGZvciB0aGUgdXNlciB0byBwaWNrIHRoZSBmaWxlcy4KICBjb25zdCBmaWxlcyA9IHlpZWxkIHsKICAgIHByb21pc2U6IFByb21pc2UucmFjZShbcGlja2VkUHJvbWlzZSwgY2FuY2VsUHJvbWlzZV0pLAogICAgcmVzcG9uc2U6IHsKICAgICAgYWN0aW9uOiAnc3RhcnRpbmcnLAogICAgfQogIH07CgogIGNhbmNlbC5yZW1vdmUoKTsKCiAgLy8gRGlzYWJsZSB0aGUgaW5wdXQgZWxlbWVudCBzaW5jZSBmdXJ0aGVyIHBpY2tzIGFyZSBub3QgYWxsb3dlZC4KICBpbnB1dEVsZW1lbnQuZGlzYWJsZWQgPSB0cnVlOwoKICBpZiAoIWZpbGVzKSB7CiAgICByZXR1cm4gewogICAgICByZXNwb25zZTogewogICAgICAgIGFjdGlvbjogJ2NvbXBsZXRlJywKICAgICAgfQogICAgfTsKICB9CgogIGZvciAoY29uc3QgZmlsZSBvZiBmaWxlcykgewogICAgY29uc3QgbGkgPSBkb2N1bWVudC5jcmVhdGVFbGVtZW50KCdsaScpOwogICAgbGkuYXBwZW5kKHNwYW4oZmlsZS5uYW1lLCB7Zm9udFdlaWdodDogJ2JvbGQnfSkpOwogICAgbGkuYXBwZW5kKHNwYW4oCiAgICAgICAgYCgke2ZpbGUudHlwZSB8fCAnbi9hJ30pIC0gJHtmaWxlLnNpemV9IGJ5dGVzLCBgICsKICAgICAgICBgbGFzdCBtb2RpZmllZDogJHsKICAgICAgICAgICAgZmlsZS5sYXN0TW9kaWZpZWREYXRlID8gZmlsZS5sYXN0TW9kaWZpZWREYXRlLnRvTG9jYWxlRGF0ZVN0cmluZygpIDoKICAgICAgICAgICAgICAgICAgICAgICAgICAgICAgICAgICAgJ24vYSd9IC0gYCkpOwogICAgY29uc3QgcGVyY2VudCA9IHNwYW4oJzAlIGRvbmUnKTsKICAgIGxpLmFwcGVuZENoaWxkKHBlcmNlbnQpOwoKICAgIG91dHB1dEVsZW1lbnQuYXBwZW5kQ2hpbGQobGkpOwoKICAgIGNvbnN0IGZpbGVEYXRhUHJvbWlzZSA9IG5ldyBQcm9taXNlKChyZXNvbHZlKSA9PiB7CiAgICAgIGNvbnN0IHJlYWRlciA9IG5ldyBGaWxlUmVhZGVyKCk7CiAgICAgIHJlYWRlci5vbmxvYWQgPSAoZSkgPT4gewogICAgICAgIHJlc29sdmUoZS50YXJnZXQucmVzdWx0KTsKICAgICAgfTsKICAgICAgcmVhZGVyLnJlYWRBc0FycmF5QnVmZmVyKGZpbGUpOwogICAgfSk7CiAgICAvLyBXYWl0IGZvciB0aGUgZGF0YSB0byBiZSByZWFkeS4KICAgIGxldCBmaWxlRGF0YSA9IHlpZWxkIHsKICAgICAgcHJvbWlzZTogZmlsZURhdGFQcm9taXNlLAogICAgICByZXNwb25zZTogewogICAgICAgIGFjdGlvbjogJ2NvbnRpbnVlJywKICAgICAgfQogICAgfTsKCiAgICAvLyBVc2UgYSBjaHVua2VkIHNlbmRpbmcgdG8gYXZvaWQgbWVzc2FnZSBzaXplIGxpbWl0cy4gU2VlIGIvNjIxMTU2NjAuCiAgICBsZXQgcG9zaXRpb24gPSAwOwogICAgZG8gewogICAgICBjb25zdCBsZW5ndGggPSBNYXRoLm1pbihmaWxlRGF0YS5ieXRlTGVuZ3RoIC0gcG9zaXRpb24sIE1BWF9QQVlMT0FEX1NJWkUpOwogICAgICBjb25zdCBjaHVuayA9IG5ldyBVaW50OEFycmF5KGZpbGVEYXRhLCBwb3NpdGlvbiwgbGVuZ3RoKTsKICAgICAgcG9zaXRpb24gKz0gbGVuZ3RoOwoKICAgICAgY29uc3QgYmFzZTY0ID0gYnRvYShTdHJpbmcuZnJvbUNoYXJDb2RlLmFwcGx5KG51bGwsIGNodW5rKSk7CiAgICAgIHlpZWxkIHsKICAgICAgICByZXNwb25zZTogewogICAgICAgICAgYWN0aW9uOiAnYXBwZW5kJywKICAgICAgICAgIGZpbGU6IGZpbGUubmFtZSwKICAgICAgICAgIGRhdGE6IGJhc2U2NCwKICAgICAgICB9LAogICAgICB9OwoKICAgICAgbGV0IHBlcmNlbnREb25lID0gZmlsZURhdGEuYnl0ZUxlbmd0aCA9PT0gMCA/CiAgICAgICAgICAxMDAgOgogICAgICAgICAgTWF0aC5yb3VuZCgocG9zaXRpb24gLyBmaWxlRGF0YS5ieXRlTGVuZ3RoKSAqIDEwMCk7CiAgICAgIHBlcmNlbnQudGV4dENvbnRlbnQgPSBgJHtwZXJjZW50RG9uZX0lIGRvbmVgOwoKICAgIH0gd2hpbGUgKHBvc2l0aW9uIDwgZmlsZURhdGEuYnl0ZUxlbmd0aCk7CiAgfQoKICAvLyBBbGwgZG9uZS4KICB5aWVsZCB7CiAgICByZXNwb25zZTogewogICAgICBhY3Rpb246ICdjb21wbGV0ZScsCiAgICB9CiAgfTsKfQoKc2NvcGUuZ29vZ2xlID0gc2NvcGUuZ29vZ2xlIHx8IHt9OwpzY29wZS5nb29nbGUuY29sYWIgPSBzY29wZS5nb29nbGUuY29sYWIgfHwge307CnNjb3BlLmdvb2dsZS5jb2xhYi5fZmlsZXMgPSB7CiAgX3VwbG9hZEZpbGVzLAogIF91cGxvYWRGaWxlc0NvbnRpbnVlLAp9Owp9KShzZWxmKTsK",
              "ok": true,
              "headers": [
                [
                  "content-type",
                  "application/javascript"
                ]
              ],
              "status": 200,
              "status_text": ""
            }
          },
          "base_uri": "https://localhost:8080/",
          "height": 73
        },
        "outputId": "e36782f4-13df-4674-8065-0868160c4986"
      },
      "source": [
        "### CODE HERE ###\n",
        "# 1. Optimize get_grades() by eliminating for loops in your function.\n",
        "\n",
        "### CODE HERE ###\n",
        "\n",
        "from google.colab import files\n",
        "uploaded = files.upload()\n"
      ],
      "execution_count": null,
      "outputs": [
        {
          "output_type": "display_data",
          "data": {
            "text/html": [
              "\n",
              "     <input type=\"file\" id=\"files-f5e8dbc4-eb2c-463e-b6c7-050d056565b7\" name=\"files[]\" multiple disabled\n",
              "        style=\"border:none\" />\n",
              "     <output id=\"result-f5e8dbc4-eb2c-463e-b6c7-050d056565b7\">\n",
              "      Upload widget is only available when the cell has been executed in the\n",
              "      current browser session. Please rerun this cell to enable.\n",
              "      </output>\n",
              "      <script src=\"/nbextensions/google.colab/files.js\"></script> "
            ],
            "text/plain": [
              "<IPython.core.display.HTML object>"
            ]
          },
          "metadata": {}
        },
        {
          "output_type": "stream",
          "name": "stdout",
          "text": [
            "Saving classlists.xlsx to classlists.xlsx\n"
          ]
        }
      ]
    },
    {
      "cell_type": "code",
      "metadata": {
        "id": "-FScaqD7l0T9",
        "colab": {
          "base_uri": "https://localhost:8080/",
          "height": 358
        },
        "outputId": "6a3a0c22-8475-4c5f-f443-45e821ba1cb0"
      },
      "source": [
        "df_classlists = pd.read_excel(uploaded['classlists.xlsx'])\n",
        "df_classlists = df_classlists.fillna(0)\n",
        "df_classlists.head(10)"
      ],
      "execution_count": null,
      "outputs": [
        {
          "output_type": "execute_result",
          "data": {
            "text/html": [
              "<div>\n",
              "<style scoped>\n",
              "    .dataframe tbody tr th:only-of-type {\n",
              "        vertical-align: middle;\n",
              "    }\n",
              "\n",
              "    .dataframe tbody tr th {\n",
              "        vertical-align: top;\n",
              "    }\n",
              "\n",
              "    .dataframe thead th {\n",
              "        text-align: right;\n",
              "    }\n",
              "</style>\n",
              "<table border=\"1\" class=\"dataframe\">\n",
              "  <thead>\n",
              "    <tr style=\"text-align: right;\">\n",
              "      <th></th>\n",
              "      <th>201009754</th>\n",
              "    </tr>\n",
              "  </thead>\n",
              "  <tbody>\n",
              "    <tr>\n",
              "      <th>0</th>\n",
              "      <td>201109795</td>\n",
              "    </tr>\n",
              "    <tr>\n",
              "      <th>1</th>\n",
              "      <td>201005713</td>\n",
              "    </tr>\n",
              "    <tr>\n",
              "      <th>2</th>\n",
              "      <td>201009855</td>\n",
              "    </tr>\n",
              "    <tr>\n",
              "      <th>3</th>\n",
              "      <td>201006171</td>\n",
              "    </tr>\n",
              "    <tr>\n",
              "      <th>4</th>\n",
              "      <td>201103568</td>\n",
              "    </tr>\n",
              "    <tr>\n",
              "      <th>5</th>\n",
              "      <td>201001314</td>\n",
              "    </tr>\n",
              "    <tr>\n",
              "      <th>6</th>\n",
              "      <td>201107193</td>\n",
              "    </tr>\n",
              "    <tr>\n",
              "      <th>7</th>\n",
              "      <td>201005265</td>\n",
              "    </tr>\n",
              "    <tr>\n",
              "      <th>8</th>\n",
              "      <td>201002166</td>\n",
              "    </tr>\n",
              "    <tr>\n",
              "      <th>9</th>\n",
              "      <td>201107245</td>\n",
              "    </tr>\n",
              "  </tbody>\n",
              "</table>\n",
              "</div>"
            ],
            "text/plain": [
              "   201009754\n",
              "0  201109795\n",
              "1  201005713\n",
              "2  201009855\n",
              "3  201006171\n",
              "4  201103568\n",
              "5  201001314\n",
              "6  201107193\n",
              "7  201005265\n",
              "8  201002166\n",
              "9  201107245"
            ]
          },
          "metadata": {},
          "execution_count": 50
        }
      ]
    },
    {
      "cell_type": "code",
      "metadata": {
        "id": "gNGqLTC9D0Mo"
      },
      "source": [
        "## Task 3\n",
        "\n",
        "def get_grades_optimized(df):\n",
        "  prelim = df[\"prelim_grades\"]\n",
        "  midterm = df[\"midterm_grades\"]\n",
        "  finals = df[\"final_grades\"]\n",
        "  df[\"name\"] = sem_grades = prelim * 0.3 + midterm * 0.3 + finals * 0.4\n",
        "  df[\"semestral_grades\"] = sem_grades\n",
        "  return df"
      ],
      "execution_count": null,
      "outputs": []
    },
    {
      "cell_type": "code",
      "metadata": {
        "id": "7kvPgW1yD8WN",
        "colab": {
          "base_uri": "https://localhost:8080/",
          "height": 883
        },
        "outputId": "c1c4cb27-315a-4a29-ed33-11e8d00c97fd"
      },
      "source": [
        "get_grades_optimized(df_classgrades)\n",
        "df_classgrades"
      ],
      "execution_count": null,
      "outputs": [
        {
          "output_type": "execute_result",
          "data": {
            "text/html": [
              "<div>\n",
              "<style scoped>\n",
              "    .dataframe tbody tr th:only-of-type {\n",
              "        vertical-align: middle;\n",
              "    }\n",
              "\n",
              "    .dataframe tbody tr th {\n",
              "        vertical-align: top;\n",
              "    }\n",
              "\n",
              "    .dataframe thead th {\n",
              "        text-align: right;\n",
              "    }\n",
              "</style>\n",
              "<table border=\"1\" class=\"dataframe\">\n",
              "  <thead>\n",
              "    <tr style=\"text-align: right;\">\n",
              "      <th></th>\n",
              "      <th>name</th>\n",
              "      <th>id</th>\n",
              "      <th>prelim_grades</th>\n",
              "      <th>midterm_grades</th>\n",
              "      <th>final_grades</th>\n",
              "      <th>semestral_grades</th>\n",
              "    </tr>\n",
              "  </thead>\n",
              "  <tbody>\n",
              "    <tr>\n",
              "      <th>0</th>\n",
              "      <td>93.95368</td>\n",
              "      <td>1</td>\n",
              "      <td>94.960000</td>\n",
              "      <td>95.260</td>\n",
              "      <td>92.2192</td>\n",
              "      <td>93.95368</td>\n",
              "    </tr>\n",
              "    <tr>\n",
              "      <th>1</th>\n",
              "      <td>94.17768</td>\n",
              "      <td>2</td>\n",
              "      <td>94.960000</td>\n",
              "      <td>95.260</td>\n",
              "      <td>92.7792</td>\n",
              "      <td>94.17768</td>\n",
              "    </tr>\n",
              "    <tr>\n",
              "      <th>2</th>\n",
              "      <td>85.48800</td>\n",
              "      <td>3</td>\n",
              "      <td>78.173333</td>\n",
              "      <td>94.360</td>\n",
              "      <td>84.3200</td>\n",
              "      <td>85.48800</td>\n",
              "    </tr>\n",
              "    <tr>\n",
              "      <th>3</th>\n",
              "      <td>81.71960</td>\n",
              "      <td>4</td>\n",
              "      <td>78.173333</td>\n",
              "      <td>81.372</td>\n",
              "      <td>84.6400</td>\n",
              "      <td>81.71960</td>\n",
              "    </tr>\n",
              "    <tr>\n",
              "      <th>4</th>\n",
              "      <td>93.95368</td>\n",
              "      <td>5</td>\n",
              "      <td>94.960000</td>\n",
              "      <td>95.260</td>\n",
              "      <td>92.2192</td>\n",
              "      <td>93.95368</td>\n",
              "    </tr>\n",
              "    <tr>\n",
              "      <th>5</th>\n",
              "      <td>86.62518</td>\n",
              "      <td>6</td>\n",
              "      <td>84.826667</td>\n",
              "      <td>92.485</td>\n",
              "      <td>83.5792</td>\n",
              "      <td>86.62518</td>\n",
              "    </tr>\n",
              "    <tr>\n",
              "      <th>6</th>\n",
              "      <td>95.64512</td>\n",
              "      <td>7</td>\n",
              "      <td>93.980000</td>\n",
              "      <td>97.300</td>\n",
              "      <td>95.6528</td>\n",
              "      <td>95.64512</td>\n",
              "    </tr>\n",
              "    <tr>\n",
              "      <th>7</th>\n",
              "      <td>72.18334</td>\n",
              "      <td>8</td>\n",
              "      <td>60.788200</td>\n",
              "      <td>68.000</td>\n",
              "      <td>83.8672</td>\n",
              "      <td>72.18334</td>\n",
              "    </tr>\n",
              "    <tr>\n",
              "      <th>8</th>\n",
              "      <td>86.55088</td>\n",
              "      <td>9</td>\n",
              "      <td>94.306667</td>\n",
              "      <td>82.000</td>\n",
              "      <td>84.1472</td>\n",
              "      <td>86.55088</td>\n",
              "    </tr>\n",
              "    <tr>\n",
              "      <th>9</th>\n",
              "      <td>87.18088</td>\n",
              "      <td>10</td>\n",
              "      <td>96.406667</td>\n",
              "      <td>82.000</td>\n",
              "      <td>84.1472</td>\n",
              "      <td>87.18088</td>\n",
              "    </tr>\n",
              "    <tr>\n",
              "      <th>10</th>\n",
              "      <td>86.93518</td>\n",
              "      <td>11</td>\n",
              "      <td>86.926667</td>\n",
              "      <td>92.485</td>\n",
              "      <td>82.7792</td>\n",
              "      <td>86.93518</td>\n",
              "    </tr>\n",
              "    <tr>\n",
              "      <th>11</th>\n",
              "      <td>85.48800</td>\n",
              "      <td>12</td>\n",
              "      <td>78.173333</td>\n",
              "      <td>94.360</td>\n",
              "      <td>84.3200</td>\n",
              "      <td>85.48800</td>\n",
              "    </tr>\n",
              "    <tr>\n",
              "      <th>12</th>\n",
              "      <td>86.55088</td>\n",
              "      <td>13</td>\n",
              "      <td>94.306667</td>\n",
              "      <td>82.000</td>\n",
              "      <td>84.1472</td>\n",
              "      <td>86.55088</td>\n",
              "    </tr>\n",
              "    <tr>\n",
              "      <th>13</th>\n",
              "      <td>85.48800</td>\n",
              "      <td>14</td>\n",
              "      <td>78.173333</td>\n",
              "      <td>94.360</td>\n",
              "      <td>84.3200</td>\n",
              "      <td>85.48800</td>\n",
              "    </tr>\n",
              "    <tr>\n",
              "      <th>14</th>\n",
              "      <td>86.30518</td>\n",
              "      <td>15</td>\n",
              "      <td>84.826667</td>\n",
              "      <td>92.485</td>\n",
              "      <td>82.7792</td>\n",
              "      <td>86.30518</td>\n",
              "    </tr>\n",
              "    <tr>\n",
              "      <th>15</th>\n",
              "      <td>59.85238</td>\n",
              "      <td>16</td>\n",
              "      <td>0.000000</td>\n",
              "      <td>87.685</td>\n",
              "      <td>83.8672</td>\n",
              "      <td>59.85238</td>\n",
              "    </tr>\n",
              "    <tr>\n",
              "      <th>16</th>\n",
              "      <td>95.64512</td>\n",
              "      <td>17</td>\n",
              "      <td>93.980000</td>\n",
              "      <td>97.300</td>\n",
              "      <td>95.6528</td>\n",
              "      <td>95.64512</td>\n",
              "    </tr>\n",
              "    <tr>\n",
              "      <th>17</th>\n",
              "      <td>81.50368</td>\n",
              "      <td>18</td>\n",
              "      <td>79.806667</td>\n",
              "      <td>83.500</td>\n",
              "      <td>81.2792</td>\n",
              "      <td>81.50368</td>\n",
              "    </tr>\n",
              "    <tr>\n",
              "      <th>18</th>\n",
              "      <td>80.24088</td>\n",
              "      <td>19</td>\n",
              "      <td>75.406667</td>\n",
              "      <td>82.000</td>\n",
              "      <td>82.5472</td>\n",
              "      <td>80.24088</td>\n",
              "    </tr>\n",
              "    <tr>\n",
              "      <th>19</th>\n",
              "      <td>67.23410</td>\n",
              "      <td>20</td>\n",
              "      <td>69.314000</td>\n",
              "      <td>87.685</td>\n",
              "      <td>50.3360</td>\n",
              "      <td>67.23410</td>\n",
              "    </tr>\n",
              "    <tr>\n",
              "      <th>20</th>\n",
              "      <td>95.64512</td>\n",
              "      <td>21</td>\n",
              "      <td>93.980000</td>\n",
              "      <td>97.300</td>\n",
              "      <td>95.6528</td>\n",
              "      <td>95.64512</td>\n",
              "    </tr>\n",
              "    <tr>\n",
              "      <th>21</th>\n",
              "      <td>81.50368</td>\n",
              "      <td>22</td>\n",
              "      <td>79.806667</td>\n",
              "      <td>83.500</td>\n",
              "      <td>81.2792</td>\n",
              "      <td>81.50368</td>\n",
              "    </tr>\n",
              "    <tr>\n",
              "      <th>22</th>\n",
              "      <td>86.30518</td>\n",
              "      <td>23</td>\n",
              "      <td>84.826667</td>\n",
              "      <td>92.485</td>\n",
              "      <td>82.7792</td>\n",
              "      <td>86.30518</td>\n",
              "    </tr>\n",
              "    <tr>\n",
              "      <th>23</th>\n",
              "      <td>93.95368</td>\n",
              "      <td>24</td>\n",
              "      <td>94.960000</td>\n",
              "      <td>95.260</td>\n",
              "      <td>92.2192</td>\n",
              "      <td>93.95368</td>\n",
              "    </tr>\n",
              "    <tr>\n",
              "      <th>24</th>\n",
              "      <td>82.69168</td>\n",
              "      <td>25</td>\n",
              "      <td>79.806667</td>\n",
              "      <td>87.460</td>\n",
              "      <td>81.2792</td>\n",
              "      <td>82.69168</td>\n",
              "    </tr>\n",
              "    <tr>\n",
              "      <th>25</th>\n",
              "      <td>95.32512</td>\n",
              "      <td>26</td>\n",
              "      <td>93.980000</td>\n",
              "      <td>97.300</td>\n",
              "      <td>94.8528</td>\n",
              "      <td>95.32512</td>\n",
              "    </tr>\n",
              "    <tr>\n",
              "      <th>26</th>\n",
              "      <td>84.98988</td>\n",
              "      <td>27</td>\n",
              "      <td>86.626667</td>\n",
              "      <td>84.850</td>\n",
              "      <td>83.8672</td>\n",
              "      <td>84.98988</td>\n",
              "    </tr>\n",
              "  </tbody>\n",
              "</table>\n",
              "</div>"
            ],
            "text/plain": [
              "        name  id  prelim_grades  midterm_grades  final_grades  semestral_grades\n",
              "0   93.95368   1      94.960000          95.260       92.2192          93.95368\n",
              "1   94.17768   2      94.960000          95.260       92.7792          94.17768\n",
              "2   85.48800   3      78.173333          94.360       84.3200          85.48800\n",
              "3   81.71960   4      78.173333          81.372       84.6400          81.71960\n",
              "4   93.95368   5      94.960000          95.260       92.2192          93.95368\n",
              "5   86.62518   6      84.826667          92.485       83.5792          86.62518\n",
              "6   95.64512   7      93.980000          97.300       95.6528          95.64512\n",
              "7   72.18334   8      60.788200          68.000       83.8672          72.18334\n",
              "8   86.55088   9      94.306667          82.000       84.1472          86.55088\n",
              "9   87.18088  10      96.406667          82.000       84.1472          87.18088\n",
              "10  86.93518  11      86.926667          92.485       82.7792          86.93518\n",
              "11  85.48800  12      78.173333          94.360       84.3200          85.48800\n",
              "12  86.55088  13      94.306667          82.000       84.1472          86.55088\n",
              "13  85.48800  14      78.173333          94.360       84.3200          85.48800\n",
              "14  86.30518  15      84.826667          92.485       82.7792          86.30518\n",
              "15  59.85238  16       0.000000          87.685       83.8672          59.85238\n",
              "16  95.64512  17      93.980000          97.300       95.6528          95.64512\n",
              "17  81.50368  18      79.806667          83.500       81.2792          81.50368\n",
              "18  80.24088  19      75.406667          82.000       82.5472          80.24088\n",
              "19  67.23410  20      69.314000          87.685       50.3360          67.23410\n",
              "20  95.64512  21      93.980000          97.300       95.6528          95.64512\n",
              "21  81.50368  22      79.806667          83.500       81.2792          81.50368\n",
              "22  86.30518  23      84.826667          92.485       82.7792          86.30518\n",
              "23  93.95368  24      94.960000          95.260       92.2192          93.95368\n",
              "24  82.69168  25      79.806667          87.460       81.2792          82.69168\n",
              "25  95.32512  26      93.980000          97.300       94.8528          95.32512\n",
              "26  84.98988  27      86.626667          84.850       83.8672          84.98988"
            ]
          },
          "metadata": {},
          "execution_count": 57
        }
      ]
    },
    {
      "cell_type": "code",
      "metadata": {
        "id": "6vUD_7nv_5g4"
      },
      "source": [
        "import pandas as pd"
      ],
      "execution_count": null,
      "outputs": []
    },
    {
      "cell_type": "code",
      "metadata": {
        "id": "xFbwRXbgERDB"
      },
      "source": [
        "pd.set_option('display.max_columns', 10)\n",
        "pd.set_option('display.max_rows', 10)"
      ],
      "execution_count": null,
      "outputs": []
    },
    {
      "cell_type": "code",
      "metadata": {
        "colab": {
          "resources": {
            "http://localhost:8080/nbextensions/google.colab/files.js": {
              "data": "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",
              "ok": true,
              "headers": [
                [
                  "content-type",
                  "application/javascript"
                ]
              ],
              "status": 200,
              "status_text": ""
            }
          },
          "base_uri": "https://localhost:8080/",
          "height": 73
        },
        "id": "cnFGfakY8EJV",
        "outputId": "0c75f7d5-7465-43ca-c78a-a07e1ed9fd3e"
      },
      "source": [
        "from google.colab import files\n",
        "uploaded = files.upload()"
      ],
      "execution_count": null,
      "outputs": [
        {
          "output_type": "display_data",
          "data": {
            "text/html": [
              "\n",
              "     <input type=\"file\" id=\"files-c31fc877-3876-4c23-9a99-cc846fd152cc\" name=\"files[]\" multiple disabled\n",
              "        style=\"border:none\" />\n",
              "     <output id=\"result-c31fc877-3876-4c23-9a99-cc846fd152cc\">\n",
              "      Upload widget is only available when the cell has been executed in the\n",
              "      current browser session. Please rerun this cell to enable.\n",
              "      </output>\n",
              "      <script src=\"/nbextensions/google.colab/files.js\"></script> "
            ],
            "text/plain": [
              "<IPython.core.display.HTML object>"
            ]
          },
          "metadata": {}
        },
        {
          "output_type": "stream",
          "name": "stdout",
          "text": [
            "Saving classlists.xlsx to classlists (1).xlsx\n"
          ]
        }
      ]
    },
    {
      "cell_type": "code",
      "metadata": {
        "colab": {
          "base_uri": "https://localhost:8080/"
        },
        "id": "bCgJVQbd8LLw",
        "outputId": "2d0f04a4-6043-4c5b-cb5d-1545f356a22d"
      },
      "source": [
        "column_name = [\"Student_ID\"]\n",
        "\n",
        "df_classlists = pd.read_excel('classlists.xlsx', sheet_name = ['class1',\"class2\"])\n",
        "df_classlists"
      ],
      "execution_count": null,
      "outputs": [
        {
          "output_type": "execute_result",
          "data": {
            "text/plain": [
              "{'class1':      201009754\n",
              " 0    201109795\n",
              " 1    201005713\n",
              " 2    201009855\n",
              " 3    201006171\n",
              " 4    201103568\n",
              " ..         ...\n",
              " 994  201108927\n",
              " 995  201005697\n",
              " 996  201005744\n",
              " 997  201109959\n",
              " 998  201109382\n",
              " \n",
              " [999 rows x 1 columns], 'class2':      201103056\n",
              " 0    201105136\n",
              " 1    201002284\n",
              " 2    201104588\n",
              " 3    201004799\n",
              " 4    201005725\n",
              " ..         ...\n",
              " 994  201101346\n",
              " 995  201007625\n",
              " 996  201003815\n",
              " 997  201102428\n",
              " 998  201006876\n",
              " \n",
              " [999 rows x 1 columns]}"
            ]
          },
          "metadata": {},
          "execution_count": 86
        }
      ]
    },
    {
      "cell_type": "code",
      "metadata": {
        "colab": {
          "base_uri": "https://localhost:8080/",
          "height": 418
        },
        "id": "lIO313TV-SNM",
        "outputId": "0e08040e-3b63-43e1-fac8-84fda4b3343a"
      },
      "source": [
        "df_classlists = pd.concat(pd.read_excel(r'classlists.xlsx', names=column_name, sheet_name=None), ignore_index=True)\n",
        "df_classlists"
      ],
      "execution_count": null,
      "outputs": [
        {
          "output_type": "execute_result",
          "data": {
            "text/html": [
              "<div>\n",
              "<style scoped>\n",
              "    .dataframe tbody tr th:only-of-type {\n",
              "        vertical-align: middle;\n",
              "    }\n",
              "\n",
              "    .dataframe tbody tr th {\n",
              "        vertical-align: top;\n",
              "    }\n",
              "\n",
              "    .dataframe thead th {\n",
              "        text-align: right;\n",
              "    }\n",
              "</style>\n",
              "<table border=\"1\" class=\"dataframe\">\n",
              "  <thead>\n",
              "    <tr style=\"text-align: right;\">\n",
              "      <th></th>\n",
              "      <th>Student_ID</th>\n",
              "    </tr>\n",
              "  </thead>\n",
              "  <tbody>\n",
              "    <tr>\n",
              "      <th>0</th>\n",
              "      <td>201109795</td>\n",
              "    </tr>\n",
              "    <tr>\n",
              "      <th>1</th>\n",
              "      <td>201005713</td>\n",
              "    </tr>\n",
              "    <tr>\n",
              "      <th>2</th>\n",
              "      <td>201009855</td>\n",
              "    </tr>\n",
              "    <tr>\n",
              "      <th>3</th>\n",
              "      <td>201006171</td>\n",
              "    </tr>\n",
              "    <tr>\n",
              "      <th>4</th>\n",
              "      <td>201103568</td>\n",
              "    </tr>\n",
              "    <tr>\n",
              "      <th>...</th>\n",
              "      <td>...</td>\n",
              "    </tr>\n",
              "    <tr>\n",
              "      <th>1993</th>\n",
              "      <td>201101346</td>\n",
              "    </tr>\n",
              "    <tr>\n",
              "      <th>1994</th>\n",
              "      <td>201007625</td>\n",
              "    </tr>\n",
              "    <tr>\n",
              "      <th>1995</th>\n",
              "      <td>201003815</td>\n",
              "    </tr>\n",
              "    <tr>\n",
              "      <th>1996</th>\n",
              "      <td>201102428</td>\n",
              "    </tr>\n",
              "    <tr>\n",
              "      <th>1997</th>\n",
              "      <td>201006876</td>\n",
              "    </tr>\n",
              "  </tbody>\n",
              "</table>\n",
              "<p>1998 rows × 1 columns</p>\n",
              "</div>"
            ],
            "text/plain": [
              "      Student_ID\n",
              "0      201109795\n",
              "1      201005713\n",
              "2      201009855\n",
              "3      201006171\n",
              "4      201103568\n",
              "...          ...\n",
              "1993   201101346\n",
              "1994   201007625\n",
              "1995   201003815\n",
              "1996   201102428\n",
              "1997   201006876\n",
              "\n",
              "[1998 rows x 1 columns]"
            ]
          },
          "metadata": {},
          "execution_count": 88
        }
      ]
    },
    {
      "cell_type": "code",
      "metadata": {
        "colab": {
          "base_uri": "https://localhost:8080/",
          "height": 418
        },
        "id": "NjQUag4o8ocs",
        "outputId": "c36b8953-e652-400c-a7e2-38e8c184a9e2"
      },
      "source": [
        "### CODE HERE: TASK 3 NUMBER 2 ###\n",
        "\n",
        "def get_similar_students(df):\n",
        "  df_counts = df['Student_ID'].value_counts()\n",
        "  df = pd.DataFrame(df_counts)\n",
        "  return df\n",
        "\n",
        "get_similar_students(df_classlists)"
      ],
      "execution_count": null,
      "outputs": [
        {
          "output_type": "execute_result",
          "data": {
            "text/html": [
              "<div>\n",
              "<style scoped>\n",
              "    .dataframe tbody tr th:only-of-type {\n",
              "        vertical-align: middle;\n",
              "    }\n",
              "\n",
              "    .dataframe tbody tr th {\n",
              "        vertical-align: top;\n",
              "    }\n",
              "\n",
              "    .dataframe thead th {\n",
              "        text-align: right;\n",
              "    }\n",
              "</style>\n",
              "<table border=\"1\" class=\"dataframe\">\n",
              "  <thead>\n",
              "    <tr style=\"text-align: right;\">\n",
              "      <th></th>\n",
              "      <th>Student_ID</th>\n",
              "    </tr>\n",
              "  </thead>\n",
              "  <tbody>\n",
              "    <tr>\n",
              "      <th>201107845</th>\n",
              "      <td>3</td>\n",
              "    </tr>\n",
              "    <tr>\n",
              "      <th>201101893</th>\n",
              "      <td>3</td>\n",
              "    </tr>\n",
              "    <tr>\n",
              "      <th>201104795</th>\n",
              "      <td>3</td>\n",
              "    </tr>\n",
              "    <tr>\n",
              "      <th>201009820</th>\n",
              "      <td>3</td>\n",
              "    </tr>\n",
              "    <tr>\n",
              "      <th>201005482</th>\n",
              "      <td>2</td>\n",
              "    </tr>\n",
              "    <tr>\n",
              "      <th>...</th>\n",
              "      <td>...</td>\n",
              "    </tr>\n",
              "    <tr>\n",
              "      <th>201108096</th>\n",
              "      <td>1</td>\n",
              "    </tr>\n",
              "    <tr>\n",
              "      <th>201007753</th>\n",
              "      <td>1</td>\n",
              "    </tr>\n",
              "    <tr>\n",
              "      <th>201001612</th>\n",
              "      <td>1</td>\n",
              "    </tr>\n",
              "    <tr>\n",
              "      <th>201007757</th>\n",
              "      <td>1</td>\n",
              "    </tr>\n",
              "    <tr>\n",
              "      <th>201005057</th>\n",
              "      <td>1</td>\n",
              "    </tr>\n",
              "  </tbody>\n",
              "</table>\n",
              "<p>1887 rows × 1 columns</p>\n",
              "</div>"
            ],
            "text/plain": [
              "           Student_ID\n",
              "201107845           3\n",
              "201101893           3\n",
              "201104795           3\n",
              "201009820           3\n",
              "201005482           2\n",
              "...               ...\n",
              "201108096           1\n",
              "201007753           1\n",
              "201001612           1\n",
              "201007757           1\n",
              "201005057           1\n",
              "\n",
              "[1887 rows x 1 columns]"
            ]
          },
          "metadata": {},
          "execution_count": 98
        }
      ]
    },
    {
      "cell_type": "markdown",
      "metadata": {
        "id": "mJoJ5ZjbKWFt"
      },
      "source": [
        "# 2. Some Object-Oriented Programming Concepts\n",
        "\n",
        "Object-oriented programming (OOP) is undoubtedly a foundational programming course for Software Engineering. The idea of OOP is to transform procedural programming into a more modular programming style. In this section, we are going to review the fundamentals of OOP such as objects, classes, and encapsulation."
      ]
    },
    {
      "cell_type": "markdown",
      "metadata": {
        "id": "5yuIoWHU1_0v"
      },
      "source": [
        "## 2.1 Objects and Classes\n",
        "Learning about objects and classes is one of the foundations of OOP. Think of objects as any object that you could see. Like cars, shirts, humans, professions, even your favorite anime characters. Classes on the other hand are the categories or concepts of those things. In this section, we’ll review how to instantiate classes and objects."
      ]
    },
    {
      "cell_type": "markdown",
      "metadata": {
        "id": "90KYzkth2VLX"
      },
      "source": [
        "### *Attributes and Methods*\n",
        "Just like any object are just things we could describe them or they could have what we call descriptions or characteristics. In OOP we call these attributes. Attributes can be any value representing an aspect of the object which is inclusive to its concept of class. For example, a tree (object)  under the category of plants (class) could have attributes such as its name, age, height, or even the amount of oxygen it produces.\n",
        "\n",
        "Methods, on the other hand, are interactions that could be done by the object or could be done onto the object. For example for our tree, it could grow, photosynthesize, absorb water, or we could harvest its fruits. In this example, we can try to review the attributes and methods of a class or object."
      ]
    },
    {
      "cell_type": "code",
      "metadata": {
        "id": "xguJ6ns5pVfc"
      },
      "source": [
        "'''\n",
        "    CASE 4: Class of Classes\n",
        "\n",
        "    For this section we are going to look at implementing the fundamentals of\n",
        "    OOP for our class routines.\n",
        "'''\n",
        "class Section:\n",
        "  def __init__(self, max_pop, class_list):\n",
        "    self.max_pop = max_pop\n",
        "    self.class_list = class_list\n",
        "  \n",
        "  def count_class(self):\n",
        "    return len(self.class_list)\n",
        "\n",
        "  def is_overloaded(self):\n",
        "    is_overload = True if self.count_class() > self.max_pop else False\n",
        "    return is_overload"
      ],
      "execution_count": null,
      "outputs": []
    },
    {
      "cell_type": "markdown",
      "metadata": {
        "id": "mF2MlzFv2ZQw"
      },
      "source": [
        "### *Class Instantiation*\n",
        "Now that we have created our class let’s try to put them to use in code. To use classes and objects in your code we are going to instantiate them. There are several ways to instantiate an object and we will be trying them out in this section."
      ]
    },
    {
      "cell_type": "code",
      "metadata": {
        "id": "8kJC6vsWpTET",
        "colab": {
          "base_uri": "https://localhost:8080/"
        },
        "outputId": "841de3f3-e223-40cd-9203-6ca36bf5a69c"
      },
      "source": [
        "CpE_58053 = Section(40, ['John'])\n",
        "print(CpE_58053.is_overloaded())\n",
        "print(CpE_58053.count_class())"
      ],
      "execution_count": null,
      "outputs": [
        {
          "output_type": "execute_result",
          "data": {
            "text/plain": [
              "False"
            ]
          },
          "metadata": {},
          "execution_count": 28
        }
      ]
    },
    {
      "cell_type": "markdown",
      "metadata": {
        "id": "mhDqZEML3hRf"
      },
      "source": [
        "## 2.2 Encapsulation\n",
        "The idea of incapsulation is to restrict users or developers from using or tampering with the internal attributes or methods of a class. This would be similar to using the private or public property in Java, C++, or C#. Python also enforces this in programming but in a different way. \n",
        "\n",
        "Not every procedure or transaction in a class should be shown to the users. We used the concept of encapsulation to solve this. In Python, all attributes, variables, or methods are public by default. In this section, we will see how to make methods and attributes private."
      ]
    },
    {
      "cell_type": "code",
      "metadata": {
        "id": "uGGueFuLpSDk"
      },
      "source": [
        "class Section:\n",
        "  def __init__(self, max_pop, class_list):\n",
        "    self.max_pop = max_pop\n",
        "    self.class_list = class_list\n",
        "  \n",
        "  def __count_class(self):\n",
        "    return len(self.class_list)\n",
        "\n",
        "  def is_overloaded(self):\n",
        "    is_overload = True if self.__count_class() > self.max_pop else False\n",
        "    return is_overload"
      ],
      "execution_count": null,
      "outputs": []
    },
    {
      "cell_type": "code",
      "metadata": {
        "id": "cJai7CiAeZPj",
        "colab": {
          "base_uri": "https://localhost:8080/",
          "height": 222
        },
        "outputId": "02011ded-d10c-4b09-afa7-2d32fe341282"
      },
      "source": [
        "CpE_58054 = Section(2, ['Jeanne', 'Pietro', 'Dude'])\n",
        "print(CpE_58054.is_overloaded())\n",
        "print(CpE_58054.__count_class())"
      ],
      "execution_count": null,
      "outputs": [
        {
          "output_type": "stream",
          "name": "stdout",
          "text": [
            "True\n"
          ]
        },
        {
          "output_type": "error",
          "ename": "AttributeError",
          "evalue": "ignored",
          "traceback": [
            "\u001b[0;31m---------------------------------------------------------------------------\u001b[0m",
            "\u001b[0;31mAttributeError\u001b[0m                            Traceback (most recent call last)",
            "\u001b[0;32m<ipython-input-31-ef1a6593cb70>\u001b[0m in \u001b[0;36m<module>\u001b[0;34m()\u001b[0m\n\u001b[1;32m      1\u001b[0m \u001b[0mCpE_58054\u001b[0m \u001b[0;34m=\u001b[0m \u001b[0mSection\u001b[0m\u001b[0;34m(\u001b[0m\u001b[0;36m2\u001b[0m\u001b[0;34m,\u001b[0m \u001b[0;34m[\u001b[0m\u001b[0;34m'Jeanne'\u001b[0m\u001b[0;34m,\u001b[0m \u001b[0;34m'Pietro'\u001b[0m\u001b[0;34m,\u001b[0m \u001b[0;34m'Dude'\u001b[0m\u001b[0;34m]\u001b[0m\u001b[0;34m)\u001b[0m\u001b[0;34m\u001b[0m\u001b[0;34m\u001b[0m\u001b[0m\n\u001b[1;32m      2\u001b[0m \u001b[0mprint\u001b[0m\u001b[0;34m(\u001b[0m\u001b[0mCpE_58054\u001b[0m\u001b[0;34m.\u001b[0m\u001b[0mis_overloaded\u001b[0m\u001b[0;34m(\u001b[0m\u001b[0;34m)\u001b[0m\u001b[0;34m)\u001b[0m\u001b[0;34m\u001b[0m\u001b[0;34m\u001b[0m\u001b[0m\n\u001b[0;32m----> 3\u001b[0;31m \u001b[0mprint\u001b[0m\u001b[0;34m(\u001b[0m\u001b[0mCpE_58054\u001b[0m\u001b[0;34m.\u001b[0m\u001b[0m__count_class\u001b[0m\u001b[0;34m(\u001b[0m\u001b[0;34m)\u001b[0m\u001b[0;34m)\u001b[0m\u001b[0;34m\u001b[0m\u001b[0;34m\u001b[0m\u001b[0m\n\u001b[0m",
            "\u001b[0;31mAttributeError\u001b[0m: 'Section' object has no attribute '__count_class'"
          ]
        }
      ]
    },
    {
      "cell_type": "markdown",
      "metadata": {
        "id": "Kp9E7V_ZgNmz"
      },
      "source": [
        "### Task 4: Class of Classes\n",
        "1. Modify the `class` `Section` and integrate the functions from Tasks 1 to 3 as its methods. Make sure that the codes are optimized.\n",
        "2. Create a `method` named `get_failed()` wherein it will create a list of all the failed students in the class.\n",
        "3. Create a `method` named `fail_count()` wherein it will return the count of the failed students.\n",
        "\n",
        "** **Note:** due to data privacy, the data privacy office has mandated your code to print the names of the failed students as well as to mask the names of the students if their grades are also displayed."
      ]
    },
    {
      "cell_type": "code",
      "metadata": {
        "id": "vpDE-npFgNBe",
        "colab": {
          "base_uri": "https://localhost:8080/",
          "height": 418
        },
        "outputId": "b31cdc73-f0b5-415f-b86c-00822bd3165f"
      },
      "source": [
        "### CODE HERE ###\n",
        "# 2.Create a method named get_failed() wherein it will create a list of all the failed students in the class.\n",
        "    \n",
        "def get_failed(df):\n",
        "  failed_students = (df[\"semestral_grades\"] < 70)\n",
        "  df = pd.DataFrame(failed_students)\n",
        "  return df\n",
        "\n",
        "get_failed(df_classgrades)"
      ],
      "execution_count": null,
      "outputs": [
        {
          "output_type": "execute_result",
          "data": {
            "text/html": [
              "<div>\n",
              "<style scoped>\n",
              "    .dataframe tbody tr th:only-of-type {\n",
              "        vertical-align: middle;\n",
              "    }\n",
              "\n",
              "    .dataframe tbody tr th {\n",
              "        vertical-align: top;\n",
              "    }\n",
              "\n",
              "    .dataframe thead th {\n",
              "        text-align: right;\n",
              "    }\n",
              "</style>\n",
              "<table border=\"1\" class=\"dataframe\">\n",
              "  <thead>\n",
              "    <tr style=\"text-align: right;\">\n",
              "      <th></th>\n",
              "      <th>semestral_grades</th>\n",
              "    </tr>\n",
              "  </thead>\n",
              "  <tbody>\n",
              "    <tr>\n",
              "      <th>0</th>\n",
              "      <td>False</td>\n",
              "    </tr>\n",
              "    <tr>\n",
              "      <th>1</th>\n",
              "      <td>False</td>\n",
              "    </tr>\n",
              "    <tr>\n",
              "      <th>2</th>\n",
              "      <td>False</td>\n",
              "    </tr>\n",
              "    <tr>\n",
              "      <th>3</th>\n",
              "      <td>False</td>\n",
              "    </tr>\n",
              "    <tr>\n",
              "      <th>4</th>\n",
              "      <td>False</td>\n",
              "    </tr>\n",
              "    <tr>\n",
              "      <th>...</th>\n",
              "      <td>...</td>\n",
              "    </tr>\n",
              "    <tr>\n",
              "      <th>22</th>\n",
              "      <td>False</td>\n",
              "    </tr>\n",
              "    <tr>\n",
              "      <th>23</th>\n",
              "      <td>False</td>\n",
              "    </tr>\n",
              "    <tr>\n",
              "      <th>24</th>\n",
              "      <td>False</td>\n",
              "    </tr>\n",
              "    <tr>\n",
              "      <th>25</th>\n",
              "      <td>False</td>\n",
              "    </tr>\n",
              "    <tr>\n",
              "      <th>26</th>\n",
              "      <td>False</td>\n",
              "    </tr>\n",
              "  </tbody>\n",
              "</table>\n",
              "<p>27 rows × 1 columns</p>\n",
              "</div>"
            ],
            "text/plain": [
              "    semestral_grades\n",
              "0              False\n",
              "1              False\n",
              "2              False\n",
              "3              False\n",
              "4              False\n",
              "..               ...\n",
              "22             False\n",
              "23             False\n",
              "24             False\n",
              "25             False\n",
              "26             False\n",
              "\n",
              "[27 rows x 1 columns]"
            ]
          },
          "metadata": {},
          "execution_count": 101
        }
      ]
    },
    {
      "cell_type": "code",
      "metadata": {
        "colab": {
          "base_uri": "https://localhost:8080/",
          "height": 111
        },
        "id": "PKRb_jfpDMIy",
        "outputId": "cd8f2d4c-925c-4c4f-9ee4-8c341c08e8fa"
      },
      "source": [
        "### CODE HERE ###\n",
        "# 3.Create a method named fail_count() wherein it will return the count of the failed students.\n",
        "\n",
        "def fail_count(df):\n",
        "  failed_students = (df[\"semestral_grades\"] < 70).value_counts()\n",
        "  df = pd.DataFrame(failed_students)\n",
        "  return df\n",
        "\n",
        "fail_count(df_classgrades)"
      ],
      "execution_count": null,
      "outputs": [
        {
          "output_type": "execute_result",
          "data": {
            "text/html": [
              "<div>\n",
              "<style scoped>\n",
              "    .dataframe tbody tr th:only-of-type {\n",
              "        vertical-align: middle;\n",
              "    }\n",
              "\n",
              "    .dataframe tbody tr th {\n",
              "        vertical-align: top;\n",
              "    }\n",
              "\n",
              "    .dataframe thead th {\n",
              "        text-align: right;\n",
              "    }\n",
              "</style>\n",
              "<table border=\"1\" class=\"dataframe\">\n",
              "  <thead>\n",
              "    <tr style=\"text-align: right;\">\n",
              "      <th></th>\n",
              "      <th>semestral_grades</th>\n",
              "    </tr>\n",
              "  </thead>\n",
              "  <tbody>\n",
              "    <tr>\n",
              "      <th>False</th>\n",
              "      <td>25</td>\n",
              "    </tr>\n",
              "    <tr>\n",
              "      <th>True</th>\n",
              "      <td>2</td>\n",
              "    </tr>\n",
              "  </tbody>\n",
              "</table>\n",
              "</div>"
            ],
            "text/plain": [
              "       semestral_grades\n",
              "False                25\n",
              "True                  2"
            ]
          },
          "metadata": {},
          "execution_count": 102
        }
      ]
    },
    {
      "cell_type": "markdown",
      "metadata": {
        "id": "UA_rrYvEihQ9"
      },
      "source": [
        "\n",
        "\n",
        "---\n",
        "**END OF LABORATORY**\n",
        "\n",
        "---\n"
      ]
    }
  ]
}