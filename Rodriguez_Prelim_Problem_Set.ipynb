{
  "nbformat": 4,
  "nbformat_minor": 0,
  "metadata": {
    "colab": {
      "name": "Rodriguez_Prelim Problem Set.ipynb",
      "provenance": [],
      "include_colab_link": true
    },
    "kernelspec": {
      "name": "python3",
      "display_name": "Python 3"
    },
    "language_info": {
      "name": "python"
    }
  },
  "cells": [
    {
      "cell_type": "markdown",
      "metadata": {
        "id": "view-in-github",
        "colab_type": "text"
      },
      "source": [
        "<a href=\"https://colab.research.google.com/github/maryadriennerdrgz/CpE-AIML/blob/main/Rodriguez_Prelim_Problem_Set.ipynb\" target=\"_parent\"><img src=\"https://colab.research.google.com/assets/colab-badge.svg\" alt=\"Open In Colab\"/></a>"
      ]
    },
    {
      "cell_type": "markdown",
      "metadata": {
        "id": "fte_zsqVdp8R"
      },
      "source": [
        "# Topic02a : Prelim Problem Set I"
      ]
    },
    {
      "cell_type": "markdown",
      "metadata": {
        "id": "JpcY5oJ5eFxA"
      },
      "source": [
        "## Case 1\n",
        "Represent the following representations into its vectorized form using LaTeX.\n",
        "> **Problem 1.a. System of Linear Equations**\n",
        "$$\n",
        "\\left\\{\n",
        "    \\begin{array}\\\\\n",
        "        -y+z=\\frac{1}{32}\\\\ \n",
        "        \\frac{1}{2}x -2y=0 \\\\\n",
        "        -x + \\frac{3}{7}z=\\frac{4}{5}\n",
        "    \\end{array}\n",
        "\\right. $$\n",
        "> **Problem 1.b. Linear Combination**\n",
        "$$  \\cos{(\\theta)}\\hat{i} + \\sin{(\\theta)}\\hat{j} - \\csc{(2\\theta)}\\hat{k}$$\n",
        "> **Problem 1.c. Scenario**\n",
        ">\n",
        ">A conference has 200 student attendees, 45 professionals, and has 15 members of the panel. There is a team of 40 people on the organizing committee. Represent the *percent* composition of each *attendee* type of the conference in matrix form.\n",
        "\n",
        "Express your answers in LaTeX in the answer area.\n"
      ]
    },
    {
      "cell_type": "markdown",
      "metadata": {
        "id": "fB1PCrHZvkEv"
      },
      "source": [
        "**Problem 1. a.**\n",
        "\n",
        "$$\n",
        "\\begin{bmatrix}0& -1& 1\\\\ \\frac{1}{2} & -2& 0\\\\-1& 0& \\frac{3}{7}\\end{bmatrix} \\cdot \\begin{bmatrix}x\\\\ y\\\\ z\\end{bmatrix} = \\begin{bmatrix} \\frac{1}{32}\\\\0\\\\  \\frac{4}{5}\\end{bmatrix}\n",
        "$$\n",
        "\n",
        "**Problem 1. b.**\n",
        "$$\n",
        "\\begin{bmatrix} \\cos{(\\theta)} & \\sin{(\\theta)}& \\csc{(\\theta)} \\end{bmatrix} \\cdot \\begin{bmatrix} \\hat{i}\\\\ \\hat{j}\\\\ \\hat{k}\\end{bmatrix} = \\begin{bmatrix}0\\end{bmatrix}\n",
        "$$\n",
        "\n",
        "**Problem 1. c.**\n",
        "\n",
        "$Let : \\\\ \n",
        "a = student \\ attendees, b = professionals, c = members\\ of\\ the \\ panel \\\\ \\\\\n",
        "M_1: 200a + 45b + 15c = 40 $\n",
        "\n",
        "$$\n",
        "\\begin{bmatrix} 200 & 45 & 15\\end{bmatrix} \\cdot \\begin{bmatrix}a\\\\ b\\\\ c\\end{bmatrix} = \\begin{bmatrix} 40 \\end{bmatrix}\n",
        "$$"
      ]
    },
    {
      "cell_type": "markdown",
      "metadata": {
        "id": "Uvb1MGs9QNVt"
      },
      "source": [
        "# Case 2\n",
        "> **Problem 2.a: Vector Magnitude**\n",
        "\n",
        ">The magnitude of a vector is usually computed as:\n",
        "$$||v|| = \\sqrt{a_0^2 + a_1^2 + ... +a_n^2}$$\n",
        "Whereas $v$ is any vector and $a_k$ are its elements wherein $k$ is the size of $v$.\n",
        "Re-formulate $||v||$ as a function of an inner product. Further discuss this concept and provide your user-defined function.\n",
        "\n",
        "> **Problem 2.b: Angle Between Vectors**\n",
        "\n",
        "> Inner products can also be related to the Law of Cosines. The property suggests that:\n",
        "$$u\\cdot v = ||u||\\cdot||v||\\cos(\\theta)$$\n",
        "Whereas $u$ and $v$ are vectors that have the same sizes and $\\theta$ is the angle between $u$ and $v$.\n",
        "\n",
        "> Explain the behavior of the dot product when the two vectors are perpendicular and when they are parallel.\n"
      ]
    },
    {
      "cell_type": "code",
      "metadata": {
        "id": "N-QsbzuT6bHY"
      },
      "source": [
        "import numpy as np\n",
        "import matplotlib.pyplot as plt\n",
        "%matplotlib inline"
      ],
      "execution_count": 1,
      "outputs": []
    },
    {
      "cell_type": "markdown",
      "metadata": {
        "id": "-ez73CG85Cla"
      },
      "source": [
        "## **Problem 2.a: Vector Magnitude**\n",
        "\n",
        "##### Velocity, displacement, force, momentum, and other related concepts are examples of vector quantities. The magnitude of a vector is determined by its length, so we must first determine its length."
      ]
    },
    {
      "cell_type": "code",
      "metadata": {
        "id": "fSGfw4xmfc_s",
        "colab": {
          "base_uri": "https://localhost:8080/"
        },
        "outputId": "64f15348-7291-4846-e5dd-31884b607f3d"
      },
      "source": [
        "##  Problem 2.a: Vector Magnitude\n",
        "\n",
        "vectA = np.array([0,1])\n",
        "vectB = np.array([2,3])\n",
        "\n",
        "A_dot_B = vectA @ vectB\n",
        "A_norm = np.sqrt(vectA @ vectA)\n",
        "B_norm = np.sqrt(vectB @ vectB)\n",
        "theta = np.rad2deg(np.arccos(A_dot_B/(A_norm*B_norm)))\n",
        "\n",
        "theta"
      ],
      "execution_count": 3,
      "outputs": [
        {
          "output_type": "execute_result",
          "data": {
            "text/plain": [
              "33.690067525979785"
            ]
          },
          "metadata": {},
          "execution_count": 3
        }
      ]
    },
    {
      "cell_type": "markdown",
      "metadata": {
        "id": "uFrUfe-c5Q-i"
      },
      "source": [
        "##  **Problem 2.b: Angle Between Vectors**\n",
        "##### The\n"
      ]
    },
    {
      "cell_type": "code",
      "metadata": {
        "id": "WpOVA05ndblW"
      },
      "source": [
        "##  Problem 2.b: Angle Between Vectors\n",
        "\n",
        "vectU = np.array([0,-1,-2])\n",
        "vectV = np.array([-2,-3,-4])\n",
        "\n",
        "U_dot_V = vectU @ vectV"
      ],
      "execution_count": 8,
      "outputs": []
    },
    {
      "cell_type": "code",
      "metadata": {
        "colab": {
          "base_uri": "https://localhost:8080/"
        },
        "id": "W8O3P8xvp0DP",
        "outputId": "3e88973b-07e4-45f4-fb41-cc329bf887c3"
      },
      "source": [
        "U_dot_V = vectU @ vectV\n",
        "U_norm = np.sqrt(vectU @ vectU)\n",
        "V_norm = np.sqrt(vectV @ vectV)\n",
        "theta = np.rad2deg(np.arccos(U_dot_V/(U_norm*V_norm)))\n",
        "theta"
      ],
      "execution_count": 5,
      "outputs": [
        {
          "output_type": "execute_result",
          "data": {
            "text/plain": [
              "24.006363472914433"
            ]
          },
          "metadata": {},
          "execution_count": 5
        }
      ]
    },
    {
      "cell_type": "code",
      "metadata": {
        "colab": {
          "base_uri": "https://localhost:8080/"
        },
        "id": "tbCK7bXjpWeZ",
        "outputId": "b7def914-9a3f-4b9c-cdfb-85f235a497cf"
      },
      "source": [
        "U_dot_V"
      ],
      "execution_count": 6,
      "outputs": [
        {
          "output_type": "execute_result",
          "data": {
            "text/plain": [
              "11"
            ]
          },
          "metadata": {},
          "execution_count": 6
        }
      ]
    },
    {
      "cell_type": "code",
      "metadata": {
        "colab": {
          "base_uri": "https://localhost:8080/"
        },
        "id": "ymzs-I5xpdQP",
        "outputId": "2940f116-5048-4c7f-f904-4124e1a6e2bf"
      },
      "source": [
        "U_V = U_norm * V_norm * np.cos(theta)\n",
        "U_V"
      ],
      "execution_count": 7,
      "outputs": [
        {
          "output_type": "execute_result",
          "data": {
            "text/plain": [
              "5.17707892473789"
            ]
          },
          "metadata": {},
          "execution_count": 7
        }
      ]
    },
    {
      "cell_type": "markdown",
      "metadata": {
        "id": "_cH8JpkBj1xS"
      },
      "source": [
        "# Case 3\n",
        "For the final cases analysis we will be looking at series of equations building up a single feed-forward computation of a logistic regression. The case will not require you to learn fully what is logistic regression. \n",
        "\n",
        "$$X = \\begin{bmatrix} \n",
        "— (x^{(1)})^T— \\\\ \n",
        "— (x^{(2)})^T— \\\\\n",
        "\\vdots \\\\\n",
        "— (x^{(m)})^T— \\\\\n",
        "\\end{bmatrix} \\text{, } \n",
        "Y = \\begin{bmatrix} \n",
        "y^{(1)} \\\\ \n",
        "y^{(2)} \\\\\n",
        "\\vdots \\\\\n",
        "y^{(m)} \\\\\n",
        "\\end{bmatrix} \\text{, and } \n",
        "\\theta = \\begin{bmatrix} \n",
        "\\theta^{(1)} \\\\ \n",
        "\\theta^{(2)} \\\\\n",
        "\\vdots \\\\\n",
        "\\theta^{(m)} \\\\\n",
        "\\end{bmatrix} $$\n",
        "The dataset $X$ has $m$ entries with $n$ features while $Y$ is the vector containing the groud truths of a the entries of $X$, and $\\theta$ are the parameters or weights of the vectors. We first compute the vector product of the dataset and the parameters as:\n",
        "$$ z = x^{(i)}\\theta^{(i)} = X\\cdot \\theta\\\\_{\\text{Eq. 3.1}}$$\n",
        "We then solve for the hypothesis of the logistic regression alogrithm as:\n",
        "\n",
        "$$ h_\\theta(x) = g(z)\\\\_{\\text{Eq. 3.2}}$$\n",
        "\n",
        "Where $g$ is an acitvation function that maps the values of the hypothesis vector between a range of 0 and 1. We computed the activation as a sigmoid function:\n",
        "$$g(z) = \\frac{1}{1+e^{-z}}\\\\_{\\text{Eq. 3.3}}$$\n",
        "Finally we compute the loss of the logistic regression algorithm using $J$. Wheras $J(\\theta)$ is a function that computes the logistic loss of the hypothesis with respect to the ground truths $y$. it is then computed as:\n",
        "$$J(\\theta) = \\frac{1}{m} \\sum^m_{i=0}=[-y^{(i)}\\log({h_{\\theta}(x^{(i)})})-(1-y^{(i)})\\log(1-h_{\\theta}(x^{(i)}))]\\\\_{\\text{Eq. 3.4}}$$"
      ]
    },
    {
      "cell_type": "markdown",
      "metadata": {
        "id": "MQ8jJV9-qyFy"
      },
      "source": [
        "> **Problem 3.a: Matrix Equivalences**\n",
        "\n",
        "> In Eq. 1, $z$ can also be solved as $X \\cdot \\theta$ which is the vectorized form of $x^{(i)}\\theta^{(i)}$. However, it can also be expressed as $\\theta^T\\cdot X$. Prove the equality of $X \\cdot \\theta$ with $\\theta^T\\cdot X$ in this case.\n",
        "\n",
        "> **Problem 3.b: Matrix Shapes**\n",
        "\n",
        "> Determine the shape of $h_\\theta$ if $X$ has a shape of $(300,5)$.\n",
        "\n",
        "> **Problem 3.c: Vectorization**\n",
        "\n",
        "> Express $J(\\theta)$ into its vectorized form.\n",
        "\n",
        "> **Problem 4.c: Computational Programming (Also Laboratory 2)**\n",
        "\n",
        "> Encode Equations 3.1 to 3.4 as the class `LRegression` wherein:\n",
        "\n",
        "> * `LRegression` should be instantiated with a dataset $X$, a ground truth vector $y$, and a parameter vector $\\theta$. Each parameter should have a data type of `numpy.array`.\n",
        "> * It should further have `methods`reflecting to at least the four (4) aforementioned equations. Each should have a return value.\n"
      ]
    },
    {
      "cell_type": "code",
      "metadata": {
        "id": "Q-lL0wRx8ss7"
      },
      "source": [
        "### Problem 3.b: Matrix Shapes\n",
        "\n",
        "X = np.array([\n",
        "    [1,2,3,4,5],\n",
        "    [0,1,2,3,4],\n",
        "    [-1,0,1,2,3],\n",
        "    [-2,-1,0,1,2],\n",
        "    [-3,-2,-1,0,1],\n",
        "    \n",
        "])"
      ],
      "execution_count": null,
      "outputs": []
    },
    {
      "cell_type": "code",
      "metadata": {
        "id": "yy840rKA-muJ"
      },
      "source": [
        "a = np.eye(300)"
      ],
      "execution_count": null,
      "outputs": []
    },
    {
      "cell_type": "markdown",
      "metadata": {
        "id": "OBx27MUq6Tlz"
      },
      "source": [
        "**Problem 3. a.**\n",
        "\n",
        "**Problem 3. b.**\n",
        "\n",
        "**Problem 3. c.**\n",
        "\n",
        "$$h = g(X \\theta)$$ $$J(\\theta) = \\frac{1}{m} \\cdot[-y^{T}\\log({h})-(1-y)^{T}\\log(1-h)]$$"
      ]
    }
  ]
}