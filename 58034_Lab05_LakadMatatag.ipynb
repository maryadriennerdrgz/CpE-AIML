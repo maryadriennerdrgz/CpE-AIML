{
  "nbformat": 4,
  "nbformat_minor": 0,
  "metadata": {
    "colab": {
      "name": "58034_Lab05_LakadMatatag",
      "provenance": [],
      "collapsed_sections": [
        "lIfP6UBgy7qs"
      ],
      "include_colab_link": true
    },
    "kernelspec": {
      "name": "python3",
      "display_name": "Python 3"
    },
    "language_info": {
      "name": "python"
    }
  },
  "cells": [
    {
      "cell_type": "markdown",
      "metadata": {
        "id": "view-in-github",
        "colab_type": "text"
      },
      "source": [
        "<a href=\"https://colab.research.google.com/github/maryadriennerdrgz/CpE-AIML/blob/main/58034_Lab05_LakadMatatag.ipynb\" target=\"_parent\"><img src=\"https://colab.research.google.com/assets/colab-badge.svg\" alt=\"Open In Colab\"/></a>"
      ]
    },
    {
      "cell_type": "markdown",
      "metadata": {
        "id": "m1Evgke-ClXZ"
      },
      "source": [
        "# Topic 05.1: Classification\n",
        "$_{\\text{©D.J. Lopez | 2021 | Fundamentals of Machine Learning}}$\n",
        "\n",
        "Another vital activity of Machine Learning is Classification. In this module we are going to understand the concepts and applications of classification in machine learning. In this module, we are going to discuss:\n",
        "* Linear Classification\n",
        "* Logistic Regression"
      ]
    },
    {
      "cell_type": "code",
      "metadata": {
        "id": "7dJHlNdAedsN"
      },
      "source": [
        "import numpy as np\n",
        "import matplotlib.pyplot as plt\n",
        "import seaborn as sns"
      ],
      "execution_count": null,
      "outputs": []
    },
    {
      "cell_type": "markdown",
      "metadata": {
        "id": "Xn_zwq2yQaXi"
      },
      "source": [
        "# Part 1: Creating a Dataset\n",
        "In Classification activities datasets should again include features and targets. The difference of the targets for classification from regression is that they are now categorical.A classification activity can either be working on a single class or multiple classes. Classification activities that are only categorizing single classes uses **Binary Classification** while those having multiple classes uses **Categorical Classification** or **Multi-class Classification**."
      ]
    },
    {
      "cell_type": "code",
      "metadata": {
        "colab": {
          "base_uri": "https://localhost:8080/",
          "height": 279
        },
        "id": "4--e10wBfERS",
        "outputId": "36952ee4-e983-4a8c-cf98-11c920e60e77"
      },
      "source": [
        "### In thise example we will be creating a dummy dataset for a binary classifier\n",
        "\n",
        "N = 100 ## total number of datapoints\n",
        "cov = -0.30 ## covariance of X and y\n",
        "center1 = np.array([2, 0]).T ## midpoint of the gaussian distribution\n",
        "cov_mat1 = np.array([\n",
        "                    [1,cov],\n",
        "                    [cov,1]\n",
        "])\n",
        "np.random.seed(0)\n",
        "dataset = np.array(np.random.multivariate_normal(center1,cov_mat1,int(N/2)))\n",
        "## create a single two-variable gaussian distribution\n",
        "\n",
        "plt.scatter(dataset[:,0],dataset[:,1])\n",
        "plt.ylabel(\"Some Target\")\n",
        "plt.xlabel(\"Some Feature\")\n",
        "plt.grid()\n",
        "plt.show()\n"
      ],
      "execution_count": null,
      "outputs": [
        {
          "output_type": "display_data",
          "data": {
            "image/png": "[encoded data removed]",
            "text/plain": [
              "<Figure size 432x288 with 1 Axes>"
            ]
          },
          "metadata": {
            "needs_background": "light"
          }
        }
      ]
    },
    {
      "cell_type": "code",
      "metadata": {
        "colab": {
          "base_uri": "https://localhost:8080/",
          "height": 497
        },
        "id": "NhOLEuoCg6Vg",
        "outputId": "b0a0b114-8069-4770-dbeb-3e3a3aca0bc1"
      },
      "source": [
        "## Now lets try to create two different distributions\n",
        "## let's assume that each gaussian distribution is a class of its own\n",
        "N = 100\n",
        "cov = 0\n",
        "center1 = np.array([0, 1.7]).T\n",
        "cov_mat1 = np.array([\n",
        "                    [1,cov],\n",
        "                    [cov,1]\n",
        "])\n",
        "\n",
        "center2 = np.array([0, -1.7]).T\n",
        "cov_mat2 = np.array([\n",
        "                    [1,cov],\n",
        "                    [cov,1]\n",
        "])\n",
        "\n",
        "np.random.seed(0)\n",
        "X1 = np.array(np.random.multivariate_normal(center1,cov_mat1,int(N/2)))\n",
        "X2 = np.array(np.random.multivariate_normal(center2,cov_mat2,int(N/2)))\n",
        "## We'll declare another gaussian distribution with a different mean\n",
        "\n",
        "plt.figure(figsize=(8,8))\n",
        "plt.scatter(X1[:,0],X1[:,1], c='r', label='1')\n",
        "plt.scatter(X2[:,0],X2[:,1], c='b', label='0')\n",
        "plt.ylabel(\"Some Target\")\n",
        "plt.xlabel(\"Some Feature\")\n",
        "plt.legend()\n",
        "plt.grid()\n",
        "plt.show()"
      ],
      "execution_count": null,
      "outputs": [
        {
          "output_type": "display_data",
          "data": {
            "image/png": "[encoded data removed]",
            "text/plain": [
              "<Figure size 576x576 with 1 Axes>"
            ]
          },
          "metadata": {
            "needs_background": "light"
          }
        }
      ]
    },
    {
      "cell_type": "code",
      "metadata": {
        "id": "CIqM0VyJeoyw"
      },
      "source": [
        "### Label the datasets programmatically\n",
        "X1 = np.append(X1,np.ones((X1.shape[0],1)),axis=1)\n",
        "X2 = np.append(X2,np.zeros((X2.shape[0],1)),axis=1)\n",
        "\n",
        "### Combine to a single dataset\n",
        "X_train = np.vstack((X1,X2))\n",
        "np.random.shuffle(X_train)"
      ],
      "execution_count": null,
      "outputs": []
    },
    {
      "cell_type": "code",
      "metadata": {
        "id": "jEf7iPGVjtoR"
      },
      "source": [
        "def visualize(X):\n",
        "  plt.figure(figsize=(8,8))\n",
        "  color = ['red','blue']\n",
        "  plt.scatter(X[:,0], X[:,1],c=X[:,2], cmap='jet')\n",
        "  plt.xlabel('Feature')\n",
        "  plt.ylabel('Target')"
      ],
      "execution_count": null,
      "outputs": []
    },
    {
      "cell_type": "code",
      "metadata": {
        "colab": {
          "base_uri": "https://localhost:8080/",
          "height": 497
        },
        "id": "Y4UvWVWWkjAa",
        "outputId": "8a42d1fc-a52b-4078-bff5-f058ba1c9d97"
      },
      "source": [
        "visualize(X_train)"
      ],
      "execution_count": null,
      "outputs": [
        {
          "output_type": "display_data",
          "data": {
            "image/png": "[encoded data removed]",
            "text/plain": [
              "<Figure size 576x576 with 1 Axes>"
            ]
          },
          "metadata": {
            "needs_background": "light"
          }
        }
      ]
    },
    {
      "cell_type": "code",
      "metadata": {
        "colab": {
          "base_uri": "https://localhost:8080/"
        },
        "id": "xxiPIACHm6Xq",
        "outputId": "30cc29a2-f457-478d-cece-e9b70428238b"
      },
      "source": [
        "### Creating a Binary Linear Classifier using Least Squares\n",
        "\n",
        "## Set the data for the dataset\n",
        "X = X_train[:,0:2]\n",
        "X = np.hstack((X,np.ones((X_train.shape[0], 1))))\n",
        "y = X_train[:,2].reshape(-1,1)\n",
        "\n",
        "## Compute for the weights\n",
        "pseudo_inv = np.linalg.inv(X.T @ X)\n",
        "weights = pseudo_inv @ (X.T @ y)\n",
        "weights"
      ],
      "execution_count": null,
      "outputs": [
        {
          "output_type": "execute_result",
          "data": {
            "text/plain": [
              "array([[0.00739642],\n",
              "       [0.2192233 ],\n",
              "       [0.46870667]])"
            ]
          },
          "metadata": {},
          "execution_count": 134
        }
      ]
    },
    {
      "cell_type": "code",
      "metadata": {
        "colab": {
          "base_uri": "https://localhost:8080/",
          "height": 497
        },
        "id": "QXs0K_WToJWC",
        "outputId": "f7f2bec7-4352-441e-cd90-c807df7987a8"
      },
      "source": [
        "## Visualize\n",
        "def class_plot(X, y, weights):\n",
        "  plt.figure(figsize=(8,8))\n",
        "\n",
        "  xmin, xmax = X[:,1].min()-1, X[:,1].max()+1\n",
        "  xaxis = np.linspace(xmin,xmax)\n",
        "  yaxis = -weights[0]/weights[-1] - (weights[1]/weights[-1])*xaxis\n",
        "\n",
        "  plt.scatter(X[:,0], X[:,1],c=y, cmap='jet')\n",
        "  plt.plot(xaxis,yaxis, label='decision boundary') \n",
        "\n",
        "  plt.legend()\n",
        "  plt.grid()\n",
        "  plt.xlabel('Feature')\n",
        "  plt.ylabel('Target')\n",
        "  plt.show()  \n",
        "\n",
        "class_plot(X,y,weights)"
      ],
      "execution_count": null,
      "outputs": [
        {
          "output_type": "display_data",
          "data": {
            "image/png": "[encoded data removed]",
            "text/plain": [
              "<Figure size 576x576 with 1 Axes>"
            ]
          },
          "metadata": {
            "needs_background": "light"
          }
        }
      ]
    },
    {
      "cell_type": "code",
      "metadata": {
        "colab": {
          "base_uri": "https://localhost:8080/"
        },
        "id": "tVt0iAMFw0y0",
        "outputId": "cde591c9-4466-4b53-e4ad-cb1eabbb7cea"
      },
      "source": [
        "## Create an inference instance to make predictions\n",
        "infer = lambda X : np.round(X@weights)\n",
        "X_test = np.array([0,2,1]) \n",
        "infer(X_test)"
      ],
      "execution_count": null,
      "outputs": [
        {
          "output_type": "execute_result",
          "data": {
            "text/plain": [
              "array([1.])"
            ]
          },
          "metadata": {},
          "execution_count": 152
        }
      ]
    },
    {
      "cell_type": "markdown",
      "metadata": {
        "id": "aGAh1Rw3ye2U"
      },
      "source": [
        "# Part 2: Metrics\n",
        "Just like any machine learning activity we need to determine its measures of robustness and success. In this section we will be identifying the error and explainability of models. We will be implementing `sklearn` for determining the necessary metrics."
      ]
    },
    {
      "cell_type": "code",
      "metadata": {
        "id": "8ioU5wpn_Dsf"
      },
      "source": [
        "from sklearn import metrics"
      ],
      "execution_count": null,
      "outputs": []
    },
    {
      "cell_type": "markdown",
      "metadata": {
        "id": "SL8ZGXsUyjAF"
      },
      "source": [
        "## 2.1 Error\n",
        "Just like in regression, we measure the robustness of a machine learning model. The most common loss function in classification by getting its vector norm. We generally formulate the vector norm as:\n",
        "$$J = ((y-\\hat{y})^N)^{-\\frac{1}{N}}$$\n",
        "Whereas $E$ is the norm or the cost of the model, $y$ is the targets, $\\hat{y}$ are the predictions, and $N$ is the dimension of the distance. The most common norm is the Euclidean norm having $N=2$."
      ]
    },
    {
      "cell_type": "code",
      "metadata": {
        "colab": {
          "base_uri": "https://localhost:8080/"
        },
        "id": "Xm45Q2GtyckE",
        "outputId": "a320e659-eae1-4e7a-a235-e4033aaef322"
      },
      "source": [
        "### L2 Error\n",
        "preds = infer(X)\n",
        "residuals = y - preds\n",
        "l2_error = np.sqrt(np.sum(np.square(residuals)))\n",
        "l2_error"
      ],
      "execution_count": null,
      "outputs": [
        {
          "output_type": "execute_result",
          "data": {
            "text/plain": [
              "2.23606797749979"
            ]
          },
          "metadata": {},
          "execution_count": 153
        }
      ]
    },
    {
      "cell_type": "markdown",
      "metadata": {
        "id": "lIfP6UBgy7qs"
      },
      "source": [
        "## 2.2 Explainability\n",
        "Classification will use a different approach for determining the explainability since we are dealing with categorical predictions rather than continuous. Here we use:\n",
        "* Accuracy\n",
        "* Precision\n",
        "* Recall\n",
        "* F1-Score"
      ]
    },
    {
      "cell_type": "code",
      "metadata": {
        "colab": {
          "base_uri": "https://localhost:8080/"
        },
        "id": "yQe79E1Py7J7",
        "outputId": "16455cdd-c442-47ba-c564-a6906702800a"
      },
      "source": [
        "### Accuracy\n",
        "accuracy = 1-np.mean(np.abs(residuals))\n",
        "accuracy"
      ],
      "execution_count": null,
      "outputs": [
        {
          "output_type": "execute_result",
          "data": {
            "text/plain": [
              "0.95"
            ]
          },
          "metadata": {},
          "execution_count": 154
        }
      ]
    },
    {
      "cell_type": "code",
      "metadata": {
        "colab": {
          "base_uri": "https://localhost:8080/"
        },
        "id": "sHAV15O0_GhH",
        "outputId": "b12e02eb-0275-4520-9aab-46337d3a98e1"
      },
      "source": [
        "metrics.accuracy_score(y,preds)"
      ],
      "execution_count": null,
      "outputs": [
        {
          "output_type": "execute_result",
          "data": {
            "text/plain": [
              "0.95"
            ]
          },
          "metadata": {},
          "execution_count": 170
        }
      ]
    },
    {
      "cell_type": "code",
      "metadata": {
        "colab": {
          "base_uri": "https://localhost:8080/",
          "height": 279
        },
        "id": "4ZWIz8AKzz-e",
        "outputId": "437e4db4-bb45-4318-906a-37c905b03f25"
      },
      "source": [
        "### Confusion Matrix\n",
        "\n",
        "conf_mat = confusion_matrix(y, preds)\n",
        "sns.heatmap(conf_mat, annot=True)\n",
        "plt.xlabel(\"Predicted\")\n",
        "plt.ylabel(\"Ground Truth\")\n",
        "plt.show()"
      ],
      "execution_count": null,
      "outputs": [
        {
          "output_type": "display_data",
          "data": {
            "image/png": "[encoded data removed]",
            "text/plain": [
              "<Figure size 432x288 with 2 Axes>"
            ]
          },
          "metadata": {
            "needs_background": "light"
          }
        }
      ]
    },
    {
      "cell_type": "code",
      "metadata": {
        "colab": {
          "base_uri": "https://localhost:8080/"
        },
        "id": "o4jg0BnD4a7d",
        "outputId": "e977f4c9-05c2-4034-d4ec-6674c561dfb5"
      },
      "source": [
        "conf_mat"
      ],
      "execution_count": null,
      "outputs": [
        {
          "output_type": "execute_result",
          "data": {
            "text/plain": [
              "array([[47,  3],\n",
              "       [ 2, 48]])"
            ]
          },
          "metadata": {},
          "execution_count": 159
        }
      ]
    },
    {
      "cell_type": "code",
      "metadata": {
        "id": "2SpBgLrH3wh-"
      },
      "source": [
        "true_neg = conf_mat[0,0]\n",
        "false_pos = conf_mat[0,1]\n",
        "false_neg = conf_mat[1,0]\n",
        "true_neg = conf_mat[1,1]"
      ],
      "execution_count": null,
      "outputs": []
    },
    {
      "cell_type": "code",
      "metadata": {
        "colab": {
          "base_uri": "https://localhost:8080/"
        },
        "id": "2zm8uw2x1Eq1",
        "outputId": "47eacd96-b729-4f42-dc9a-0f826b38cc1b"
      },
      "source": [
        "## Precision\n",
        "precision = true_pos/(true_pos+false_pos)\n",
        "precision"
      ],
      "execution_count": null,
      "outputs": [
        {
          "output_type": "execute_result",
          "data": {
            "text/plain": [
              "0.94"
            ]
          },
          "metadata": {},
          "execution_count": 163
        }
      ]
    },
    {
      "cell_type": "code",
      "metadata": {
        "colab": {
          "base_uri": "https://localhost:8080/"
        },
        "id": "YPFUjh-1_XAn",
        "outputId": "e1b8d9be-c841-4d31-8e23-e5f47a99ae47"
      },
      "source": [
        "metrics.precision_score(y, preds)"
      ],
      "execution_count": null,
      "outputs": [
        {
          "output_type": "execute_result",
          "data": {
            "text/plain": [
              "0.9411764705882353"
            ]
          },
          "metadata": {},
          "execution_count": 172
        }
      ]
    },
    {
      "cell_type": "code",
      "metadata": {
        "colab": {
          "base_uri": "https://localhost:8080/"
        },
        "id": "Zpe3lgos3roO",
        "outputId": "cac8f455-f878-459d-b39a-01305eba4ee0"
      },
      "source": [
        "## Recall\n",
        "recall = true_pos/(true_pos+false_neg)\n",
        "recall"
      ],
      "execution_count": null,
      "outputs": [
        {
          "output_type": "execute_result",
          "data": {
            "text/plain": [
              "0.9591836734693877"
            ]
          },
          "metadata": {},
          "execution_count": 164
        }
      ]
    },
    {
      "cell_type": "code",
      "metadata": {
        "colab": {
          "base_uri": "https://localhost:8080/"
        },
        "id": "NDYDUFze_cgZ",
        "outputId": "044e420d-ed87-4625-aaf7-3fe204f9722f"
      },
      "source": [
        "metrics.recall_score(y,preds)"
      ],
      "execution_count": null,
      "outputs": [
        {
          "output_type": "execute_result",
          "data": {
            "text/plain": [
              "0.96"
            ]
          },
          "metadata": {},
          "execution_count": 173
        }
      ]
    },
    {
      "cell_type": "code",
      "metadata": {
        "colab": {
          "base_uri": "https://localhost:8080/"
        },
        "id": "VNbcFdev8n1I",
        "outputId": "ac3a0d0f-c61c-4c24-af32-2c6822447b59"
      },
      "source": [
        "## F1-Score\n",
        "F1 = 2*(precision*recall)/(precision+recall)\n",
        "F1"
      ],
      "execution_count": null,
      "outputs": [
        {
          "output_type": "execute_result",
          "data": {
            "text/plain": [
              "0.9494949494949495"
            ]
          },
          "metadata": {},
          "execution_count": 165
        }
      ]
    },
    {
      "cell_type": "code",
      "metadata": {
        "colab": {
          "base_uri": "https://localhost:8080/"
        },
        "id": "7rI1_81M_qZ3",
        "outputId": "fae8ecba-7af0-43a2-a5c6-403d712a1950"
      },
      "source": [
        "metrics.f1_score(y,preds)"
      ],
      "execution_count": null,
      "outputs": [
        {
          "output_type": "execute_result",
          "data": {
            "text/plain": [
              "0.9504950495049505"
            ]
          },
          "metadata": {},
          "execution_count": 174
        }
      ]
    },
    {
      "cell_type": "markdown",
      "metadata": {
        "id": "Ef1tvsm8uLvC"
      },
      "source": [
        "# Part 3: Logistic Regression\n",
        "Logistic regression determines a relationship between predictor variables and a categorical target. Logistic regression can be used mainly in classification problems in machine learning where it determines the probability of an input being inclusive of a certain class or category. Logistic regression is mainly used in binary classification but it can be extended in multiple category classfication."
      ]
    },
    {
      "cell_type": "code",
      "metadata": {
        "id": "hH3nnrwauLbC"
      },
      "source": [
        "import pandas as pd\n",
        "from sklearn.linear_model import LogisticRegression"
      ],
      "execution_count": null,
      "outputs": []
    },
    {
      "cell_type": "code",
      "metadata": {
        "colab": {
          "base_uri": "https://localhost:8080/",
          "height": 203
        },
        "id": "NTWehnvL_rsK",
        "outputId": "3b78885a-0a4f-4de9-b656-9502d891c370"
      },
      "source": [
        "df_admit = pd.read_csv('/content/admitance-sats.csv')\n",
        "df_admit.head(5)"
      ],
      "execution_count": null,
      "outputs": [
        {
          "output_type": "execute_result",
          "data": {
            "text/html": [
              "<div>\n",
              "<style scoped>\n",
              "    .dataframe tbody tr th:only-of-type {\n",
              "        vertical-align: middle;\n",
              "    }\n",
              "\n",
              "    .dataframe tbody tr th {\n",
              "        vertical-align: top;\n",
              "    }\n",
              "\n",
              "    .dataframe thead th {\n",
              "        text-align: right;\n",
              "    }\n",
              "</style>\n",
              "<table border=\"1\" class=\"dataframe\">\n",
              "  <thead>\n",
              "    <tr style=\"text-align: right;\">\n",
              "      <th></th>\n",
              "      <th>SAT</th>\n",
              "      <th>Admitted</th>\n",
              "    </tr>\n",
              "  </thead>\n",
              "  <tbody>\n",
              "    <tr>\n",
              "      <th>0</th>\n",
              "      <td>1363</td>\n",
              "      <td>0</td>\n",
              "    </tr>\n",
              "    <tr>\n",
              "      <th>1</th>\n",
              "      <td>1792</td>\n",
              "      <td>1</td>\n",
              "    </tr>\n",
              "    <tr>\n",
              "      <th>2</th>\n",
              "      <td>1954</td>\n",
              "      <td>1</td>\n",
              "    </tr>\n",
              "    <tr>\n",
              "      <th>3</th>\n",
              "      <td>1653</td>\n",
              "      <td>0</td>\n",
              "    </tr>\n",
              "    <tr>\n",
              "      <th>4</th>\n",
              "      <td>1593</td>\n",
              "      <td>0</td>\n",
              "    </tr>\n",
              "  </tbody>\n",
              "</table>\n",
              "</div>"
            ],
            "text/plain": [
              "    SAT  Admitted\n",
              "0  1363         0\n",
              "1  1792         1\n",
              "2  1954         1\n",
              "3  1653         0\n",
              "4  1593         0"
            ]
          },
          "metadata": {},
          "execution_count": 4
        }
      ]
    },
    {
      "cell_type": "code",
      "metadata": {
        "id": "BjnHRn6X_zQY"
      },
      "source": [
        "X = df_admit['SAT'].to_numpy().reshape((-1,1))\n",
        "y = df_admit['Admitted'].to_numpy().reshape((-1,1))"
      ],
      "execution_count": null,
      "outputs": []
    },
    {
      "cell_type": "code",
      "metadata": {
        "colab": {
          "base_uri": "https://localhost:8080/"
        },
        "id": "oSbnzG_tAELi",
        "outputId": "aae86e67-84ba-4f19-9145-4aa80f244aeb"
      },
      "source": [
        "log_model = LogisticRegression(random_state=0)\n",
        "log_model.fit(X,y)"
      ],
      "execution_count": null,
      "outputs": [
        {
          "output_type": "stream",
          "name": "stderr",
          "text": [
            "/usr/local/lib/python3.7/dist-packages/sklearn/utils/validation.py:760: DataConversionWarning: A column-vector y was passed when a 1d array was expected. Please change the shape of y to (n_samples, ), for example using ravel().\n",
            "  y = column_or_1d(y, warn=True)\n"
          ]
        },
        {
          "output_type": "execute_result",
          "data": {
            "text/plain": [
              "LogisticRegression(C=1.0, class_weight=None, dual=False, fit_intercept=True,\n",
              "                   intercept_scaling=1, l1_ratio=None, max_iter=100,\n",
              "                   multi_class='auto', n_jobs=None, penalty='l2',\n",
              "                   random_state=0, solver='lbfgs', tol=0.0001, verbose=0,\n",
              "                   warm_start=False)"
            ]
          },
          "metadata": {},
          "execution_count": 7
        }
      ]
    },
    {
      "cell_type": "code",
      "metadata": {
        "id": "O4ZGn9N5ALfQ"
      },
      "source": [
        "preds = log_model.predict(X)"
      ],
      "execution_count": null,
      "outputs": []
    },
    {
      "cell_type": "code",
      "metadata": {
        "colab": {
          "base_uri": "https://localhost:8080/",
          "height": 265
        },
        "id": "KhcVwdx6ARVh",
        "outputId": "c94da422-e0ed-4f31-a4ed-e562e38c9eeb"
      },
      "source": [
        "plt.scatter(X,y, color='red')\n",
        "plt.scatter(X,preds, color='green')\n",
        "plt.grid()"
      ],
      "execution_count": null,
      "outputs": [
        {
          "output_type": "display_data",
          "data": {
            "image/png": "[encoded data removed]",
            "text/plain": [
              "<Figure size 432x288 with 1 Axes>"
            ]
          },
          "metadata": {
            "needs_background": "light"
          }
        }
      ]
    },
    {
      "cell_type": "code",
      "metadata": {
        "colab": {
          "base_uri": "https://localhost:8080/",
          "height": 279
        },
        "id": "R9lnJ7HuAqEY",
        "outputId": "d0e4e551-1ded-4912-fa70-3bdb05b2d202"
      },
      "source": [
        "conf_mat = metrics.confusion_matrix(y, preds)\n",
        "sns.heatmap(conf_mat, annot=True)\n",
        "plt.xlabel(\"Predicted\")\n",
        "plt.ylabel(\"Ground Truth\")\n",
        "plt.show()"
      ],
      "execution_count": null,
      "outputs": [
        {
          "output_type": "display_data",
          "data": {
            "image/png": "[encoded data removed]",
            "text/plain": [
              "<Figure size 432x288 with 2 Axes>"
            ]
          },
          "metadata": {
            "needs_background": "light"
          }
        }
      ]
    },
    {
      "cell_type": "code",
      "metadata": {
        "colab": {
          "base_uri": "https://localhost:8080/",
          "height": 80
        },
        "id": "8pfd2JDgA7Nx",
        "outputId": "a9245805-42a5-4cd6-c6bd-6b012abcd4e8"
      },
      "source": [
        "class_metrics = {\n",
        "    'accuracy': [metrics.accuracy_score(y, preds)],\n",
        "    'precision': [metrics.precision_score(y, preds)],\n",
        "    'recall': [metrics.recall_score(y,preds)],\n",
        "    'f1-score': [metrics.f1_score(y, preds)]\n",
        "}\n",
        "pd.DataFrame(class_metrics)"
      ],
      "execution_count": null,
      "outputs": [
        {
          "output_type": "execute_result",
          "data": {
            "text/html": [
              "<div>\n",
              "<style scoped>\n",
              "    .dataframe tbody tr th:only-of-type {\n",
              "        vertical-align: middle;\n",
              "    }\n",
              "\n",
              "    .dataframe tbody tr th {\n",
              "        vertical-align: top;\n",
              "    }\n",
              "\n",
              "    .dataframe thead th {\n",
              "        text-align: right;\n",
              "    }\n",
              "</style>\n",
              "<table border=\"1\" class=\"dataframe\">\n",
              "  <thead>\n",
              "    <tr style=\"text-align: right;\">\n",
              "      <th></th>\n",
              "      <th>accuracy</th>\n",
              "      <th>precision</th>\n",
              "      <th>recall</th>\n",
              "      <th>f1-score</th>\n",
              "    </tr>\n",
              "  </thead>\n",
              "  <tbody>\n",
              "    <tr>\n",
              "      <th>0</th>\n",
              "      <td>0.916667</td>\n",
              "      <td>0.925532</td>\n",
              "      <td>0.925532</td>\n",
              "      <td>0.925532</td>\n",
              "    </tr>\n",
              "  </tbody>\n",
              "</table>\n",
              "</div>"
            ],
            "text/plain": [
              "   accuracy  precision    recall  f1-score\n",
              "0  0.916667   0.925532  0.925532  0.925532"
            ]
          },
          "metadata": {},
          "execution_count": 22
        }
      ]
    },
    {
      "cell_type": "markdown",
      "metadata": {
        "id": "TLzh0eoBgRPz"
      },
      "source": [
        "## Laboratory Activity\n",
        "1. For the laboratory activity, obtain a dataset of your liking from a data source. Explain the purpose of the dataset and mention any publication if it is obtained from the source. Provide a needs statement and significance for the dataset.\n",
        "\n",
        "2. Identify an algorithm or method in performing a single variable classification using least squares or logistic regression. \n",
        "\n",
        "3. Present your solution implementing your algorithm of choice. You may use any library or package in this section. However, you are required to observe the following:\n",
        "\n",
        ">* Enforce object-oriented programming by implementing at least two of the pillars of OOP in the entirety of the solution.\n",
        "* Dedicated functions for training, predicting, and evaluating the solution.\n",
        "* A DataFrame of the metrics of the solution\n",
        "* A visualization of the solution’s results.\n"
      ]
    },
    {
      "cell_type": "markdown",
      "metadata": {
        "id": "fLBZFcNYLXAq"
      },
      "source": [
        "1. Car Price Prediction is the dataset we selected. The goal of this data set is for management to understand how prices vary in relation to the independent variables. They can then manipulate the design of the cars, the business strategy, and so on to meet certain price points. They will predict the prices of used cars. They will be developing a variety of Machine Learning and Deep Learning models using various architectures. Finally, they will compare the performance of machine learning models to deep learning models.\n",
        "\n"
      ]
    },
    {
      "cell_type": "markdown",
      "metadata": {
        "id": "REJsixra2Z9q"
      },
      "source": [
        "2. One algorithm that can perform a single variable classification is Multiple Logistic Regression. Multiple Logistic Regression is used to predict a variable using other variables. It can be used when there is a nominal variable and two or more measurement variables. A dependent variable (Y) stands as the nominal variable and a variable (X) influences the likelihood of getting a specific value for the variable (Y). The equation that best predicts the value of the Y variable for the values of the X variables is also found using multiple logistic regression. Assumptions also are needed to a data for getting an accurate output. a single variable classification can be performed using this when you are predicting a Binary Dependent Variable. In this case, You'll need a binary variable to predict. Two outcome categories are expected for getting  the outcome of the interest. One good application of this is in Education. When you want to predict the course status of a student based on his/her studying effort and his/her current grade. "
      ]
    },
    {
      "cell_type": "markdown",
      "metadata": {
        "id": "R8Ay1VfLggmI"
      },
      "source": [
        "TRYYY\n",
        "\n",
        "\n",
        "\n",
        "Dedicated functions for training, predicting, and evaluating the solution."
      ]
    },
    {
      "cell_type": "code",
      "source": [
        "import numpy as np \n",
        "import matplotlib.pyplot as plt\n",
        "import pandas as pd \n",
        "import seaborn as sns \n",
        "from sklearn import metrics \n",
        "from sklearn.linear_model import LogisticRegression"
      ],
      "metadata": {
        "id": "Efc4kkhqt_ka"
      },
      "execution_count": null,
      "outputs": []
    },
    {
      "cell_type": "code",
      "source": [
        "df = pd.read_csv('https://raw.githubusercontent.com/maryadriennerdrgz/CpE-AIML/main/Data/CarPrice_Assignment.csv')\n",
        "df"
      ],
      "metadata": {
        "colab": {
          "base_uri": "https://localhost:8080/",
          "height": 513
        },
        "id": "ZcPguBjwwLCQ",
        "outputId": "c1bf6e54-ffc1-428b-c868-1653f9e1d532"
      },
      "execution_count": null,
      "outputs": [
        {
          "output_type": "execute_result",
          "data": {
            "text/html": [
              "<div>\n",
              "<style scoped>\n",
              "    .dataframe tbody tr th:only-of-type {\n",
              "        vertical-align: middle;\n",
              "    }\n",
              "\n",
              "    .dataframe tbody tr th {\n",
              "        vertical-align: top;\n",
              "    }\n",
              "\n",
              "    .dataframe thead th {\n",
              "        text-align: right;\n",
              "    }\n",
              "</style>\n",
              "<table border=\"1\" class=\"dataframe\">\n",
              "  <thead>\n",
              "    <tr style=\"text-align: right;\">\n",
              "      <th></th>\n",
              "      <th>car_ID</th>\n",
              "      <th>symboling</th>\n",
              "      <th>CarName</th>\n",
              "      <th>fueltype</th>\n",
              "      <th>aspiration</th>\n",
              "      <th>doornumber</th>\n",
              "      <th>carbody</th>\n",
              "      <th>drivewheel</th>\n",
              "      <th>enginelocation</th>\n",
              "      <th>wheelbase</th>\n",
              "      <th>carlength</th>\n",
              "      <th>carwidth</th>\n",
              "      <th>carheight</th>\n",
              "      <th>curbweight</th>\n",
              "      <th>enginetype</th>\n",
              "      <th>cylindernumber</th>\n",
              "      <th>enginesize</th>\n",
              "      <th>fuelsystem</th>\n",
              "      <th>boreratio</th>\n",
              "      <th>stroke</th>\n",
              "      <th>compressionratio</th>\n",
              "      <th>horsepower</th>\n",
              "      <th>peakrpm</th>\n",
              "      <th>citympg</th>\n",
              "      <th>highwaympg</th>\n",
              "      <th>price</th>\n",
              "    </tr>\n",
              "  </thead>\n",
              "  <tbody>\n",
              "    <tr>\n",
              "      <th>0</th>\n",
              "      <td>1</td>\n",
              "      <td>3</td>\n",
              "      <td>alfa-romero giulia</td>\n",
              "      <td>gas</td>\n",
              "      <td>std</td>\n",
              "      <td>two</td>\n",
              "      <td>convertible</td>\n",
              "      <td>rwd</td>\n",
              "      <td>front</td>\n",
              "      <td>88.6</td>\n",
              "      <td>168.8</td>\n",
              "      <td>64.1</td>\n",
              "      <td>48.8</td>\n",
              "      <td>2548</td>\n",
              "      <td>dohc</td>\n",
              "      <td>four</td>\n",
              "      <td>130</td>\n",
              "      <td>mpfi</td>\n",
              "      <td>3.47</td>\n",
              "      <td>2.68</td>\n",
              "      <td>9.0</td>\n",
              "      <td>111</td>\n",
              "      <td>5000</td>\n",
              "      <td>21</td>\n",
              "      <td>27</td>\n",
              "      <td>13495.0</td>\n",
              "    </tr>\n",
              "    <tr>\n",
              "      <th>1</th>\n",
              "      <td>2</td>\n",
              "      <td>3</td>\n",
              "      <td>alfa-romero stelvio</td>\n",
              "      <td>gas</td>\n",
              "      <td>std</td>\n",
              "      <td>two</td>\n",
              "      <td>convertible</td>\n",
              "      <td>rwd</td>\n",
              "      <td>front</td>\n",
              "      <td>88.6</td>\n",
              "      <td>168.8</td>\n",
              "      <td>64.1</td>\n",
              "      <td>48.8</td>\n",
              "      <td>2548</td>\n",
              "      <td>dohc</td>\n",
              "      <td>four</td>\n",
              "      <td>130</td>\n",
              "      <td>mpfi</td>\n",
              "      <td>3.47</td>\n",
              "      <td>2.68</td>\n",
              "      <td>9.0</td>\n",
              "      <td>111</td>\n",
              "      <td>5000</td>\n",
              "      <td>21</td>\n",
              "      <td>27</td>\n",
              "      <td>16500.0</td>\n",
              "    </tr>\n",
              "    <tr>\n",
              "      <th>2</th>\n",
              "      <td>3</td>\n",
              "      <td>1</td>\n",
              "      <td>alfa-romero Quadrifoglio</td>\n",
              "      <td>gas</td>\n",
              "      <td>std</td>\n",
              "      <td>two</td>\n",
              "      <td>hatchback</td>\n",
              "      <td>rwd</td>\n",
              "      <td>front</td>\n",
              "      <td>94.5</td>\n",
              "      <td>171.2</td>\n",
              "      <td>65.5</td>\n",
              "      <td>52.4</td>\n",
              "      <td>2823</td>\n",
              "      <td>ohcv</td>\n",
              "      <td>six</td>\n",
              "      <td>152</td>\n",
              "      <td>mpfi</td>\n",
              "      <td>2.68</td>\n",
              "      <td>3.47</td>\n",
              "      <td>9.0</td>\n",
              "      <td>154</td>\n",
              "      <td>5000</td>\n",
              "      <td>19</td>\n",
              "      <td>26</td>\n",
              "      <td>16500.0</td>\n",
              "    </tr>\n",
              "    <tr>\n",
              "      <th>3</th>\n",
              "      <td>4</td>\n",
              "      <td>2</td>\n",
              "      <td>audi 100 ls</td>\n",
              "      <td>gas</td>\n",
              "      <td>std</td>\n",
              "      <td>four</td>\n",
              "      <td>sedan</td>\n",
              "      <td>fwd</td>\n",
              "      <td>front</td>\n",
              "      <td>99.8</td>\n",
              "      <td>176.6</td>\n",
              "      <td>66.2</td>\n",
              "      <td>54.3</td>\n",
              "      <td>2337</td>\n",
              "      <td>ohc</td>\n",
              "      <td>four</td>\n",
              "      <td>109</td>\n",
              "      <td>mpfi</td>\n",
              "      <td>3.19</td>\n",
              "      <td>3.40</td>\n",
              "      <td>10.0</td>\n",
              "      <td>102</td>\n",
              "      <td>5500</td>\n",
              "      <td>24</td>\n",
              "      <td>30</td>\n",
              "      <td>13950.0</td>\n",
              "    </tr>\n",
              "    <tr>\n",
              "      <th>4</th>\n",
              "      <td>5</td>\n",
              "      <td>2</td>\n",
              "      <td>audi 100ls</td>\n",
              "      <td>gas</td>\n",
              "      <td>std</td>\n",
              "      <td>four</td>\n",
              "      <td>sedan</td>\n",
              "      <td>4wd</td>\n",
              "      <td>front</td>\n",
              "      <td>99.4</td>\n",
              "      <td>176.6</td>\n",
              "      <td>66.4</td>\n",
              "      <td>54.3</td>\n",
              "      <td>2824</td>\n",
              "      <td>ohc</td>\n",
              "      <td>five</td>\n",
              "      <td>136</td>\n",
              "      <td>mpfi</td>\n",
              "      <td>3.19</td>\n",
              "      <td>3.40</td>\n",
              "      <td>8.0</td>\n",
              "      <td>115</td>\n",
              "      <td>5500</td>\n",
              "      <td>18</td>\n",
              "      <td>22</td>\n",
              "      <td>17450.0</td>\n",
              "    </tr>\n",
              "    <tr>\n",
              "      <th>...</th>\n",
              "      <td>...</td>\n",
              "      <td>...</td>\n",
              "      <td>...</td>\n",
              "      <td>...</td>\n",
              "      <td>...</td>\n",
              "      <td>...</td>\n",
              "      <td>...</td>\n",
              "      <td>...</td>\n",
              "      <td>...</td>\n",
              "      <td>...</td>\n",
              "      <td>...</td>\n",
              "      <td>...</td>\n",
              "      <td>...</td>\n",
              "      <td>...</td>\n",
              "      <td>...</td>\n",
              "      <td>...</td>\n",
              "      <td>...</td>\n",
              "      <td>...</td>\n",
              "      <td>...</td>\n",
              "      <td>...</td>\n",
              "      <td>...</td>\n",
              "      <td>...</td>\n",
              "      <td>...</td>\n",
              "      <td>...</td>\n",
              "      <td>...</td>\n",
              "      <td>...</td>\n",
              "    </tr>\n",
              "    <tr>\n",
              "      <th>200</th>\n",
              "      <td>201</td>\n",
              "      <td>-1</td>\n",
              "      <td>volvo 145e (sw)</td>\n",
              "      <td>gas</td>\n",
              "      <td>std</td>\n",
              "      <td>four</td>\n",
              "      <td>sedan</td>\n",
              "      <td>rwd</td>\n",
              "      <td>front</td>\n",
              "      <td>109.1</td>\n",
              "      <td>188.8</td>\n",
              "      <td>68.9</td>\n",
              "      <td>55.5</td>\n",
              "      <td>2952</td>\n",
              "      <td>ohc</td>\n",
              "      <td>four</td>\n",
              "      <td>141</td>\n",
              "      <td>mpfi</td>\n",
              "      <td>3.78</td>\n",
              "      <td>3.15</td>\n",
              "      <td>9.5</td>\n",
              "      <td>114</td>\n",
              "      <td>5400</td>\n",
              "      <td>23</td>\n",
              "      <td>28</td>\n",
              "      <td>16845.0</td>\n",
              "    </tr>\n",
              "    <tr>\n",
              "      <th>201</th>\n",
              "      <td>202</td>\n",
              "      <td>-1</td>\n",
              "      <td>volvo 144ea</td>\n",
              "      <td>gas</td>\n",
              "      <td>turbo</td>\n",
              "      <td>four</td>\n",
              "      <td>sedan</td>\n",
              "      <td>rwd</td>\n",
              "      <td>front</td>\n",
              "      <td>109.1</td>\n",
              "      <td>188.8</td>\n",
              "      <td>68.8</td>\n",
              "      <td>55.5</td>\n",
              "      <td>3049</td>\n",
              "      <td>ohc</td>\n",
              "      <td>four</td>\n",
              "      <td>141</td>\n",
              "      <td>mpfi</td>\n",
              "      <td>3.78</td>\n",
              "      <td>3.15</td>\n",
              "      <td>8.7</td>\n",
              "      <td>160</td>\n",
              "      <td>5300</td>\n",
              "      <td>19</td>\n",
              "      <td>25</td>\n",
              "      <td>19045.0</td>\n",
              "    </tr>\n",
              "    <tr>\n",
              "      <th>202</th>\n",
              "      <td>203</td>\n",
              "      <td>-1</td>\n",
              "      <td>volvo 244dl</td>\n",
              "      <td>gas</td>\n",
              "      <td>std</td>\n",
              "      <td>four</td>\n",
              "      <td>sedan</td>\n",
              "      <td>rwd</td>\n",
              "      <td>front</td>\n",
              "      <td>109.1</td>\n",
              "      <td>188.8</td>\n",
              "      <td>68.9</td>\n",
              "      <td>55.5</td>\n",
              "      <td>3012</td>\n",
              "      <td>ohcv</td>\n",
              "      <td>six</td>\n",
              "      <td>173</td>\n",
              "      <td>mpfi</td>\n",
              "      <td>3.58</td>\n",
              "      <td>2.87</td>\n",
              "      <td>8.8</td>\n",
              "      <td>134</td>\n",
              "      <td>5500</td>\n",
              "      <td>18</td>\n",
              "      <td>23</td>\n",
              "      <td>21485.0</td>\n",
              "    </tr>\n",
              "    <tr>\n",
              "      <th>203</th>\n",
              "      <td>204</td>\n",
              "      <td>-1</td>\n",
              "      <td>volvo 246</td>\n",
              "      <td>diesel</td>\n",
              "      <td>turbo</td>\n",
              "      <td>four</td>\n",
              "      <td>sedan</td>\n",
              "      <td>rwd</td>\n",
              "      <td>front</td>\n",
              "      <td>109.1</td>\n",
              "      <td>188.8</td>\n",
              "      <td>68.9</td>\n",
              "      <td>55.5</td>\n",
              "      <td>3217</td>\n",
              "      <td>ohc</td>\n",
              "      <td>six</td>\n",
              "      <td>145</td>\n",
              "      <td>idi</td>\n",
              "      <td>3.01</td>\n",
              "      <td>3.40</td>\n",
              "      <td>23.0</td>\n",
              "      <td>106</td>\n",
              "      <td>4800</td>\n",
              "      <td>26</td>\n",
              "      <td>27</td>\n",
              "      <td>22470.0</td>\n",
              "    </tr>\n",
              "    <tr>\n",
              "      <th>204</th>\n",
              "      <td>205</td>\n",
              "      <td>-1</td>\n",
              "      <td>volvo 264gl</td>\n",
              "      <td>gas</td>\n",
              "      <td>turbo</td>\n",
              "      <td>four</td>\n",
              "      <td>sedan</td>\n",
              "      <td>rwd</td>\n",
              "      <td>front</td>\n",
              "      <td>109.1</td>\n",
              "      <td>188.8</td>\n",
              "      <td>68.9</td>\n",
              "      <td>55.5</td>\n",
              "      <td>3062</td>\n",
              "      <td>ohc</td>\n",
              "      <td>four</td>\n",
              "      <td>141</td>\n",
              "      <td>mpfi</td>\n",
              "      <td>3.78</td>\n",
              "      <td>3.15</td>\n",
              "      <td>9.5</td>\n",
              "      <td>114</td>\n",
              "      <td>5400</td>\n",
              "      <td>19</td>\n",
              "      <td>25</td>\n",
              "      <td>22625.0</td>\n",
              "    </tr>\n",
              "  </tbody>\n",
              "</table>\n",
              "<p>205 rows × 26 columns</p>\n",
              "</div>"
            ],
            "text/plain": [
              "     car_ID  symboling                   CarName  ... citympg highwaympg    price\n",
              "0         1          3        alfa-romero giulia  ...      21         27  13495.0\n",
              "1         2          3       alfa-romero stelvio  ...      21         27  16500.0\n",
              "2         3          1  alfa-romero Quadrifoglio  ...      19         26  16500.0\n",
              "3         4          2               audi 100 ls  ...      24         30  13950.0\n",
              "4         5          2                audi 100ls  ...      18         22  17450.0\n",
              "..      ...        ...                       ...  ...     ...        ...      ...\n",
              "200     201         -1           volvo 145e (sw)  ...      23         28  16845.0\n",
              "201     202         -1               volvo 144ea  ...      19         25  19045.0\n",
              "202     203         -1               volvo 244dl  ...      18         23  21485.0\n",
              "203     204         -1                 volvo 246  ...      26         27  22470.0\n",
              "204     205         -1               volvo 264gl  ...      19         25  22625.0\n",
              "\n",
              "[205 rows x 26 columns]"
            ]
          },
          "metadata": {},
          "execution_count": 10
        }
      ]
    },
    {
      "cell_type": "code",
      "source": [
        "class LRegression():\n",
        "  def train(self,X,y):\n",
        "    if len(X.shape) == 1: X = self._reshape_x(X)\n",
        "    X = self._concatenate_ones(X)\n",
        "    self.coefficients = np.linalg.inv(X.transpose().dot(X)).dot(X.transpose()).dot(y)\n",
        "\n",
        "  def predict(self):\n",
        "    log_model = LogisticRegression(random_state=0)\n",
        "    log_model.fit(X,y)\n",
        "    predicts = log_model.predict(X)\n",
        "    return predicts\n",
        "  \n",
        "  def evaluate(self,X,y):\n",
        "    class_metrics = {\n",
        "    'accuracy': [metrics.accuracy_score(y,predicts)],\n",
        "    'precision': [metrics.precision_score(y,predicts)],\n",
        "    'recall': [metrics.recall_score(y,predicts)],\n",
        "    'f1-score': [metrics.f1_score(y,predicts)]}\n",
        "    dataf = pd.DataFrame(class_metrics)\n",
        "    return dataf\n",
        "\n",
        "  def visualize(self,X,y):\n",
        "    log_model = LogisticRegression(random_state=0)\n",
        "    log_model.fit(X,y)\n",
        "    predicts = log_model.predict(X)\n",
        "    plt.figure()\n",
        "    plt.scatter(X,y, color='red')\n",
        "    plt.scatter(X,predicts, color='green')\n",
        "    plt.grid()\n",
        "    plt.figure()\n",
        "    conf_mat = metrics.confusion_matrix(y,predicts)\n",
        "    sns.heatmap(conf_mat, annot=True)\n",
        "    plt.xlabel(\"Predicted\")\n",
        "    plt.ylabel(\"Ground Truth\")\n",
        "    return plt.show()\n",
        "\n",
        "  def __init__(self):\n",
        "    self.model_ = self.train(X,y)\n",
        "  \n",
        "  def _reshape_x(self,X):\n",
        "    return X.reshape(-1,1)\n",
        "\n",
        "  def _concatenate_ones(self,X):\n",
        "    ones = np.ones(shape = X.shape[0]).reshape(-1,1)\n",
        "    return np.concatenate((ones,X),1)"
      ],
      "metadata": {
        "id": "96_u3dZQuEB4"
      },
      "execution_count": null,
      "outputs": []
    },
    {
      "cell_type": "code",
      "source": [
        "car = pd.read_csv('https://raw.githubusercontent.com/maryadriennerdrgz/CpE-AIML/main/Data/CarPrice_Assignment.csv').head(100)\n",
        "X = car['horsepower'].to_numpy().reshape((-1,1))\n",
        "y = car['peakrpm'].to_numpy().reshape((-1,1))"
      ],
      "metadata": {
        "id": "PLAH4HWSuFhA"
      },
      "execution_count": null,
      "outputs": []
    },
    {
      "cell_type": "code",
      "source": [
        "regressor = LRegression()"
      ],
      "metadata": {
        "id": "XN_OohBiuHMw"
      },
      "execution_count": null,
      "outputs": []
    },
    {
      "cell_type": "code",
      "source": [
        "regressor.predict()"
      ],
      "metadata": {
        "colab": {
          "base_uri": "https://localhost:8080/"
        },
        "id": "PeAwDpLKuIp5",
        "outputId": "c82cd6b4-783a-400d-a993-030f22c0dcc4"
      },
      "execution_count": null,
      "outputs": [
        {
          "output_type": "stream",
          "name": "stderr",
          "text": [
            "/usr/local/lib/python3.7/dist-packages/sklearn/utils/validation.py:985: DataConversionWarning: A column-vector y was passed when a 1d array was expected. Please change the shape of y to (n_samples, ), for example using ravel().\n",
            "  y = column_or_1d(y, warn=True)\n",
            "/usr/local/lib/python3.7/dist-packages/sklearn/linear_model/_logistic.py:818: ConvergenceWarning: lbfgs failed to converge (status=1):\n",
            "STOP: TOTAL NO. of ITERATIONS REACHED LIMIT.\n",
            "\n",
            "Increase the number of iterations (max_iter) or scale the data as shown in:\n",
            "    https://scikit-learn.org/stable/modules/preprocessing.html\n",
            "Please also refer to the documentation for alternative solver options:\n",
            "    https://scikit-learn.org/stable/modules/linear_model.html#logistic-regression\n",
            "  extra_warning_msg=_LOGISTIC_SOLVER_CONVERGENCE_MSG,\n"
          ]
        },
        {
          "output_type": "execute_result",
          "data": {
            "text/plain": [
              "array([5000, 5000, 5000, 5500, 5000, 5000, 5000, 5000, 5000, 5000, 5500,\n",
              "       5500, 5000, 5000, 5000, 5000, 5000, 5000, 5200, 5500, 5500, 5500,\n",
              "       5500, 5500, 5500, 5500, 5500, 5500, 5500, 5000, 5200, 5500, 5200,\n",
              "       5500, 5500, 5500, 5500, 5500, 5500, 5500, 5500, 5500, 5500, 5500,\n",
              "       5500, 5500, 5500, 5000, 5000, 4750, 5500, 5500, 5500, 5500, 5500,\n",
              "       5500, 5500, 5500, 5000, 5500, 5500, 5500, 5500, 5200, 5500, 5000,\n",
              "       5500, 5000, 5000, 5000, 5000, 5000, 5000, 5000, 5000, 5000, 5500,\n",
              "       5500, 5500, 5500, 5000, 5500, 5000, 5000, 5000, 5500, 5500, 5000,\n",
              "       5000, 5500, 5200, 5500, 5500, 5500, 5500, 5500, 5500, 5500, 5500,\n",
              "       5500])"
            ]
          },
          "metadata": {},
          "execution_count": 37
        }
      ]
    },
    {
      "cell_type": "code",
      "source": [
        "regressor.visualize(X,y)"
      ],
      "metadata": {
        "colab": {
          "base_uri": "https://localhost:8080/",
          "height": 721
        },
        "id": "ttoug7E6uKmo",
        "outputId": "38bef0a7-db3b-4b57-ae11-c3781eb55563"
      },
      "execution_count": null,
      "outputs": [
        {
          "output_type": "stream",
          "name": "stderr",
          "text": [
            "/usr/local/lib/python3.7/dist-packages/sklearn/utils/validation.py:985: DataConversionWarning: A column-vector y was passed when a 1d array was expected. Please change the shape of y to (n_samples, ), for example using ravel().\n",
            "  y = column_or_1d(y, warn=True)\n",
            "/usr/local/lib/python3.7/dist-packages/sklearn/linear_model/_logistic.py:818: ConvergenceWarning: lbfgs failed to converge (status=1):\n",
            "STOP: TOTAL NO. of ITERATIONS REACHED LIMIT.\n",
            "\n",
            "Increase the number of iterations (max_iter) or scale the data as shown in:\n",
            "    https://scikit-learn.org/stable/modules/preprocessing.html\n",
            "Please also refer to the documentation for alternative solver options:\n",
            "    https://scikit-learn.org/stable/modules/linear_model.html#logistic-regression\n",
            "  extra_warning_msg=_LOGISTIC_SOLVER_CONVERGENCE_MSG,\n"
          ]
        },
        {
          "output_type": "display_data",
          "data": {
            "image/png": "[encoded data removed]",
            "text/plain": [
              "<Figure size 432x288 with 1 Axes>"
            ]
          },
          "metadata": {
            "needs_background": "light"
          }
        },
        {
          "output_type": "display_data",
          "data": {
            "image/png": "[encoded data removed]",
            "text/plain": [
              "<Figure size 432x288 with 2 Axes>"
            ]
          },
          "metadata": {
            "needs_background": "light"
          }
        }
      ]
    },
    {
      "cell_type": "code",
      "source": [
        "#Visualization\n",
        "plt.figure(figsize=(30,20))\n",
        "plt.xlim({0,600})\n",
        "sns.lineplot(data=df, x='horsepower', y='peakrpm')"
      ],
      "metadata": {
        "colab": {
          "base_uri": "https://localhost:8080/",
          "height": 952
        },
        "id": "F8yESNLow4Ti",
        "outputId": "b4069c20-aa6b-4e5f-d4ec-2829bc3b4c26"
      },
      "execution_count": null,
      "outputs": [
        {
          "output_type": "execute_result",
          "data": {
            "text/plain": [
              "<matplotlib.axes._subplots.AxesSubplot at 0x7f3fa3c41090>"
            ]
          },
          "metadata": {},
          "execution_count": 42
        },
        {
          "output_type": "display_data",
          "data": {
            "image/png": "[encoded data removed]",
            "text/plain": [
              "<Figure size 2160x1440 with 1 Axes>"
            ]
          },
          "metadata": {
            "needs_background": "light"
          }
        }
      ]
    },
    {
      "cell_type": "markdown",
      "source": [
        "REFERENCES\n",
        "\n",
        "[1] Shalini Goyal “Car Price Prediction (Linear Regression - RFE),” Kaggle, 2018. [Online]. Available: https://www.kaggle.com/mathurinache/covid19-mortality-by-vaccination-status. [Accessed: 08-Dec-2021]."
      ],
      "metadata": {
        "id": "BnM8fT2Rb3ri"
      }
    }
  ]
}